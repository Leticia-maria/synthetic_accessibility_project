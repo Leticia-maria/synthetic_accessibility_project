{
 "cells": [
  {
   "cell_type": "code",
   "execution_count": 1,
   "metadata": {},
   "outputs": [],
   "source": [
    "import stk\n",
    "from pathlib import Path\n",
    "import sys\n",
    "from random import shuffle\n",
    "import os"
   ]
  },
  {
   "cell_type": "code",
   "execution_count": 2,
   "metadata": {},
   "outputs": [],
   "source": [
    "sys.path.append('/rdsgpfs/general/user/sb2518/home/WORK/main_projects/synthetic_accessibility_project/stages/stage2_evolutionary_algorithm/create_image/case_studies/case_study_3/parametrisation')\n",
    "sys.path.append('/rds/general/user/sb2518/home/WORK/main_projects/synthetic_accessibility_project/stages/stage2_evolutionary_algorithm/create_image')\n",
    "from fitness import fitness_calculator"
   ]
  },
  {
   "cell_type": "code",
   "execution_count": 6,
   "metadata": {},
   "outputs": [],
   "source": [
    "finished_runs = list(Path.cwd().glob('case_study*/**/run*_finished'))"
   ]
  },
  {
   "cell_type": "code",
   "execution_count": 12,
   "metadata": {},
   "outputs": [],
   "source": [
    "shuffle(finished_runs)"
   ]
  },
  {
   "cell_type": "code",
   "execution_count": null,
   "metadata": {},
   "outputs": [],
   "source": [
    "for i, run in enumerate(finished_runs):\n",
    "    running_file = run.joinpath('temp_run')\n",
    "    if running_file.exists():\n",
    "        continue\n",
    "    else:\n",
    "        print('Created file for run.')\n",
    "        os.mknod(str(running_file))\n",
    "    for generation in run.glob('stk_ea_runs/0/scratch/generation_*.json'):\n",
    "        print(f'Loading {generation.stem}')\n",
    "        generation_num = str(generation.stem).split('_')[1]\n",
    "        pop = stk.EAPopulation.load(str(generation))\n",
    "        print(f'{len(pop)} cages have been loaded from the generation.')\n",
    "        print(f'Setting fitness values using calculator.')\n",
    "        pop.set_fitness_values_from_calculators(\n",
    "            fitness_calculator,\n",
    "            num_processes=1,\n",
    "        )\n",
    "        if not write_path.exists():\n",
    "            write_path = run.joinpath('stk_ea_runs', f'fitness_generation_{generation_num}.json')\n",
    "            print(f'Writing generation {generation_num} to {str(write_path)}.')\n",
    "            pop.dump(str(write_path), include_attrs=['sa_score', 'pore_diameter', 'largest_window', 'window_std', 'sc_score'], ignore_missing_attrs=False)\n",
    "        else:\n",
    "            print(f'{write_path} already exists.')\n",
    "    print('Removed file for run.')\n",
    "    os.remove(str(running_file))\n",
    "        "
   ]
  },
  {
   "cell_type": "code",
   "execution_count": 33,
   "metadata": {},
   "outputs": [
    {
     "data": {
      "text/plain": [
       "'/rdsgpfs/general/user/sb2518/home/WORK/main_projects/synthetic_accessibility_project/stages/stage2_evolutionary_algorithm/create_image/case_studies'"
      ]
     },
     "execution_count": 33,
     "metadata": {},
     "output_type": "execute_result"
    }
   ],
   "source": [
    "pwd"
   ]
  },
  {
   "cell_type": "code",
   "execution_count": null,
   "metadata": {},
   "outputs": [],
   "source": []
  }
 ],
 "metadata": {
  "kernelspec": {
   "display_name": "Python 3.7",
   "language": "python",
   "name": "py37"
  },
  "language_info": {
   "codemirror_mode": {
    "name": "ipython",
    "version": 3
   },
   "file_extension": ".py",
   "mimetype": "text/x-python",
   "name": "python",
   "nbconvert_exporter": "python",
   "pygments_lexer": "ipython3",
   "version": "3.7.3"
  }
 },
 "nbformat": 4,
 "nbformat_minor": 2
}
