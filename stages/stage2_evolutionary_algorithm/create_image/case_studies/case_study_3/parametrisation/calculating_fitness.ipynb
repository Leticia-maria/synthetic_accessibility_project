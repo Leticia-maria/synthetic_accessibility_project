{
 "cells": [
  {
   "cell_type": "code",
   "execution_count": 2,
   "metadata": {},
   "outputs": [],
   "source": [
    "from fitness import fitness_calculator, sa_score\n",
    "from pathlib import Path\n",
    "import logging\n",
    "import sys\n",
    "import os\n",
    "import json\n",
    "import stk\n",
    "%autoreload 2"
   ]
  },
  {
   "cell_type": "code",
   "execution_count": 3,
   "metadata": {},
   "outputs": [],
   "source": [
    "pop_paths = Path('/Users/stevenbennett/PhD/main_projects/synthetic_accessibility_project/stages/stage2_evolutionary_algorithm/create_image/case_studies/case_study_3/optimised_database/opt_pops/').glob('population_opt*/population_opt*')"
   ]
  },
  {
   "cell_type": "code",
   "execution_count": 4,
   "metadata": {},
   "outputs": [],
   "source": [
    "logging.basicConfig(stream=sys.stdout, level=logging.ERROR)"
   ]
  },
  {
   "cell_type": "code",
   "execution_count": 5,
   "metadata": {},
   "outputs": [
    {
     "name": "stdout",
     "output_type": "stream",
     "text": [
      "Loading /Users/stevenbennett/PhD/main_projects/synthetic_accessibility_project/stages/stage2_evolutionary_algorithm/create_image/case_studies/case_study_3/optimised_database/opt_pops/population_opt14/population_opt14.json.\n",
      "980 cages have been loaded.\n",
      "Writing to /Users/stevenbennett/PhD/main_projects/synthetic_accessibility_project/stages/stage2_evolutionary_algorithm/create_image/case_studies/case_study_3/optimised_database/opt_pops/population_opt14.\n",
      "Loading /Users/stevenbennett/PhD/main_projects/synthetic_accessibility_project/stages/stage2_evolutionary_algorithm/create_image/case_studies/case_study_3/optimised_database/opt_pops/population_opt15/population_opt15.json.\n",
      "980 cages have been loaded.\n",
      "Writing to /Users/stevenbennett/PhD/main_projects/synthetic_accessibility_project/stages/stage2_evolutionary_algorithm/create_image/case_studies/case_study_3/optimised_database/opt_pops/population_opt15.\n",
      "Loading /Users/stevenbennett/PhD/main_projects/synthetic_accessibility_project/stages/stage2_evolutionary_algorithm/create_image/case_studies/case_study_3/optimised_database/opt_pops/population_opt12/population_opt12.json.\n",
      "980 cages have been loaded.\n",
      "Writing to /Users/stevenbennett/PhD/main_projects/synthetic_accessibility_project/stages/stage2_evolutionary_algorithm/create_image/case_studies/case_study_3/optimised_database/opt_pops/population_opt12.\n",
      "Loading /Users/stevenbennett/PhD/main_projects/synthetic_accessibility_project/stages/stage2_evolutionary_algorithm/create_image/case_studies/case_study_3/optimised_database/opt_pops/population_opt8/population_opt8.json.\n",
      "980 cages have been loaded.\n",
      "Writing to /Users/stevenbennett/PhD/main_projects/synthetic_accessibility_project/stages/stage2_evolutionary_algorithm/create_image/case_studies/case_study_3/optimised_database/opt_pops/population_opt8.\n",
      "Loading /Users/stevenbennett/PhD/main_projects/synthetic_accessibility_project/stages/stage2_evolutionary_algorithm/create_image/case_studies/case_study_3/optimised_database/opt_pops/population_opt1/population_opt1.json.\n",
      "980 cages have been loaded.\n",
      "Writing to /Users/stevenbennett/PhD/main_projects/synthetic_accessibility_project/stages/stage2_evolutionary_algorithm/create_image/case_studies/case_study_3/optimised_database/opt_pops/population_opt1.\n",
      "Loading /Users/stevenbennett/PhD/main_projects/synthetic_accessibility_project/stages/stage2_evolutionary_algorithm/create_image/case_studies/case_study_3/optimised_database/opt_pops/population_opt6/population_opt6.json.\n",
      "980 cages have been loaded.\n",
      "Writing to /Users/stevenbennett/PhD/main_projects/synthetic_accessibility_project/stages/stage2_evolutionary_algorithm/create_image/case_studies/case_study_3/optimised_database/opt_pops/population_opt6.\n",
      "Loading /Users/stevenbennett/PhD/main_projects/synthetic_accessibility_project/stages/stage2_evolutionary_algorithm/create_image/case_studies/case_study_3/optimised_database/opt_pops/population_opt7/population_opt7.json.\n",
      "980 cages have been loaded.\n",
      "Writing to /Users/stevenbennett/PhD/main_projects/synthetic_accessibility_project/stages/stage2_evolutionary_algorithm/create_image/case_studies/case_study_3/optimised_database/opt_pops/population_opt7.\n",
      "Loading /Users/stevenbennett/PhD/main_projects/synthetic_accessibility_project/stages/stage2_evolutionary_algorithm/create_image/case_studies/case_study_3/optimised_database/opt_pops/population_opt9/population_opt9.json.\n",
      "980 cages have been loaded.\n",
      "Writing to /Users/stevenbennett/PhD/main_projects/synthetic_accessibility_project/stages/stage2_evolutionary_algorithm/create_image/case_studies/case_study_3/optimised_database/opt_pops/population_opt9.\n",
      "Loading /Users/stevenbennett/PhD/main_projects/synthetic_accessibility_project/stages/stage2_evolutionary_algorithm/create_image/case_studies/case_study_3/optimised_database/opt_pops/population_opt17/population_opt17.json.\n",
      "980 cages have been loaded.\n",
      "Writing to /Users/stevenbennett/PhD/main_projects/synthetic_accessibility_project/stages/stage2_evolutionary_algorithm/create_image/case_studies/case_study_3/optimised_database/opt_pops/population_opt17.\n",
      "Loading /Users/stevenbennett/PhD/main_projects/synthetic_accessibility_project/stages/stage2_evolutionary_algorithm/create_image/case_studies/case_study_3/optimised_database/opt_pops/population_opt10/population_opt10.json.\n",
      "980 cages have been loaded.\n",
      "Writing to /Users/stevenbennett/PhD/main_projects/synthetic_accessibility_project/stages/stage2_evolutionary_algorithm/create_image/case_studies/case_study_3/optimised_database/opt_pops/population_opt10.\n",
      "Loading /Users/stevenbennett/PhD/main_projects/synthetic_accessibility_project/stages/stage2_evolutionary_algorithm/create_image/case_studies/case_study_3/optimised_database/opt_pops/population_opt21/population_opt21.json.\n",
      "980 cages have been loaded.\n",
      "Writing to /Users/stevenbennett/PhD/main_projects/synthetic_accessibility_project/stages/stage2_evolutionary_algorithm/create_image/case_studies/case_study_3/optimised_database/opt_pops/population_opt21.\n",
      "Loading /Users/stevenbennett/PhD/main_projects/synthetic_accessibility_project/stages/stage2_evolutionary_algorithm/create_image/case_studies/case_study_3/optimised_database/opt_pops/population_opt20/population_opt20.json.\n",
      "980 cages have been loaded.\n",
      "Writing to /Users/stevenbennett/PhD/main_projects/synthetic_accessibility_project/stages/stage2_evolutionary_algorithm/create_image/case_studies/case_study_3/optimised_database/opt_pops/population_opt20.\n",
      "Loading /Users/stevenbennett/PhD/main_projects/synthetic_accessibility_project/stages/stage2_evolutionary_algorithm/create_image/case_studies/case_study_3/optimised_database/opt_pops/population_opt18/population_opt18.json.\n",
      "980 cages have been loaded.\n",
      "Writing to /Users/stevenbennett/PhD/main_projects/synthetic_accessibility_project/stages/stage2_evolutionary_algorithm/create_image/case_studies/case_study_3/optimised_database/opt_pops/population_opt18.\n",
      "Loading /Users/stevenbennett/PhD/main_projects/synthetic_accessibility_project/stages/stage2_evolutionary_algorithm/create_image/case_studies/case_study_3/optimised_database/opt_pops/population_opt11/population_opt11.json.\n",
      "980 cages have been loaded.\n",
      "Writing to /Users/stevenbennett/PhD/main_projects/synthetic_accessibility_project/stages/stage2_evolutionary_algorithm/create_image/case_studies/case_study_3/optimised_database/opt_pops/population_opt11.\n",
      "Loading /Users/stevenbennett/PhD/main_projects/synthetic_accessibility_project/stages/stage2_evolutionary_algorithm/create_image/case_studies/case_study_3/optimised_database/opt_pops/population_opt29/population_opt29.json.\n",
      "980 cages have been loaded.\n",
      "Writing to /Users/stevenbennett/PhD/main_projects/synthetic_accessibility_project/stages/stage2_evolutionary_algorithm/create_image/case_studies/case_study_3/optimised_database/opt_pops/population_opt29.\n",
      "Loading /Users/stevenbennett/PhD/main_projects/synthetic_accessibility_project/stages/stage2_evolutionary_algorithm/create_image/case_studies/case_study_3/optimised_database/opt_pops/population_opt5/population_opt5.json.\n",
      "980 cages have been loaded.\n",
      "Writing to /Users/stevenbennett/PhD/main_projects/synthetic_accessibility_project/stages/stage2_evolutionary_algorithm/create_image/case_studies/case_study_3/optimised_database/opt_pops/population_opt5.\n",
      "Loading /Users/stevenbennett/PhD/main_projects/synthetic_accessibility_project/stages/stage2_evolutionary_algorithm/create_image/case_studies/case_study_3/optimised_database/opt_pops/population_opt3/population_opt3.json.\n",
      "980 cages have been loaded.\n",
      "Writing to /Users/stevenbennett/PhD/main_projects/synthetic_accessibility_project/stages/stage2_evolutionary_algorithm/create_image/case_studies/case_study_3/optimised_database/opt_pops/population_opt3.\n",
      "Loading /Users/stevenbennett/PhD/main_projects/synthetic_accessibility_project/stages/stage2_evolutionary_algorithm/create_image/case_studies/case_study_3/optimised_database/opt_pops/population_opt4/population_opt4.json.\n",
      "980 cages have been loaded.\n",
      "Writing to /Users/stevenbennett/PhD/main_projects/synthetic_accessibility_project/stages/stage2_evolutionary_algorithm/create_image/case_studies/case_study_3/optimised_database/opt_pops/population_opt4.\n"
     ]
    }
   ],
   "source": [
    "for path in pop_paths:\n",
    "    print(f'Loading {path}.')\n",
    "    pop = stk.EAPopulation.load(str(path))\n",
    "    print(f'{len(pop)} cages have been loaded.')\n",
    "    pop.set_fitness_values_from_calculators(\n",
    "        fitness_calculator,\n",
    "        num_processes=1,\n",
    "    )\n",
    "    print(f'Writing to {str(path.parent)}.')\n",
    "    pop.dump(str(path.parent.joinpath('pop_fitness.json')), include_attrs=['sa_score', 'pore_diameter', 'largest_window', 'window_std', 'sc_score'], ignore_missing_attrs=False)"
   ]
  },
  {
   "cell_type": "code",
   "execution_count": 7,
   "metadata": {},
   "outputs": [
    {
     "data": {
      "text/plain": [
       "'/Users/stevenbennett/PhD/main_projects/synthetic_accessibility_project/stages/stage2_evolutionary_algorithm/create_image/case_studies/case_study_3/parametrisation'"
      ]
     },
     "execution_count": 7,
     "metadata": {},
     "output_type": "execute_result"
    }
   ],
   "source": [
    "pwd"
   ]
  },
  {
   "cell_type": "code",
   "execution_count": null,
   "metadata": {},
   "outputs": [],
   "source": []
  }
 ],
 "metadata": {
  "kernelspec": {
   "display_name": "Python 3.7",
   "language": "python",
   "name": "py37"
  },
  "language_info": {
   "codemirror_mode": {
    "name": "ipython",
    "version": 3
   },
   "file_extension": ".py",
   "mimetype": "text/x-python",
   "name": "python",
   "nbconvert_exporter": "python",
   "pygments_lexer": "ipython3",
   "version": "3.7.4"
  }
 },
 "nbformat": 4,
 "nbformat_minor": 2
}
