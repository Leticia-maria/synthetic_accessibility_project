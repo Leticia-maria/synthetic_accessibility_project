{
 "cells": [
  {
   "cell_type": "code",
   "execution_count": 3,
   "metadata": {},
   "outputs": [
    {
     "name": "stdout",
     "output_type": "stream",
     "text": [
      "The autoreload extension is already loaded. To reload it, use:\n",
      "  %reload_ext autoreload\n"
     ]
    }
   ],
   "source": [
    "from model_training import *\n",
    "%load_ext autoreload\n",
    "%autoreload 2"
   ]
  },
  {
   "cell_type": "code",
   "execution_count": 4,
   "metadata": {},
   "outputs": [],
   "source": [
    "import logging\n",
    "logger = logging.getLogger()\n",
    "logging.basicConfig()\n",
    "logger.setLevel(logging.DEBUG)"
   ]
  },
  {
   "cell_type": "code",
   "execution_count": 5,
   "metadata": {},
   "outputs": [
    {
     "name": "stderr",
     "output_type": "stream",
     "text": [
      "DEBUG:model_training:Number of fingerprints is 12703.\n",
      "DEBUG:model_training:Number of labels is Counter({0: 10643, 1: 2060}).\n",
      "DEBUG:model_training:Number of fingerprints is 12703.\n",
      "DEBUG:model_training:Number of labels is Counter({0: 10643, 1: 2060}).\n"
     ]
    }
   ],
   "source": [
    "model = SAScore()\n",
    "default_data = Path.cwd().parent.joinpath(\n",
    "    'create_image',\n",
    "    'databases',\n",
    "    'combined_data.csv'\n",
    ")\n",
    "model.load_data(str(default_data))\n",
    "model.parse_data()"
   ]
  },
  {
   "cell_type": "code",
   "execution_count": 6,
   "metadata": {},
   "outputs": [
    {
     "name": "stderr",
     "output_type": "stream",
     "text": [
      "  1%|          | 93/12703 [00:04<11:43, 17.92it/s]"
     ]
    },
    {
     "name": "stdout",
     "output_type": "stream",
     "text": [
      "/Users/stevenbennett/anaconda3/envs/py37/lib/python3.7/site-packages/numpy/core/fromnumeric.py:90: RuntimeWarning: overflow encountered in reduce\n",
      "  return ufunc.reduce(obj, axis, dtype, out, **passkwargs)\n"
     ]
    },
    {
     "name": "stderr",
     "output_type": "stream",
     "text": [
      "  2%|▏         | 244/12703 [00:10<22:49,  9.10it/s]"
     ]
    },
    {
     "name": "stdout",
     "output_type": "stream",
     "text": [
      "/Users/stevenbennett/anaconda3/envs/py37/lib/python3.7/site-packages/numpy/core/fromnumeric.py:90: RuntimeWarning: overflow encountered in reduce\n",
      "  return ufunc.reduce(obj, axis, dtype, out, **passkwargs)\n"
     ]
    },
    {
     "name": "stderr",
     "output_type": "stream",
     "text": [
      "  2%|▏         | 261/12703 [00:11<21:18,  9.73it/s]"
     ]
    },
    {
     "name": "stdout",
     "output_type": "stream",
     "text": [
      "/Users/stevenbennett/anaconda3/envs/py37/lib/python3.7/site-packages/numpy/core/fromnumeric.py:90: RuntimeWarning: overflow encountered in reduce\n",
      "  return ufunc.reduce(obj, axis, dtype, out, **passkwargs)\n"
     ]
    },
    {
     "name": "stderr",
     "output_type": "stream",
     "text": [
      "  3%|▎         | 401/12703 [00:17<16:15, 12.60it/s]"
     ]
    },
    {
     "name": "stdout",
     "output_type": "stream",
     "text": [
      "/Users/stevenbennett/anaconda3/envs/py37/lib/python3.7/site-packages/numpy/core/fromnumeric.py:90: RuntimeWarning: overflow encountered in reduce\n",
      "  return ufunc.reduce(obj, axis, dtype, out, **passkwargs)\n"
     ]
    },
    {
     "name": "stderr",
     "output_type": "stream",
     "text": [
      "  5%|▍         | 574/12703 [00:22<10:47, 18.73it/s]"
     ]
    },
    {
     "name": "stdout",
     "output_type": "stream",
     "text": [
      "/Users/stevenbennett/anaconda3/envs/py37/lib/python3.7/site-packages/numpy/core/fromnumeric.py:90: RuntimeWarning: overflow encountered in reduce\n",
      "  return ufunc.reduce(obj, axis, dtype, out, **passkwargs)\n"
     ]
    },
    {
     "name": "stderr",
     "output_type": "stream",
     "text": [
      "  5%|▌         | 654/12703 [00:25<14:04, 14.27it/s]"
     ]
    },
    {
     "name": "stdout",
     "output_type": "stream",
     "text": [
      "/Users/stevenbennett/anaconda3/envs/py37/lib/python3.7/site-packages/numpy/core/fromnumeric.py:90: RuntimeWarning: overflow encountered in reduce\n",
      "  return ufunc.reduce(obj, axis, dtype, out, **passkwargs)\n"
     ]
    },
    {
     "name": "stderr",
     "output_type": "stream",
     "text": [
      " 11%|█         | 1409/12703 [00:56<11:52, 15.86it/s]"
     ]
    },
    {
     "name": "stdout",
     "output_type": "stream",
     "text": [
      "/Users/stevenbennett/anaconda3/envs/py37/lib/python3.7/site-packages/numpy/core/fromnumeric.py:90: RuntimeWarning: overflow encountered in reduce\n",
      "  return ufunc.reduce(obj, axis, dtype, out, **passkwargs)\n"
     ]
    },
    {
     "name": "stderr",
     "output_type": "stream",
     "text": [
      " 30%|███       | 3848/12703 [02:35<18:19,  8.06it/s]"
     ]
    },
    {
     "name": "stdout",
     "output_type": "stream",
     "text": [
      "/Users/stevenbennett/anaconda3/envs/py37/lib/python3.7/site-packages/numpy/core/fromnumeric.py:90: RuntimeWarning: overflow encountered in reduce\n",
      "  return ufunc.reduce(obj, axis, dtype, out, **passkwargs)\n"
     ]
    },
    {
     "name": "stderr",
     "output_type": "stream",
     "text": [
      "100%|██████████| 12703/12703 [09:10<00:00, 23.06it/s]\n"
     ]
    }
   ],
   "source": [
    "features = model.get_features()"
   ]
  },
  {
   "cell_type": "code",
   "execution_count": 7,
   "metadata": {},
   "outputs": [],
   "source": [
    "features.to_pickle('feature_df.tar.gz')"
   ]
  },
  {
   "cell_type": "markdown",
   "metadata": {},
   "source": [
    "Running Random Forest Model"
   ]
  },
  {
   "cell_type": "code",
   "execution_count": 8,
   "metadata": {},
   "outputs": [],
   "source": [
    "model.random_forest()"
   ]
  },
  {
   "cell_type": "code",
   "execution_count": 9,
   "metadata": {},
   "outputs": [],
   "source": [
    "modified_features = features.dropna()"
   ]
  },
  {
   "cell_type": "code",
   "execution_count": 60,
   "metadata": {},
   "outputs": [],
   "source": [
    "X = modified_features.to_numpy(dtype=np.float32)\n",
    "y = model.data['Score'].to_numpy()"
   ]
  },
  {
   "cell_type": "code",
   "execution_count": 24,
   "metadata": {},
   "outputs": [
    {
     "name": "stderr",
     "output_type": "stream",
     "text": [
      "INFO:model_training:Accuracy\n",
      "0.857276042973967\n",
      "INFO:model_training:Precision (Unsynthesisable)\n",
      "0.8959085560917514\n",
      "INFO:model_training:Recall (Unsynthesisable)\n",
      "0.9400577683052157\n",
      "INFO:model_training:Precision (Synthesisable)\n",
      "0.5652611408979235\n",
      "INFO:model_training:Recall (Synthesisable)\n",
      "0.42961165048543687\n"
     ]
    }
   ],
   "source": [
    "model.train(X, y)"
   ]
  },
  {
   "cell_type": "code",
   "execution_count": 61,
   "metadata": {},
   "outputs": [],
   "source": [
    "X = np.nan_to_num(X, X.mean())"
   ]
  },
  {
   "cell_type": "code",
   "execution_count": 16,
   "metadata": {},
   "outputs": [
    {
     "data": {
      "text/plain": [
       "False"
      ]
     },
     "execution_count": 16,
     "metadata": {},
     "output_type": "execute_result"
    }
   ],
   "source": [
    "np.isnan(X).any()"
   ]
  },
  {
   "cell_type": "code",
   "execution_count": 62,
   "metadata": {},
   "outputs": [
    {
     "data": {
      "text/plain": [
       "array([[ 13.670387 ,  12.145067 ,   0.       , ..., 105.       ,\n",
       "          6.6666665,   4.0555553],\n",
       "       [  6.582741 ,   6.9058356,   0.       , ...,  38.       ,\n",
       "          5.2222223,   2.5833333],\n",
       "       [  8.175294 ,   8.312167 ,   2.       , ...,  49.       ,\n",
       "          6.3333335,   2.9444444],\n",
       "       ...,\n",
       "       [ 11.877236 ,  11.838791 ,   3.       , ...,  90.       ,\n",
       "          8.277778 ,   3.5555556],\n",
       "       [ 10.007646 ,  10.177618 ,   3.       , ...,  64.       ,\n",
       "          8.145833 ,   3.125    ],\n",
       "       [ 21.304983 ,  18.711432 ,   3.       , ..., 171.       ,\n",
       "         13.444445 ,   6.111111 ]], dtype=float32)"
      ]
     },
     "execution_count": 62,
     "metadata": {},
     "output_type": "execute_result"
    }
   ],
   "source": [
    "X"
   ]
  },
  {
   "cell_type": "code",
   "execution_count": 18,
   "metadata": {},
   "outputs": [],
   "source": [
    "np.argmax(model.model.feature_importances_)\n",
    "features_sorted = np.argsort(model.model.feature_importances_)"
   ]
  },
  {
   "cell_type": "code",
   "execution_count": 19,
   "metadata": {},
   "outputs": [
    {
     "data": {
      "text/plain": [
       "0       -0.020932\n",
       "1       -0.058742\n",
       "2       -0.029898\n",
       "3        0.006031\n",
       "4       -0.015110\n",
       "           ...   \n",
       "12698   -0.062252\n",
       "12699   -0.033438\n",
       "12700   -0.065637\n",
       "12701   -0.066224\n",
       "12702   -0.062252\n",
       "Name: AATSC1pe, Length: 12703, dtype: float64"
      ]
     },
     "execution_count": 19,
     "metadata": {},
     "output_type": "execute_result"
    }
   ],
   "source": [
    "features.iloc[:,414]"
   ]
  },
  {
   "cell_type": "code",
   "execution_count": 20,
   "metadata": {},
   "outputs": [
    {
     "data": {
      "text/plain": [
       "0.04139663543879777"
      ]
     },
     "execution_count": 20,
     "metadata": {},
     "output_type": "execute_result"
    }
   ],
   "source": [
    "model.model.feature_importances_[337]"
   ]
  },
  {
   "cell_type": "code",
   "execution_count": 21,
   "metadata": {},
   "outputs": [
    {
     "data": {
      "text/plain": [
       "array([159, 174, 480, 124, 409, 173, 354, 368, 442, 377, 177,  17, 400,\n",
       "       316, 293, 194, 418, 103, 265, 244, 359, 328, 118,   6, 467, 306,\n",
       "       500, 405, 349, 156, 364, 132, 307, 318, 311, 101, 348, 496,  76,\n",
       "       169, 330, 260,  89, 239,  22, 259, 248,  48, 305, 440, 277, 154,\n",
       "       262, 510, 458, 192, 184, 483, 362, 137, 152, 158, 195, 178, 454,\n",
       "       339, 426, 171, 404, 263, 395,  88, 153,   5, 488, 303, 105, 399,\n",
       "        60, 331,  56, 143, 486, 353, 181,  93, 390, 279,  47, 420, 465,\n",
       "        20, 245, 199, 176, 394, 365, 346, 437, 351,  74, 145, 344, 122,\n",
       "        54,  82, 220,  10, 188, 372, 309, 246, 206, 298, 382, 166, 237,\n",
       "       447, 193, 180, 357, 406, 185, 479, 267, 109, 242,  72,  43, 336,\n",
       "        19, 439, 228,  75, 123, 509, 205, 475, 504,  38, 141, 257, 157,\n",
       "       107, 461, 125, 408,  50, 466,  34, 210, 326, 460,  65, 196, 269,\n",
       "       484,  83, 370, 234, 489, 320, 221, 494,  52, 334, 286,  81, 324,\n",
       "       416, 198, 168, 223, 282,  67, 253, 453, 450,  68,  40,   8,  35,\n",
       "       302, 131, 445, 481, 258, 419, 126, 396, 457, 300, 322,  21, 412,\n",
       "       299, 493, 427, 241, 254,   0, 459,  12,  99,  41, 476, 120, 240,\n",
       "       170, 491, 292, 104,  53, 291, 231,  78, 317,  87, 179, 332, 219,\n",
       "       276, 255, 148, 393,  13, 217, 477, 343, 100,  73, 236, 411,   7,\n",
       "       315, 290, 139,  30, 387, 358, 200, 474, 470, 413, 285, 230, 313,\n",
       "        86,   9, 391, 273,  44,  79, 347, 327,  31, 119, 371, 495, 417,\n",
       "       243, 312, 121, 261, 431,  16, 410,  92,  51, 401, 422, 146,  42,\n",
       "       288, 373, 256, 434, 281, 436, 355,  61, 380, 478, 464, 135, 506,\n",
       "       501, 127, 224,  27, 238, 150, 503, 444,  94,  23, 375, 388,  45,\n",
       "        11, 345, 452, 249,   2,  97, 441, 284,  55, 115, 275,  91, 360,\n",
       "       247,  24, 438, 117, 151, 108, 297, 485, 374, 208, 204, 191, 498,\n",
       "        69, 432,  77, 280, 342, 398, 165, 407, 502, 323, 164,  70, 443,\n",
       "       341, 163, 287, 278, 129,  62, 235, 106, 472,  25,  96, 367, 283,\n",
       "        71, 468, 207, 251, 130, 429, 462, 321, 229, 505, 160, 490, 266,\n",
       "       340, 403, 446,  18, 511,  98, 329,  84, 428, 435, 197, 203, 448,\n",
       "       424,  15, 112,  28, 161, 385, 270, 325, 497, 421,  85, 227, 190,\n",
       "       482, 209, 133, 308, 167, 225, 361, 471, 473, 397, 455, 183,  46,\n",
       "       402, 338, 155, 379, 425,  59, 211, 271, 232, 463, 383, 487, 352,\n",
       "       140, 215, 350, 233, 294, 456, 201, 113,  57,  32, 272, 264,  90,\n",
       "       433, 142,  95,  63, 499, 134, 386,  26,  14, 172, 252, 222, 314,\n",
       "       212,  66, 508, 296,   4, 319, 226, 369,  37, 310, 128, 366, 268,\n",
       "       182, 449, 333, 381, 301, 378, 430, 218, 202, 144, 389, 415,  29,\n",
       "         1, 149, 492, 186, 187, 289, 175, 116, 162, 111, 304, 469, 114,\n",
       "       110, 216,  39,  64, 138, 102,   3, 189, 376, 335, 392, 147,  49,\n",
       "        33, 451, 295, 274,  80, 423, 384, 213, 250, 136, 507,  58, 356,\n",
       "       214, 414,  36, 363, 337])"
      ]
     },
     "execution_count": 21,
     "metadata": {},
     "output_type": "execute_result"
    }
   ],
   "source": [
    "features_sorted"
   ]
  },
  {
   "cell_type": "markdown",
   "metadata": {},
   "source": [
    "Check for recursive feature importance"
   ]
  },
  {
   "cell_type": "code",
   "execution_count": 22,
   "metadata": {},
   "outputs": [],
   "source": [
    "from sklearn.feature_selection import RFECV\n",
    "splits = StratifiedKFold"
   ]
  },
  {
   "cell_type": "code",
   "execution_count": 27,
   "metadata": {},
   "outputs": [],
   "source": [
    "rfecv = RFECV(\n",
    "    estimator=model.model,\n",
    "    step=5,\n",
    "    cv=splits(5),\n",
    "    scoring='accuracy',\n",
    "    n_jobs=3,\n",
    ")"
   ]
  },
  {
   "cell_type": "code",
   "execution_count": 28,
   "metadata": {},
   "outputs": [
    {
     "data": {
      "text/plain": [
       "RFECV(cv=StratifiedKFold(n_splits=5, random_state=None, shuffle=False),\n",
       "      estimator=RandomForestClassifier(bootstrap=True, class_weight='balanced',\n",
       "                                       criterion='gini', max_depth=None,\n",
       "                                       max_features='auto', max_leaf_nodes=None,\n",
       "                                       min_impurity_decrease=0.0,\n",
       "                                       min_impurity_split=None,\n",
       "                                       min_samples_leaf=1, min_samples_split=2,\n",
       "                                       min_weight_fraction_leaf=0.0,\n",
       "                                       n_estimators=10, n_jobs=None,\n",
       "                                       oob_score=False, random_state=None,\n",
       "                                       verbose=0, warm_start=False),\n",
       "      min_features_to_select=1, n_jobs=3, scoring='accuracy', step=5,\n",
       "      verbose=0)"
      ]
     },
     "execution_count": 28,
     "metadata": {},
     "output_type": "execute_result"
    }
   ],
   "source": [
    "rfecv.fit(X, y)"
   ]
  },
  {
   "cell_type": "code",
   "execution_count": 34,
   "metadata": {},
   "outputs": [
    {
     "name": "stderr",
     "output_type": "stream",
     "text": [
      "DEBUG:matplotlib.pyplot:Loaded backend module://ipykernel.pylab.backend_inline version unknown.\n",
      "DEBUG:matplotlib.pyplot:Loaded backend module://ipykernel.pylab.backend_inline version unknown.\n"
     ]
    }
   ],
   "source": [
    "from matplotlib import pyplot as plt"
   ]
  },
  {
   "cell_type": "code",
   "execution_count": 205,
   "metadata": {},
   "outputs": [
    {
     "data": {
      "image/png": "[encoded data removed]",
      "text/plain": [
       "<Figure size 432x288 with 1 Axes>"
      ]
     },
     "metadata": {
      "needs_background": "light"
     },
     "output_type": "display_data"
    }
   ],
   "source": [
    "plt.figure()\n",
    "plt.xlabel(\"Number of features selected\")\n",
    "plt.ylabel(\"Cross validation score (nb of correct classifications)\")\n",
    "plt.plot(range(1, len(rfecv.grid_scores_[:50])+1), rfecv.grid_scores_[:50])\n",
    "plt.show()"
   ]
  },
  {
   "cell_type": "code",
   "execution_count": 46,
   "metadata": {},
   "outputs": [
    {
     "data": {
      "text/plain": [
       "array([0.76336426, 0.83728212, 0.85538609, 0.85452113, 0.85428457,\n",
       "       0.85585888, 0.85333947, 0.8571973 , 0.85790578, 0.85680388,\n",
       "       0.85365514, 0.8560167 , 0.85790556, 0.85593755, 0.85404934,\n",
       "       0.85688225, 0.85711831, 0.85381237, 0.85578017, 0.85774827,\n",
       "       0.85617393, 0.85601716, 0.85735466, 0.8530251 , 0.85979548,\n",
       "       0.85546558, 0.8560167 , 0.85656741, 0.85522945, 0.85617439,\n",
       "       0.85554419, 0.85711859, 0.85727641, 0.85759085, 0.85735469,\n",
       "       0.85483597, 0.85743374, 0.8567252 , 0.85585949, 0.85648904,\n",
       "       0.8552292 , 0.85869324, 0.8554661 , 0.85570158, 0.85593814,\n",
       "       0.85570167, 0.8560167 , 0.85688281, 0.85704004, 0.85585937,\n",
       "       0.85515099, 0.86018816, 0.85790593, 0.85507231, 0.85798439,\n",
       "       0.85538681, 0.85869349, 0.8567252 , 0.85609599, 0.85641049,\n",
       "       0.85459965, 0.85727626, 0.85641009, 0.85593802, 0.85672514,\n",
       "       0.85601654, 0.85522945, 0.85680382, 0.85806341, 0.85475757,\n",
       "       0.85633169, 0.85404838, 0.8550725 , 0.85735463, 0.85900792,\n",
       "       0.85633221, 0.85593796, 0.85751264, 0.85522988, 0.85798461,\n",
       "       0.85640984, 0.85460002, 0.85869287, 0.85625264, 0.85751248,\n",
       "       0.85743377, 0.85680397, 0.85743371, 0.85641034, 0.85751229,\n",
       "       0.85491486, 0.85806335, 0.8562527 , 0.85782704, 0.85664668,\n",
       "       0.85562337, 0.85538647, 0.85570189, 0.85396982, 0.85798501,\n",
       "       0.85727638, 0.85601632, 0.85814153, 0.85806323, 0.85829988,\n",
       "       0.85743334, 0.85680391, 0.85711872, 0.85656757, 0.85696136,\n",
       "       0.85625298, 0.85546583, 0.85570167, 0.857355  , 0.85900789,\n",
       "       0.8559383 , 0.85814178, 0.85743349, 0.85656822, 0.85798474,\n",
       "       0.85719746, 0.85467864, 0.85806372, 0.85814212, 0.85680373,\n",
       "       0.85798439, 0.85782794, 0.8572761 , 0.85814215, 0.85814184,\n",
       "       0.85861456, 0.85908682, 0.85837769, 0.85522942, 0.85806366,\n",
       "       0.85814203, 0.85892921, 0.85601691, 0.85522988, 0.85798455,\n",
       "       0.85703992, 0.85861487, 0.85530865, 0.85727629, 0.85995219,\n",
       "       0.85562352, 0.85845671, 0.85743365, 0.85633132, 0.85648904,\n",
       "       0.85869302, 0.8570401 , 0.85822046, 0.85601685, 0.85766959,\n",
       "       0.8590871 , 0.8557017 , 0.85648935, 0.85633249, 0.85727573,\n",
       "       0.85782707, 0.85814225, 0.85845665, 0.85530834, 0.856804  ,\n",
       "       0.85452122, 0.8571973 , 0.85727595, 0.85633159, 0.85774842,\n",
       "       0.85680404, 0.85648917, 0.85751242, 0.85672511, 0.85680391,\n",
       "       0.85963791, 0.85853573, 0.85782716, 0.85735522, 0.85703967,\n",
       "       0.85727632, 0.85546579, 0.85459965, 0.85853585, 0.85680391,\n",
       "       0.85806344, 0.85719749, 0.85916537, 0.85829901, 0.85641027,\n",
       "       0.85759116, 0.85664643, 0.85774836, 0.85814178, 0.86097571,\n",
       "       0.85617442, 0.85822052, 0.85774848, 0.8547571 , 0.8560955 ,\n",
       "       0.85790575, 0.8547571 , 0.85869306, 0.85727648, 0.85798461,\n",
       "       0.85554466, 0.85688253, 0.85436396, 0.8586141 , 0.85617405,\n",
       "       0.8600312 , 0.85585903, 0.85554469, 0.85648904, 0.85782722,\n",
       "       0.85766959, 0.85751217, 0.85774851, 0.85554429, 0.85688231,\n",
       "       0.85672486, 0.85672542, 0.85696133, 0.85491421, 0.8562532 ,\n",
       "       0.85719681, 0.85491467, 0.85806372, 0.85853536, 0.85696111,\n",
       "       0.85892934, 0.85570143, 0.85641024, 0.85971649, 0.8567252 ,\n",
       "       0.85822055, 0.85578038, 0.85900795, 0.8584569 , 0.85790541,\n",
       "       0.85940147, 0.85727626, 0.85704029, 0.85601642, 0.85822083,\n",
       "       0.85640996, 0.85735485, 0.85822099, 0.85987379, 0.86011029,\n",
       "       0.85507191, 0.85790603, 0.85900814, 0.85940169, 0.85766925,\n",
       "       0.85877158, 0.85892903, 0.85444211, 0.85546592, 0.85554457,\n",
       "       0.85837825, 0.85837819, 0.85648939, 0.85798433, 0.85633113,\n",
       "       0.85704013, 0.85475741, 0.85688234, 0.85522951, 0.85617446,\n",
       "       0.85696161, 0.85782695, 0.85743337, 0.85853536, 0.85924439,\n",
       "       0.85782738, 0.85648904, 0.85766959, 0.85774855, 0.85696133,\n",
       "       0.85751229, 0.85688219, 0.85601667, 0.85798427, 0.85593758,\n",
       "       0.85814194, 0.85790618, 0.85672517, 0.85869299, 0.8583781 ,\n",
       "       0.85538724, 0.85782679, 0.85798458, 0.85727617, 0.85743328,\n",
       "       0.85696167, 0.85885051, 0.85719718, 0.85963766, 0.85648892,\n",
       "       0.85735488, 0.85743337, 0.8583781 , 0.85727638, 0.85766959,\n",
       "       0.85806304, 0.85633178, 0.86026764, 0.856095  , 0.85774827,\n",
       "       0.85837806, 0.85885069, 0.85601722, 0.85727623, 0.85735494,\n",
       "       0.85759119, 0.85640999, 0.85766953, 0.85609572, 0.85759097,\n",
       "       0.85696142, 0.85696149, 0.857355  , 0.85625279])"
      ]
     },
     "execution_count": 46,
     "metadata": {},
     "output_type": "execute_result"
    }
   ],
   "source": [
    "rfecv.grid_scores_"
   ]
  },
  {
   "cell_type": "code",
   "execution_count": 47,
   "metadata": {},
   "outputs": [
    {
     "data": {
      "text/plain": [
       "968"
      ]
     },
     "execution_count": 47,
     "metadata": {},
     "output_type": "execute_result"
    }
   ],
   "source": [
    "rfecv.n_features_"
   ]
  },
  {
   "cell_type": "code",
   "execution_count": 48,
   "metadata": {},
   "outputs": [],
   "source": [
    "X_new = rfecv.transform(X)"
   ]
  },
  {
   "cell_type": "code",
   "execution_count": 50,
   "metadata": {},
   "outputs": [
    {
     "data": {
      "text/plain": [
       "(12703, 968)"
      ]
     },
     "execution_count": 50,
     "metadata": {},
     "output_type": "execute_result"
    }
   ],
   "source": [
    "X_new.shape"
   ]
  },
  {
   "cell_type": "code",
   "execution_count": 51,
   "metadata": {},
   "outputs": [
    {
     "data": {
      "text/plain": [
       "(12703, 1613)"
      ]
     },
     "execution_count": 51,
     "metadata": {},
     "output_type": "execute_result"
    }
   ],
   "source": [
    "X.shape"
   ]
  },
  {
   "cell_type": "code",
   "execution_count": 54,
   "metadata": {},
   "outputs": [
    {
     "name": "stderr",
     "output_type": "stream",
     "text": [
      "INFO:model_training:Accuracy\n",
      "0.8580633515851842\n",
      "INFO:model_training:Precision (Unsynthesisable)\n",
      "0.8951677774409212\n",
      "INFO:model_training:Recall (Unsynthesisable)\n",
      "0.9420307903389284\n",
      "INFO:model_training:Precision (Synthesisable)\n",
      "0.567210612356561\n",
      "INFO:model_training:Recall (Synthesisable)\n",
      "0.42427184466019413\n"
     ]
    }
   ],
   "source": [
    "model.train(X_new, y)"
   ]
  },
  {
   "cell_type": "code",
   "execution_count": 162,
   "metadata": {},
   "outputs": [
    {
     "name": "stderr",
     "output_type": "stream",
     "text": [
      "INFO:model_training:Accuracy\n",
      "0.855465608121299\n",
      "INFO:model_training:Precision (Unsynthesisable)\n",
      "0.892711389325901\n",
      "INFO:model_training:Recall (Unsynthesisable)\n",
      "0.9418430852848421\n",
      "INFO:model_training:Precision (Synthesisable)\n",
      "0.5597878742582555\n",
      "INFO:model_training:Recall (Synthesisable)\n",
      "0.4092233009708738\n"
     ]
    }
   ],
   "source": [
    "model.train(X, y)"
   ]
  },
  {
   "cell_type": "code",
   "execution_count": 199,
   "metadata": {},
   "outputs": [],
   "source": [
    "from sklearn.feature_selection import VarianceThreshold"
   ]
  },
  {
   "cell_type": "code",
   "execution_count": 200,
   "metadata": {},
   "outputs": [],
   "source": [
    "sel = VarianceThreshold(threshold=(.8 * (1-.8)))\n",
    "sel.fit(X)\n",
    "X_trans = sel.transform(X)"
   ]
  },
  {
   "cell_type": "code",
   "execution_count": 201,
   "metadata": {},
   "outputs": [
    {
     "data": {
      "text/plain": [
       "(12703, 912)"
      ]
     },
     "execution_count": 201,
     "metadata": {},
     "output_type": "execute_result"
    }
   ],
   "source": [
    "X_trans.shape"
   ]
  },
  {
   "cell_type": "code",
   "execution_count": 198,
   "metadata": {},
   "outputs": [
    {
     "name": "stderr",
     "output_type": "stream",
     "text": [
      "INFO:model_training:Accuracy\n",
      "0.8586929629664061\n",
      "INFO:model_training:Precision (Unsynthesisable)\n",
      "0.8965003754367895\n",
      "INFO:model_training:Recall (Unsynthesisable)\n",
      "0.9411853229833627\n",
      "INFO:model_training:Precision (Synthesisable)\n",
      "0.5733422071049705\n",
      "INFO:model_training:Recall (Synthesisable)\n",
      "0.4325242718446602\n"
     ]
    }
   ],
   "source": [
    "model.train(X, y)"
   ]
  },
  {
   "cell_type": "code",
   "execution_count": 70,
   "metadata": {},
   "outputs": [
    {
     "data": {
      "text/plain": [
       "{'threshold': 0.15999999999999998}"
      ]
     },
     "execution_count": 70,
     "metadata": {},
     "output_type": "execute_result"
    }
   ],
   "source": [
    "sel.get_params()"
   ]
  },
  {
   "cell_type": "code",
   "execution_count": 92,
   "metadata": {},
   "outputs": [],
   "source": [
    "from sklearn.feature_selection import SelectFromModel"
   ]
  },
  {
   "cell_type": "code",
   "execution_count": 191,
   "metadata": {},
   "outputs": [],
   "source": [
    "mdl = SelectFromModel(model.model, threshold=-np.inf, prefit=False, max_features=5)"
   ]
  },
  {
   "cell_type": "code",
   "execution_count": 192,
   "metadata": {},
   "outputs": [],
   "source": [
    "mdl.fit(X, y)\n",
    "n_features = mdl.transform(X).shape[1]\n",
    "# while n_features > 2:\n",
    "#     mdl.threshold += 0.1\n",
    "#     X_transform = mdl.transform(X)\n",
    "#     n_features = X_transform.shape[1]\n",
    "#     print(n_features)"
   ]
  },
  {
   "cell_type": "code",
   "execution_count": 193,
   "metadata": {},
   "outputs": [],
   "source": [
    "X_transform = mdl.transform(X)"
   ]
  },
  {
   "cell_type": "code",
   "execution_count": 194,
   "metadata": {},
   "outputs": [
    {
     "data": {
      "text/plain": [
       "(12703, 5)"
      ]
     },
     "execution_count": 194,
     "metadata": {},
     "output_type": "execute_result"
    }
   ],
   "source": [
    "X_transform.shape"
   ]
  },
  {
   "cell_type": "code",
   "execution_count": 197,
   "metadata": {
    "scrolled": true
   },
   "outputs": [
    {
     "name": "stderr",
     "output_type": "stream",
     "text": [
      "INFO:model_training:Accuracy\n",
      "0.8339769202403419\n",
      "INFO:model_training:Precision (Unsynthesisable)\n",
      "0.8949687930254868\n",
      "INFO:model_training:Recall (Unsynthesisable)\n",
      "0.9098999406689575\n",
      "INFO:model_training:Precision (Synthesisable)\n",
      "0.4791120518465982\n",
      "INFO:model_training:Recall (Synthesisable)\n",
      "0.441747572815534\n"
     ]
    }
   ],
   "source": [
    "model.train(X_transform, y)"
   ]
  },
  {
   "cell_type": "code",
   "execution_count": 196,
   "metadata": {},
   "outputs": [
    {
     "name": "stdout",
     "output_type": "stream",
     "text": [
      "AETA_dBeta\n",
      "IC2\n",
      "SIC2\n",
      "BIC3\n",
      "CIC5\n"
     ]
    }
   ],
   "source": [
    "for feature_list_index in mdl.get_support(indices=True):\n",
    "    print(features.iloc[:, feature_list_index].name)"
   ]
  },
  {
   "cell_type": "code",
   "execution_count": null,
   "metadata": {},
   "outputs": [],
   "source": []
  }
 ],
 "metadata": {
  "kernelspec": {
   "display_name": "Python 3.7",
   "language": "python",
   "name": "py37"
  },
  "language_info": {
   "codemirror_mode": {
    "name": "ipython",
    "version": 3
   },
   "file_extension": ".py",
   "mimetype": "text/x-python",
   "name": "python",
   "nbconvert_exporter": "python",
   "pygments_lexer": "ipython3",
   "version": "3.7.4"
  }
 },
 "nbformat": 4,
 "nbformat_minor": 2
}
