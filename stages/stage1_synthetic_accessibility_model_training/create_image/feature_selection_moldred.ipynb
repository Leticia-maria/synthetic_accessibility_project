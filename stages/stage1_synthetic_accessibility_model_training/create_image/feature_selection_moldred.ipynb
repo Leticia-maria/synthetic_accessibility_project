{
 "cells": [
  {
   "cell_type": "code",
   "execution_count": 1,
   "metadata": {},
   "outputs": [
    {
     "name": "stderr",
     "output_type": "stream",
     "text": [
      "RDKit WARNING: [16:56:21] Enabling RDKit 2019.09.1 jupyter extensions\n"
     ]
    }
   ],
   "source": [
    "from model_training import *\n",
    "%load_ext autoreload\n",
    "%autoreload 2"
   ]
  },
  {
   "cell_type": "code",
   "execution_count": 2,
   "metadata": {},
   "outputs": [],
   "source": [
    "import logging\n",
    "logger = logging.getLogger()\n",
    "logging.basicConfig()\n",
    "logger.setLevel(logging.DEBUG)"
   ]
  },
  {
   "cell_type": "code",
   "execution_count": 3,
   "metadata": {},
   "outputs": [
    {
     "name": "stderr",
     "output_type": "stream",
     "text": [
      "RDKit WARNING: [16:56:43] Conflicting single bond directions around double bond at index 3.\n",
      "RDKit WARNING: [16:56:43]   BondStereo set to STEREONONE and single bond directions set to NONE.\n",
      "RDKit WARNING: [16:56:43] Conflicting single bond directions around double bond at index 1.\n",
      "RDKit WARNING: [16:56:43]   BondStereo set to STEREONONE and single bond directions set to NONE.\n",
      "RDKit WARNING: [16:56:43] Conflicting single bond directions around double bond at index 2.\n",
      "RDKit WARNING: [16:56:43]   BondStereo set to STEREONONE and single bond directions set to NONE.\n",
      "RDKit WARNING: [16:56:43] Conflicting single bond directions around double bond at index 1.\n",
      "RDKit WARNING: [16:56:43]   BondStereo set to STEREONONE and single bond directions set to NONE.\n",
      "RDKit WARNING: [16:56:47] Conflicting single bond directions around double bond at index 2.\n",
      "RDKit WARNING: [16:56:47]   BondStereo set to STEREONONE and single bond directions set to NONE.\n",
      "RDKit WARNING: [16:56:48] Conflicting single bond directions around double bond at index 1.\n",
      "RDKit WARNING: [16:56:48]   BondStereo set to STEREONONE and single bond directions set to NONE.\n",
      "RDKit WARNING: [16:56:50] Conflicting single bond directions around double bond at index 2.\n",
      "RDKit WARNING: [16:56:50]   BondStereo set to STEREONONE and single bond directions set to NONE.\n",
      "RDKit WARNING: [16:56:51] Conflicting single bond directions around double bond at index 1.\n",
      "RDKit WARNING: [16:56:51]   BondStereo set to STEREONONE and single bond directions set to NONE.\n",
      "RDKit WARNING: [16:56:51] Conflicting single bond directions around double bond at index 1.\n",
      "RDKit WARNING: [16:56:51]   BondStereo set to STEREONONE and single bond directions set to NONE.\n",
      "DEBUG:model_training:Number of fingerprints is 12703.\n",
      "DEBUG:model_training:Number of labels is Counter({0: 10643, 1: 2060}).\n",
      "RDKit WARNING: [16:56:54] Conflicting single bond directions around double bond at index 3.\n",
      "RDKit WARNING: [16:56:54]   BondStereo set to STEREONONE and single bond directions set to NONE.\n",
      "RDKit WARNING: [16:56:54] Conflicting single bond directions around double bond at index 1.\n",
      "RDKit WARNING: [16:56:54]   BondStereo set to STEREONONE and single bond directions set to NONE.\n",
      "RDKit WARNING: [16:56:54] Conflicting single bond directions around double bond at index 2.\n",
      "RDKit WARNING: [16:56:54]   BondStereo set to STEREONONE and single bond directions set to NONE.\n",
      "RDKit WARNING: [16:56:55] Conflicting single bond directions around double bond at index 1.\n",
      "RDKit WARNING: [16:56:55]   BondStereo set to STEREONONE and single bond directions set to NONE.\n",
      "RDKit WARNING: [16:56:58] Conflicting single bond directions around double bond at index 2.\n",
      "RDKit WARNING: [16:56:58]   BondStereo set to STEREONONE and single bond directions set to NONE.\n",
      "RDKit WARNING: [16:57:00] Conflicting single bond directions around double bond at index 1.\n",
      "RDKit WARNING: [16:57:00]   BondStereo set to STEREONONE and single bond directions set to NONE.\n",
      "RDKit WARNING: [16:57:01] Conflicting single bond directions around double bond at index 2.\n",
      "RDKit WARNING: [16:57:01]   BondStereo set to STEREONONE and single bond directions set to NONE.\n",
      "RDKit WARNING: [16:57:03] Conflicting single bond directions around double bond at index 1.\n",
      "RDKit WARNING: [16:57:03]   BondStereo set to STEREONONE and single bond directions set to NONE.\n",
      "RDKit WARNING: [16:57:03] Conflicting single bond directions around double bond at index 1.\n",
      "RDKit WARNING: [16:57:03]   BondStereo set to STEREONONE and single bond directions set to NONE.\n",
      "DEBUG:model_training:Number of fingerprints is 12703.\n",
      "DEBUG:model_training:Number of labels is Counter({0: 10643, 1: 2060}).\n"
     ]
    }
   ],
   "source": [
    "model = SAScore()\n",
    "default_data = Path.cwd().parent.joinpath(\n",
    "    'create_image',\n",
    "    'databases',\n",
    "    'combined_data.csv'\n",
    ")\n",
    "model.load_data(str(default_data))\n",
    "model.parse_data()"
   ]
  },
  {
   "cell_type": "code",
   "execution_count": 4,
   "metadata": {},
   "outputs": [
    {
     "name": "stderr",
     "output_type": "stream",
     "text": [
      "RDKit WARNING: [16:57:05] Conflicting single bond directions around double bond at index 3.\n",
      "RDKit WARNING: [16:57:05]   BondStereo set to STEREONONE and single bond directions set to NONE.\n",
      "RDKit WARNING: [16:57:05] Conflicting single bond directions around double bond at index 1.\n",
      "RDKit WARNING: [16:57:05]   BondStereo set to STEREONONE and single bond directions set to NONE.\n",
      "RDKit WARNING: [16:57:05] Conflicting single bond directions around double bond at index 2.\n",
      "RDKit WARNING: [16:57:05]   BondStereo set to STEREONONE and single bond directions set to NONE.\n",
      "RDKit WARNING: [16:57:05] Conflicting single bond directions around double bond at index 1.\n",
      "RDKit WARNING: [16:57:05]   BondStereo set to STEREONONE and single bond directions set to NONE.\n",
      "RDKit WARNING: [16:57:05] Conflicting single bond directions around double bond at index 2.\n",
      "RDKit WARNING: [16:57:05]   BondStereo set to STEREONONE and single bond directions set to NONE.\n",
      "RDKit WARNING: [16:57:06] Conflicting single bond directions around double bond at index 1.\n",
      "RDKit WARNING: [16:57:06]   BondStereo set to STEREONONE and single bond directions set to NONE.\n",
      "RDKit WARNING: [16:57:06] Conflicting single bond directions around double bond at index 2.\n",
      "RDKit WARNING: [16:57:06]   BondStereo set to STEREONONE and single bond directions set to NONE.\n",
      "RDKit WARNING: [16:57:06] Conflicting single bond directions around double bond at index 1.\n",
      "RDKit WARNING: [16:57:06]   BondStereo set to STEREONONE and single bond directions set to NONE.\n",
      "RDKit WARNING: [16:57:06] Conflicting single bond directions around double bond at index 1.\n",
      "RDKit WARNING: [16:57:06]   BondStereo set to STEREONONE and single bond directions set to NONE.\n",
      "  1%|          | 93/12703 [00:06<41:09,  5.11it/s]"
     ]
    },
    {
     "name": "stdout",
     "output_type": "stream",
     "text": [
      "/rds/general/user/sb2518/home/anaconda3/envs/py37/lib/python3.7/site-packages/numpy/core/fromnumeric.py:90: RuntimeWarning: overflow encountered in reduce\n",
      "  return ufunc.reduce(obj, axis, dtype, out, **passkwargs)\n"
     ]
    },
    {
     "name": "stderr",
     "output_type": "stream",
     "text": [
      "  2%|▏         | 241/12703 [00:14<18:59, 10.93it/s]"
     ]
    },
    {
     "name": "stdout",
     "output_type": "stream",
     "text": [
      "/rds/general/user/sb2518/home/anaconda3/envs/py37/lib/python3.7/site-packages/numpy/core/fromnumeric.py:90: RuntimeWarning: overflow encountered in reduce\n",
      "  return ufunc.reduce(obj, axis, dtype, out, **passkwargs)\n"
     ]
    },
    {
     "name": "stderr",
     "output_type": "stream",
     "text": [
      "  2%|▏         | 243/12703 [00:14<19:58, 10.40it/s]"
     ]
    },
    {
     "name": "stdout",
     "output_type": "stream",
     "text": [
      "/rds/general/user/sb2518/home/anaconda3/envs/py37/lib/python3.7/site-packages/numpy/core/fromnumeric.py:90: RuntimeWarning: overflow encountered in reduce\n",
      "  return ufunc.reduce(obj, axis, dtype, out, **passkwargs)\n"
     ]
    },
    {
     "name": "stderr",
     "output_type": "stream",
     "text": [
      "  2%|▏         | 261/12703 [00:17<25:02,  8.28it/s]"
     ]
    },
    {
     "name": "stdout",
     "output_type": "stream",
     "text": [
      "/rds/general/user/sb2518/home/anaconda3/envs/py37/lib/python3.7/site-packages/numpy/core/fromnumeric.py:90: RuntimeWarning: overflow encountered in reduce\n",
      "  return ufunc.reduce(obj, axis, dtype, out, **passkwargs)\n"
     ]
    },
    {
     "name": "stderr",
     "output_type": "stream",
     "text": [
      "  3%|▎         | 371/12703 [00:20<27:16,  7.53it/s]"
     ]
    },
    {
     "name": "stdout",
     "output_type": "stream",
     "text": [
      "/rds/general/user/sb2518/home/anaconda3/envs/py37/lib/python3.7/site-packages/numpy/core/fromnumeric.py:90: RuntimeWarning: overflow encountered in reduce\n",
      "  return ufunc.reduce(obj, axis, dtype, out, **passkwargs)\n",
      "/rds/general/user/sb2518/home/anaconda3/envs/py37/lib/python3.7/site-packages/numpy/core/fromnumeric.py:90: RuntimeWarning: overflow encountered in reduce\n",
      "  return ufunc.reduce(obj, axis, dtype, out, **passkwargs)\n"
     ]
    },
    {
     "name": "stderr",
     "output_type": "stream",
     "text": [
      "  3%|▎         | 401/12703 [00:25<31:03,  6.60it/s]"
     ]
    },
    {
     "name": "stdout",
     "output_type": "stream",
     "text": [
      "/rds/general/user/sb2518/home/anaconda3/envs/py37/lib/python3.7/site-packages/numpy/core/fromnumeric.py:90: RuntimeWarning: overflow encountered in reduce\n",
      "  return ufunc.reduce(obj, axis, dtype, out, **passkwargs)\n"
     ]
    },
    {
     "name": "stderr",
     "output_type": "stream",
     "text": [
      "  5%|▍         | 573/12703 [00:31<12:26, 16.24it/s]"
     ]
    },
    {
     "name": "stdout",
     "output_type": "stream",
     "text": [
      "/rds/general/user/sb2518/home/anaconda3/envs/py37/lib/python3.7/site-packages/numpy/core/fromnumeric.py:90: RuntimeWarning: overflow encountered in reduce\n",
      "  return ufunc.reduce(obj, axis, dtype, out, **passkwargs)\n"
     ]
    },
    {
     "name": "stderr",
     "output_type": "stream",
     "text": [
      "  5%|▌         | 647/12703 [00:34<22:55,  8.76it/s]"
     ]
    },
    {
     "name": "stdout",
     "output_type": "stream",
     "text": [
      "/rds/general/user/sb2518/home/anaconda3/envs/py37/lib/python3.7/site-packages/numpy/core/fromnumeric.py:90: RuntimeWarning: overflow encountered in reduce\n",
      "  return ufunc.reduce(obj, axis, dtype, out, **passkwargs)\n"
     ]
    },
    {
     "name": "stderr",
     "output_type": "stream",
     "text": [
      "  7%|▋         | 856/12703 [00:48<34:23,  5.74it/s]"
     ]
    },
    {
     "name": "stdout",
     "output_type": "stream",
     "text": [
      "/rds/general/user/sb2518/home/anaconda3/envs/py37/lib/python3.7/site-packages/numpy/core/fromnumeric.py:90: RuntimeWarning: overflow encountered in reduce\n",
      "  return ufunc.reduce(obj, axis, dtype, out, **passkwargs)\n"
     ]
    },
    {
     "name": "stderr",
     "output_type": "stream",
     "text": [
      " 10%|▉         | 1220/12703 [01:05<13:57, 13.71it/s]"
     ]
    },
    {
     "name": "stdout",
     "output_type": "stream",
     "text": [
      "/rds/general/user/sb2518/home/anaconda3/envs/py37/lib/python3.7/site-packages/numpy/core/fromnumeric.py:90: RuntimeWarning: overflow encountered in reduce\n",
      "  return ufunc.reduce(obj, axis, dtype, out, **passkwargs)\n",
      "/rds/general/user/sb2518/home/anaconda3/envs/py37/lib/python3.7/site-packages/numpy/core/fromnumeric.py:90: RuntimeWarning: overflow encountered in reduce\n",
      "  return ufunc.reduce(obj, axis, dtype, out, **passkwargs)\n"
     ]
    },
    {
     "name": "stderr",
     "output_type": "stream",
     "text": [
      " 11%|█         | 1382/12703 [01:14<30:27,  6.20it/s]"
     ]
    },
    {
     "name": "stdout",
     "output_type": "stream",
     "text": [
      "/rds/general/user/sb2518/home/anaconda3/envs/py37/lib/python3.7/site-packages/numpy/core/fromnumeric.py:90: RuntimeWarning: overflow encountered in reduce\n",
      "  return ufunc.reduce(obj, axis, dtype, out, **passkwargs)\n"
     ]
    },
    {
     "name": "stderr",
     "output_type": "stream",
     "text": [
      " 21%|██▏       | 2709/12703 [02:09<27:52,  5.97it/s]"
     ]
    },
    {
     "name": "stdout",
     "output_type": "stream",
     "text": [
      "/rds/general/user/sb2518/home/anaconda3/envs/py37/lib/python3.7/site-packages/numpy/core/fromnumeric.py:90: RuntimeWarning: overflow encountered in reduce\n",
      "  return ufunc.reduce(obj, axis, dtype, out, **passkwargs)\n"
     ]
    },
    {
     "name": "stderr",
     "output_type": "stream",
     "text": [
      " 23%|██▎       | 2926/12703 [02:18<18:14,  8.93it/s]"
     ]
    },
    {
     "name": "stdout",
     "output_type": "stream",
     "text": [
      "/rds/general/user/sb2518/home/anaconda3/envs/py37/lib/python3.7/site-packages/numpy/core/fromnumeric.py:90: RuntimeWarning: overflow encountered in reduce\n",
      "  return ufunc.reduce(obj, axis, dtype, out, **passkwargs)\n"
     ]
    },
    {
     "name": "stderr",
     "output_type": "stream",
     "text": [
      " 30%|██▉       | 3763/12703 [02:52<12:17, 12.12it/s]"
     ]
    },
    {
     "name": "stdout",
     "output_type": "stream",
     "text": [
      "/rds/general/user/sb2518/home/anaconda3/envs/py37/lib/python3.7/site-packages/numpy/core/fromnumeric.py:90: RuntimeWarning: overflow encountered in reduce\n",
      "  return ufunc.reduce(obj, axis, dtype, out, **passkwargs)\n"
     ]
    },
    {
     "name": "stderr",
     "output_type": "stream",
     "text": [
      " 32%|███▏      | 4106/12703 [03:09<15:41,  9.13it/s]"
     ]
    },
    {
     "name": "stdout",
     "output_type": "stream",
     "text": [
      "/rds/general/user/sb2518/home/anaconda3/envs/py37/lib/python3.7/site-packages/numpy/core/fromnumeric.py:90: RuntimeWarning: overflow encountered in reduce\n",
      "  return ufunc.reduce(obj, axis, dtype, out, **passkwargs)\n"
     ]
    },
    {
     "name": "stderr",
     "output_type": "stream",
     "text": [
      " 34%|███▎      | 4258/12703 [03:16<15:53,  8.86it/s]"
     ]
    },
    {
     "name": "stdout",
     "output_type": "stream",
     "text": [
      "/rds/general/user/sb2518/home/anaconda3/envs/py37/lib/python3.7/site-packages/numpy/core/fromnumeric.py:90: RuntimeWarning: overflow encountered in reduce\n",
      "  return ufunc.reduce(obj, axis, dtype, out, **passkwargs)\n"
     ]
    },
    {
     "name": "stderr",
     "output_type": "stream",
     "text": [
      " 35%|███▍      | 4445/12703 [03:28<15:01,  9.16it/s]"
     ]
    },
    {
     "name": "stdout",
     "output_type": "stream",
     "text": [
      "/rds/general/user/sb2518/home/anaconda3/envs/py37/lib/python3.7/site-packages/numpy/core/fromnumeric.py:90: RuntimeWarning: overflow encountered in reduce\n",
      "  return ufunc.reduce(obj, axis, dtype, out, **passkwargs)\n"
     ]
    },
    {
     "name": "stderr",
     "output_type": "stream",
     "text": [
      " 40%|████      | 5095/12703 [03:59<16:24,  7.72it/s]"
     ]
    },
    {
     "name": "stdout",
     "output_type": "stream",
     "text": [
      "/rds/general/user/sb2518/home/anaconda3/envs/py37/lib/python3.7/site-packages/numpy/core/fromnumeric.py:90: RuntimeWarning: overflow encountered in reduce\n",
      "  return ufunc.reduce(obj, axis, dtype, out, **passkwargs)\n"
     ]
    },
    {
     "name": "stderr",
     "output_type": "stream",
     "text": [
      " 49%|████▊     | 6161/12703 [04:48<04:22, 24.92it/s]"
     ]
    },
    {
     "name": "stdout",
     "output_type": "stream",
     "text": [
      "/rds/general/user/sb2518/home/anaconda3/envs/py37/lib/python3.7/site-packages/numpy/core/fromnumeric.py:90: RuntimeWarning: overflow encountered in reduce\n",
      "  return ufunc.reduce(obj, axis, dtype, out, **passkwargs)\n"
     ]
    },
    {
     "name": "stderr",
     "output_type": "stream",
     "text": [
      " 57%|█████▋    | 7256/12703 [05:36<10:01,  9.05it/s]"
     ]
    },
    {
     "name": "stdout",
     "output_type": "stream",
     "text": [
      "/rds/general/user/sb2518/home/anaconda3/envs/py37/lib/python3.7/site-packages/numpy/core/fromnumeric.py:90: RuntimeWarning: overflow encountered in reduce\n",
      "  return ufunc.reduce(obj, axis, dtype, out, **passkwargs)\n"
     ]
    },
    {
     "name": "stderr",
     "output_type": "stream",
     "text": [
      " 58%|█████▊    | 7431/12703 [05:44<06:47, 12.93it/s]"
     ]
    },
    {
     "name": "stdout",
     "output_type": "stream",
     "text": [
      "/rds/general/user/sb2518/home/anaconda3/envs/py37/lib/python3.7/site-packages/numpy/core/fromnumeric.py:90: RuntimeWarning: overflow encountered in reduce\n",
      "  return ufunc.reduce(obj, axis, dtype, out, **passkwargs)\n"
     ]
    },
    {
     "name": "stderr",
     "output_type": "stream",
     "text": [
      " 85%|████████▍ | 10735/12703 [08:38<04:00,  8.19it/s]"
     ]
    },
    {
     "name": "stdout",
     "output_type": "stream",
     "text": [
      "/rds/general/user/sb2518/home/anaconda3/envs/py37/lib/python3.7/site-packages/numpy/core/fromnumeric.py:90: RuntimeWarning: overflow encountered in reduce\n",
      "  return ufunc.reduce(obj, axis, dtype, out, **passkwargs)\n"
     ]
    },
    {
     "name": "stderr",
     "output_type": "stream",
     "text": [
      "100%|██████████| 12703/12703 [10:06<00:00, 20.94it/s]\n"
     ]
    }
   ],
   "source": [
    "features = model.get_features()"
   ]
  },
  {
   "cell_type": "code",
   "execution_count": null,
   "metadata": {},
   "outputs": [],
   "source": [
    "features.to_pickle('feature_df.tar.gz')"
   ]
  },
  {
   "cell_type": "markdown",
   "metadata": {},
   "source": [
    "Running Random Forest Model"
   ]
  },
  {
   "cell_type": "code",
   "execution_count": 5,
   "metadata": {},
   "outputs": [],
   "source": [
    "model.random_forest()"
   ]
  },
  {
   "cell_type": "code",
   "execution_count": 6,
   "metadata": {},
   "outputs": [],
   "source": [
    "modified_features = features.dropna()"
   ]
  },
  {
   "cell_type": "code",
   "execution_count": 7,
   "metadata": {},
   "outputs": [],
   "source": [
    "X = modified_features.to_numpy(dtype=np.float32)\n",
    "y = model.data['Score'].to_numpy()"
   ]
  },
  {
   "cell_type": "code",
   "execution_count": 9,
   "metadata": {},
   "outputs": [
    {
     "name": "stderr",
     "output_type": "stream",
     "text": [
      "INFO:model_training:Accuracy\n",
      "0.8571186556225927\n",
      "INFO:model_training:Precision (Unsynthesisable)\n",
      "0.896772872032669\n",
      "INFO:model_training:Recall (Unsynthesisable)\n",
      "0.9388366259707512\n",
      "INFO:model_training:Precision (Synthesisable)\n",
      "0.5587906083823693\n",
      "INFO:model_training:Recall (Synthesisable)\n",
      "0.4349514563106796\n"
     ]
    }
   ],
   "source": [
    "model.train(X, y)"
   ]
  },
  {
   "cell_type": "code",
   "execution_count": 8,
   "metadata": {},
   "outputs": [],
   "source": [
    "X = np.nan_to_num(X, X.mean())"
   ]
  },
  {
   "cell_type": "code",
   "execution_count": 10,
   "metadata": {},
   "outputs": [],
   "source": [
    "np.argmax(model.model.feature_importances_)\n",
    "features_sorted = np.argsort(model.model.feature_importances_)"
   ]
  },
  {
   "cell_type": "markdown",
   "metadata": {},
   "source": [
    "Check for recursive feature importance"
   ]
  },
  {
   "cell_type": "code",
   "execution_count": 11,
   "metadata": {},
   "outputs": [],
   "source": [
    "from sklearn.feature_selection import RFECV\n",
    "splits = StratifiedKFold"
   ]
  },
  {
   "cell_type": "code",
   "execution_count": 12,
   "metadata": {},
   "outputs": [],
   "source": [
    "rfecv = RFECV(\n",
    "    estimator=model.model,\n",
    "    step=10,\n",
    "    cv=splits(5),\n",
    "    scoring='accuracy',\n",
    "    n_jobs=8,\n",
    ")"
   ]
  },
  {
   "cell_type": "code",
   "execution_count": 13,
   "metadata": {},
   "outputs": [
    {
     "data": {
      "text/plain": [
       "RFECV(cv=StratifiedKFold(n_splits=5, random_state=None, shuffle=False),\n",
       "      estimator=RandomForestClassifier(bootstrap=True, class_weight='balanced',\n",
       "                                       criterion='gini', max_depth=None,\n",
       "                                       max_features='auto', max_leaf_nodes=None,\n",
       "                                       min_impurity_decrease=0.0,\n",
       "                                       min_impurity_split=None,\n",
       "                                       min_samples_leaf=1, min_samples_split=2,\n",
       "                                       min_weight_fraction_leaf=0.0,\n",
       "                                       n_estimators=10, n_jobs=None,\n",
       "                                       oob_score=False, random_state=None,\n",
       "                                       verbose=0, warm_start=False),\n",
       "      min_features_to_select=1, n_jobs=8, scoring='accuracy', step=10,\n",
       "      verbose=0)"
      ]
     },
     "execution_count": 13,
     "metadata": {},
     "output_type": "execute_result"
    }
   ],
   "source": [
    "rfecv.fit(X, y)"
   ]
  },
  {
   "cell_type": "code",
   "execution_count": 14,
   "metadata": {},
   "outputs": [
    {
     "name": "stderr",
     "output_type": "stream",
     "text": [
      "DEBUG:matplotlib.pyplot:Loaded backend module://ipykernel.pylab.backend_inline version unknown.\n",
      "DEBUG:matplotlib.pyplot:Loaded backend module://ipykernel.pylab.backend_inline version unknown.\n"
     ]
    }
   ],
   "source": [
    "from matplotlib import pyplot as plt"
   ]
  },
  {
   "cell_type": "code",
   "execution_count": 16,
   "metadata": {},
   "outputs": [
    {
     "data": {
      "image/png": "[encoded data removed]",
      "text/plain": [
       "<Figure size 432x288 with 1 Axes>"
      ]
     },
     "metadata": {
      "needs_background": "light"
     },
     "output_type": "display_data"
    }
   ],
   "source": [
    "plt.figure()\n",
    "plt.xlabel(\"Number of Selected Features\")\n",
    "plt.ylabel(\"Cross Validation Score (Accuracy)\")\n",
    "plt.plot(range(1, len(rfecv.grid_scores_[:50])+1), rfecv.grid_scores_[:50])\n",
    "plt.show()"
   ]
  },
  {
   "cell_type": "code",
   "execution_count": 62,
   "metadata": {},
   "outputs": [],
   "source": [
    "df = pd.DataFrame(list(features.columns[:512]))\n",
    "df['Importance'] = rfecv.estimator.feature_importances_\n",
    "df = df.sort_values(by='Importance', ascending=False)"
   ]
  },
  {
   "cell_type": "code",
   "execution_count": 63,
   "metadata": {},
   "outputs": [
    {
     "data": {
      "image/png": "[encoded data removed]",
      "text/plain": [
       "<Figure size 432x288 with 1 Axes>"
      ]
     },
     "metadata": {
      "needs_background": "light"
     },
     "output_type": "display_data"
    }
   ],
   "source": [
    "plt.barh(y=df[0][:10], width=df['Importance'][:10], color='#1976D2')\n",
    "plt.title('RFECV - Feature Importances', fontsize=20, fontweight='bold', pad=20)\n",
    "plt.xlabel('Importance', fontsize=14, labelpad=20)\n",
    "plt.show()"
   ]
  },
  {
   "cell_type": "code",
   "execution_count": 56,
   "metadata": {},
   "outputs": [
    {
     "data": {
      "text/plain": [
       "512"
      ]
     },
     "execution_count": 56,
     "metadata": {},
     "output_type": "execute_result"
    }
   ],
   "source": [
    "len(features.columns[:512])\n",
    "len(rfecv.estimator.feature_importances_)"
   ]
  },
  {
   "cell_type": "code",
   "execution_count": 35,
   "metadata": {},
   "outputs": [
    {
     "data": {
      "text/plain": [
       "[0.030490449151924243,\n",
       " 0.02867946851856875,\n",
       " 0.01659020197822416,\n",
       " 0.012286501336230691,\n",
       " 0.012155337891276654,\n",
       " 0.010949199347314278,\n",
       " 0.010890827625099131,\n",
       " 0.010662625859059792,\n",
       " 0.00798657756927033,\n",
       " 0.007732020730738064]"
      ]
     },
     "execution_count": 35,
     "metadata": {},
     "output_type": "execute_result"
    }
   ],
   "source": [
    "sorted(rfecv.estimator_.feature_importances_, reverse=True)[:10]\n"
   ]
  },
  {
   "cell_type": "code",
   "execution_count": null,
   "metadata": {},
   "outputs": [],
   "source": [
    "class Saver(stk.FitnessNormalizer):\n",
    "    # Fitness function in order:\n",
    "    # Pore volume\n",
    "    # Window size\n",
    "    # Asymmetry\n",
    "    # Synthetic accessibility (SAScore)\n",
    "    def normalize(self, population):\n",
    "        # Write the individual fitness values to the file.\n",
    "        fitness_values = population.get_fitness_values()\n",
    "        for mol in population:\n",
    "            mol.pore_diameter = fitness_values[mol][0]\n",
    "            mol.largest_window = fitness_values[mol][1]\n",
    "            mol.window_std = fitness_values[mol][2]\n",
    "            mol.sa_score = fitness_values[mol][3]\n",
    "        return fitness_values\n",
    "\n",
    "save_fitness = Saver()"
   ]
  },
  {
   "cell_type": "code",
   "execution_count": null,
   "metadata": {},
   "outputs": [],
   "source": [
    "X_new = rfecv.transform(X)"
   ]
  },
  {
   "cell_type": "code",
   "execution_count": null,
   "metadata": {},
   "outputs": [],
   "source": [
    "X_new.shape"
   ]
  },
  {
   "cell_type": "code",
   "execution_count": null,
   "metadata": {},
   "outputs": [],
   "source": [
    "X.shape"
   ]
  },
  {
   "cell_type": "code",
   "execution_count": null,
   "metadata": {},
   "outputs": [],
   "source": [
    "model.train(X_new, y)"
   ]
  },
  {
   "cell_type": "code",
   "execution_count": null,
   "metadata": {},
   "outputs": [],
   "source": [
    "model.train(X, y)"
   ]
  },
  {
   "cell_type": "code",
   "execution_count": null,
   "metadata": {},
   "outputs": [],
   "source": [
    "from sklearn.feature_selection import VarianceThreshold"
   ]
  },
  {
   "cell_type": "code",
   "execution_count": null,
   "metadata": {},
   "outputs": [],
   "source": [
    "sel = VarianceThreshold(threshold=(.8 * (1-.8)))\n",
    "sel.fit(X)\n",
    "X_trans = sel.transform(X)"
   ]
  },
  {
   "cell_type": "code",
   "execution_count": null,
   "metadata": {},
   "outputs": [],
   "source": [
    "X_trans.shape"
   ]
  },
  {
   "cell_type": "code",
   "execution_count": null,
   "metadata": {},
   "outputs": [],
   "source": [
    "model.train(X, y)"
   ]
  },
  {
   "cell_type": "code",
   "execution_count": null,
   "metadata": {},
   "outputs": [],
   "source": [
    "sel.get_params()"
   ]
  },
  {
   "cell_type": "code",
   "execution_count": null,
   "metadata": {},
   "outputs": [],
   "source": [
    "from sklearn.feature_selection import SelectFromModel"
   ]
  },
  {
   "cell_type": "code",
   "execution_count": null,
   "metadata": {},
   "outputs": [],
   "source": [
    "mdl = SelectFromModel(model.model, threshold=-np.inf, prefit=False, max_features=5)"
   ]
  },
  {
   "cell_type": "code",
   "execution_count": null,
   "metadata": {},
   "outputs": [],
   "source": [
    "mdl.fit(X, y)\n",
    "n_features = mdl.transform(X).shape[1]\n",
    "# while n_features > 2:\n",
    "#     mdl.threshold += 0.1\n",
    "#     X_transform = mdl.transform(X)\n",
    "#     n_features = X_transform.shape[1]\n",
    "#     print(n_features)"
   ]
  },
  {
   "cell_type": "code",
   "execution_count": null,
   "metadata": {},
   "outputs": [],
   "source": [
    "X_transform = mdl.transform(X)"
   ]
  },
  {
   "cell_type": "code",
   "execution_count": null,
   "metadata": {},
   "outputs": [],
   "source": [
    "X_transform.shape"
   ]
  },
  {
   "cell_type": "code",
   "execution_count": null,
   "metadata": {
    "scrolled": true
   },
   "outputs": [],
   "source": [
    "model.train(X_transform, y)"
   ]
  },
  {
   "cell_type": "code",
   "execution_count": null,
   "metadata": {},
   "outputs": [],
   "source": [
    "for feature_list_index in mdl.get_support(indices=True):\n",
    "    print(features.iloc[:, feature_list_index].name)"
   ]
  },
  {
   "cell_type": "code",
   "execution_count": null,
   "metadata": {},
   "outputs": [],
   "source": [
    "import matplotlib.pyplot as plt"
   ]
  },
  {
   "cell_type": "code",
   "execution_count": null,
   "metadata": {},
   "outputs": [],
   "source": [
    "dir(features)"
   ]
  },
  {
   "cell_type": "code",
   "execution_count": 20,
   "metadata": {},
   "outputs": [
    {
     "name": "stdout",
     "output_type": "stream",
     "text": [
      "Help on SAScore in module model_training object:\n",
      "\n",
      "class SAScore(builtins.object)\n",
      " |  SAScore(random_state=None)\n",
      " |  \n",
      " |  A class to contain ML models for synthetic accessibility scoring.\n",
      " |  \n",
      " |  Methods defined here:\n",
      " |  \n",
      " |  __init__(self, random_state=None)\n",
      " |      Initialize self.  See help(type(self)) for accurate signature.\n",
      " |  \n",
      " |  get_features(self)\n",
      " |      Gets the chemical features using Mordred.\n",
      " |  \n",
      " |  load_data(self, data_path)\n",
      " |      Loads the training data files.\n",
      " |      \n",
      " |      Parameters\n",
      " |      ----------\n",
      " |      data : :class:`str`\n",
      " |          The path to the data file used for loading.\n",
      " |  \n",
      " |  logistic_regression(self)\n",
      " |      Uses logistic regression for making predictions.\n",
      " |  \n",
      " |  multi_layer_perceptron(self)\n",
      " |  \n",
      " |  parse_data(self)\n",
      " |  \n",
      " |  random_forest(self)\n",
      " |  \n",
      " |  svm(self, linear=True)\n",
      " |  \n",
      " |  train(self, X, y, splits=<class 'sklearn.model_selection._split.StratifiedKFold'>, dump=True, dump_path='/rds/general/user/sb2518/home/WORK/main_projects/synthetic_accessibility_project/stages/stage1_synthetic_accessibility_model_training/create_image')\n",
      " |      Trains the specified model.\n",
      " |  \n",
      " |  train_settings(self, oversampling=False, class_weights=True)\n",
      " |  \n",
      " |  ----------------------------------------------------------------------\n",
      " |  Data descriptors defined here:\n",
      " |  \n",
      " |  __dict__\n",
      " |      dictionary for instance variables (if defined)\n",
      " |  \n",
      " |  __weakref__\n",
      " |      list of weak references to the object (if defined)\n",
      "\n"
     ]
    }
   ],
   "source": [
    "help(model)"
   ]
  },
  {
   "cell_type": "code",
   "execution_count": null,
   "metadata": {},
   "outputs": [],
   "source": []
  }
 ],
 "metadata": {
  "kernelspec": {
   "display_name": "Python [conda env:py37]",
   "language": "python",
   "name": "conda-env-py37-py"
  },
  "language_info": {
   "codemirror_mode": {
    "name": "ipython",
    "version": 3
   },
   "file_extension": ".py",
   "mimetype": "text/x-python",
   "name": "python",
   "nbconvert_exporter": "python",
   "pygments_lexer": "ipython3",
   "version": "3.7.5"
  }
 },
 "nbformat": 4,
 "nbformat_minor": 2
}
