{
 "cells": [
  {
   "cell_type": "code",
   "execution_count": 1,
   "metadata": {},
   "outputs": [
    {
     "name": "stderr",
     "output_type": "stream",
     "text": [
      "RDKit WARNING: [14:17:08] Enabling RDKit 2019.09.1 jupyter extensions\n"
     ]
    }
   ],
   "source": [
    "from analyse_population import get_stk_pop\n",
    "from pathlib import Path"
   ]
  },
  {
   "cell_type": "code",
   "execution_count": 2,
   "metadata": {},
   "outputs": [],
   "source": [
    "%load_ext autoreload\n",
    "%autoreload 2"
   ]
  },
  {
   "cell_type": "code",
   "execution_count": 3,
   "metadata": {},
   "outputs": [],
   "source": [
    "ea_run_paths = list(Path('/rdsgpfs/general/user/sb2518/home/WORK/main_projects/synthetic_accessibility_project/stages/stage2_evolutionary_algorithm/create_image/case_studies').glob('case_study*/**/run*_f/ea_run.log'))"
   ]
  },
  {
   "cell_type": "code",
   "execution_count": 4,
   "metadata": {},
   "outputs": [
    {
     "name": "stderr",
     "output_type": "stream",
     "text": [
      "Embedding with seed value of \"4\" failed. Using alternative value of \"5\" was successful.\n",
      "Embedding with seed value of \"4\" failed. Using alternative value of \"5\" was successful.\n",
      "Embedding with seed value of \"4\" failed. Using alternative value of \"5\" was successful.\n",
      "Embedding with seed value of \"4\" failed. Using alternative value of \"5\" was successful.\n",
      "Embedding with seed value of \"4\" failed. Using alternative value of \"5\" was successful.\n",
      "Embedding with seed value of \"4\" failed. Using alternative value of \"5\" was successful.\n",
      "Embedding with seed value of \"4\" failed. Using alternative value of \"5\" was successful.\n",
      "Embedding with seed value of \"4\" failed. Using alternative value of \"5\" was successful.\n",
      "Embedding with seed value of \"4\" failed. Using alternative value of \"5\" was successful.\n",
      "Embedding with seed value of \"4\" failed. Using alternative value of \"5\" was successful.\n",
      "Embedding with seed value of \"4\" failed. Using alternative value of \"5\" was successful.\n",
      "Embedding with seed value of \"4\" failed. Using alternative value of \"5\" was successful.\n",
      "Embedding with seed value of \"4\" failed. Using alternative value of \"5\" was successful.\n",
      "Embedding with seed value of \"4\" failed. Using alternative value of \"5\" was successful.\n",
      "Embedding with seed value of \"4\" failed. Using alternative value of \"5\" was successful.\n",
      "Embedding with seed value of \"4\" failed. Using alternative value of \"5\" was successful.\n",
      "Embedding with seed value of \"4\" failed. Using alternative value of \"5\" was successful.\n",
      "Embedding with seed value of \"4\" failed. Using alternative value of \"5\" was successful.\n",
      "Embedding with seed value of \"4\" failed. Using alternative value of \"5\" was successful.\n",
      "Embedding with seed value of \"4\" failed. Using alternative value of \"5\" was successful.\n",
      "Embedding with seed value of \"4\" failed. Using alternative value of \"5\" was successful.\n",
      "Embedding with seed value of \"4\" failed. Using alternative value of \"5\" was successful.\n",
      "Embedding with seed value of \"4\" failed. Using alternative value of \"5\" was successful.\n",
      "Embedding with seed value of \"4\" failed. Using alternative value of \"5\" was successful.\n",
      "Embedding with seed value of \"4\" failed. Using alternative value of \"5\" was successful.\n",
      "Embedding with seed value of \"4\" failed. Using alternative value of \"5\" was successful.\n",
      "Embedding with seed value of \"4\" failed. Using alternative value of \"5\" was successful.\n",
      "Embedding with seed value of \"4\" failed. Using alternative value of \"5\" was successful.\n",
      "Embedding with seed value of \"4\" failed. Using alternative value of \"5\" was successful.\n",
      "Embedding with seed value of \"4\" failed. Using alternative value of \"5\" was successful.\n",
      "Embedding with seed value of \"4\" failed. Using alternative value of \"5\" was successful.\n",
      "Embedding with seed value of \"4\" failed. Using alternative value of \"5\" was successful.\n",
      "Embedding with seed value of \"4\" failed. Using alternative value of \"5\" was successful.\n",
      "Embedding with seed value of \"4\" failed. Using alternative value of \"5\" was successful.\n",
      "Embedding with seed value of \"4\" failed. Using alternative value of \"5\" was successful.\n",
      "Embedding with seed value of \"4\" failed. Using alternative value of \"5\" was successful.\n",
      "Embedding with seed value of \"4\" failed. Using alternative value of \"5\" was successful.\n",
      "Embedding with seed value of \"4\" failed. Using alternative value of \"5\" was successful.\n",
      "Embedding with seed value of \"4\" failed. Using alternative value of \"5\" was successful.\n",
      "Embedding with seed value of \"4\" failed. Using alternative value of \"5\" was successful.\n",
      "Embedding with seed value of \"4\" failed. Using alternative value of \"5\" was successful.\n",
      "Embedding with seed value of \"4\" failed. Using alternative value of \"5\" was successful.\n",
      "Embedding with seed value of \"4\" failed. Using alternative value of \"5\" was successful.\n",
      "Embedding with seed value of \"4\" failed. Using alternative value of \"5\" was successful.\n",
      "Embedding with seed value of \"4\" failed. Using alternative value of \"5\" was successful.\n",
      "Embedding with seed value of \"4\" failed. Using alternative value of \"5\" was successful.\n",
      "Embedding with seed value of \"4\" failed. Using alternative value of \"5\" was successful.\n",
      "Embedding with seed value of \"4\" failed. Using alternative value of \"5\" was successful.\n",
      "Embedding with seed value of \"4\" failed. Using alternative value of \"5\" was successful.\n",
      "Embedding with seed value of \"4\" failed. Using alternative value of \"5\" was successful.\n",
      "Embedding with seed value of \"4\" failed. Using alternative value of \"5\" was successful.\n",
      "Embedding with seed value of \"4\" failed. Using alternative value of \"5\" was successful.\n",
      "Embedding with seed value of \"4\" failed. Using alternative value of \"5\" was successful.\n",
      "Embedding with seed value of \"4\" failed. Using alternative value of \"5\" was successful.\n",
      "Embedding with seed value of \"4\" failed. Using alternative value of \"5\" was successful.\n",
      "Embedding with seed value of \"4\" failed. Using alternative value of \"5\" was successful.\n",
      "Embedding with seed value of \"4\" failed. Using alternative value of \"5\" was successful.\n",
      "Embedding with seed value of \"4\" failed. Using alternative value of \"5\" was successful.\n",
      "Embedding with seed value of \"4\" failed. Using alternative value of \"5\" was successful.\n",
      "Embedding with seed value of \"4\" failed. Using alternative value of \"6\" was successful.\n",
      "Embedding with seed value of \"4\" failed. Using alternative value of \"5\" was successful.\n",
      "Embedding with seed value of \"4\" failed. Using alternative value of \"6\" was successful.\n",
      "Embedding with seed value of \"4\" failed. Using alternative value of \"5\" was successful.\n",
      "Embedding with seed value of \"4\" failed. Using alternative value of \"5\" was successful.\n",
      "Embedding with seed value of \"4\" failed. Using alternative value of \"5\" was successful.\n",
      "Embedding with seed value of \"4\" failed. Using alternative value of \"5\" was successful.\n",
      "Embedding with seed value of \"4\" failed. Using alternative value of \"5\" was successful.\n",
      "Embedding with seed value of \"4\" failed. Using alternative value of \"5\" was successful.\n",
      "Embedding with seed value of \"4\" failed. Using alternative value of \"5\" was successful.\n",
      "Embedding with seed value of \"4\" failed. Using alternative value of \"5\" was successful.\n",
      "Embedding with seed value of \"4\" failed. Using alternative value of \"5\" was successful.\n",
      "Embedding with seed value of \"4\" failed. Using alternative value of \"5\" was successful.\n",
      "Embedding with seed value of \"4\" failed. Using alternative value of \"5\" was successful.\n",
      "Embedding with seed value of \"4\" failed. Using alternative value of \"5\" was successful.\n",
      "Embedding with seed value of \"4\" failed. Using alternative value of \"5\" was successful.\n",
      "Embedding with seed value of \"4\" failed. Using alternative value of \"5\" was successful.\n",
      "Embedding with seed value of \"4\" failed. Using alternative value of \"5\" was successful.\n"
     ]
    },
    {
     "ename": "KeyboardInterrupt",
     "evalue": "",
     "output_type": "error",
     "traceback": [
      "\u001b[0;31m---------------------------------------------------------------------------\u001b[0m",
      "\u001b[0;31mKeyboardInterrupt\u001b[0m                         Traceback (most recent call last)",
      "\u001b[0;32m<ipython-input-4-f0a9f69481d1>\u001b[0m in \u001b[0;36m<module>\u001b[0;34m\u001b[0m\n\u001b[0;32m----> 1\u001b[0;31m \u001b[0mrun_data\u001b[0m \u001b[0;34m=\u001b[0m \u001b[0;34m[\u001b[0m\u001b[0mget_stk_pop\u001b[0m\u001b[0;34m(\u001b[0m\u001b[0mstr\u001b[0m\u001b[0;34m(\u001b[0m\u001b[0mpop\u001b[0m\u001b[0;34m)\u001b[0m\u001b[0;34m)\u001b[0m \u001b[0;32mfor\u001b[0m \u001b[0mpop\u001b[0m \u001b[0;32min\u001b[0m \u001b[0mea_run_paths\u001b[0m\u001b[0;34m]\u001b[0m\u001b[0;34m\u001b[0m\u001b[0;34m\u001b[0m\u001b[0m\n\u001b[0m",
      "\u001b[0;32m<ipython-input-4-f0a9f69481d1>\u001b[0m in \u001b[0;36m<listcomp>\u001b[0;34m(.0)\u001b[0m\n\u001b[0;32m----> 1\u001b[0;31m \u001b[0mrun_data\u001b[0m \u001b[0;34m=\u001b[0m \u001b[0;34m[\u001b[0m\u001b[0mget_stk_pop\u001b[0m\u001b[0;34m(\u001b[0m\u001b[0mstr\u001b[0m\u001b[0;34m(\u001b[0m\u001b[0mpop\u001b[0m\u001b[0;34m)\u001b[0m\u001b[0;34m)\u001b[0m \u001b[0;32mfor\u001b[0m \u001b[0mpop\u001b[0m \u001b[0;32min\u001b[0m \u001b[0mea_run_paths\u001b[0m\u001b[0;34m]\u001b[0m\u001b[0;34m\u001b[0m\u001b[0;34m\u001b[0m\u001b[0m\n\u001b[0m",
      "\u001b[0;32m/rdsgpfs/general/user/sb2518/home/WORK/main_projects/synthetic_accessibility_project/stages/stage3_ea_analysis/create_image/analyse_population.py\u001b[0m in \u001b[0;36mget_stk_pop\u001b[0;34m(pop_path)\u001b[0m\n\u001b[1;32m     66\u001b[0m     \u001b[0mpop_path\u001b[0m \u001b[0;34m=\u001b[0m \u001b[0mPath\u001b[0m\u001b[0;34m(\u001b[0m\u001b[0mpop_path\u001b[0m\u001b[0;34m)\u001b[0m\u001b[0;34m\u001b[0m\u001b[0;34m\u001b[0m\u001b[0m\n\u001b[1;32m     67\u001b[0m     \u001b[0mpop\u001b[0m \u001b[0;34m=\u001b[0m \u001b[0mload_population\u001b[0m\u001b[0;34m(\u001b[0m\u001b[0mstr\u001b[0m\u001b[0;34m(\u001b[0m\u001b[0mpop_path\u001b[0m\u001b[0;34m)\u001b[0m\u001b[0;34m)\u001b[0m\u001b[0;34m\u001b[0m\u001b[0;34m\u001b[0m\u001b[0m\n\u001b[0;32m---> 68\u001b[0;31m     \u001b[0mpop\u001b[0m \u001b[0;34m=\u001b[0m \u001b[0mparse_population\u001b[0m\u001b[0;34m(\u001b[0m\u001b[0mpop\u001b[0m\u001b[0;34m)\u001b[0m\u001b[0;34m\u001b[0m\u001b[0;34m\u001b[0m\u001b[0m\n\u001b[0m\u001b[1;32m     69\u001b[0m     \u001b[0;32mreturn\u001b[0m \u001b[0mpop\u001b[0m\u001b[0;34m\u001b[0m\u001b[0;34m\u001b[0m\u001b[0m\n\u001b[1;32m     70\u001b[0m \u001b[0;34m\u001b[0m\u001b[0m\n",
      "\u001b[0;32m/rdsgpfs/general/user/sb2518/home/WORK/main_projects/synthetic_accessibility_project/stages/stage3_ea_analysis/create_image/analyse_population.py\u001b[0m in \u001b[0;36mparse_population\u001b[0;34m(pop)\u001b[0m\n\u001b[1;32m     53\u001b[0m         \u001b[0;32mfor\u001b[0m \u001b[0mmem\u001b[0m \u001b[0;32min\u001b[0m \u001b[0msp\u001b[0m\u001b[0;34m:\u001b[0m\u001b[0;34m\u001b[0m\u001b[0;34m\u001b[0m\u001b[0m\n\u001b[1;32m     54\u001b[0m             \u001b[0mp_bb\u001b[0m \u001b[0;34m=\u001b[0m \u001b[0mre\u001b[0m\u001b[0;34m.\u001b[0m\u001b[0mcompile\u001b[0m\u001b[0;34m(\u001b[0m\u001b[0;34m'(Const[^\\t]+)'\u001b[0m\u001b[0;34m)\u001b[0m\u001b[0;34m\u001b[0m\u001b[0;34m\u001b[0m\u001b[0m\n\u001b[0;32m---> 55\u001b[0;31m             \u001b[0mstk_mem\u001b[0m \u001b[0;34m=\u001b[0m \u001b[0meval\u001b[0m\u001b[0;34m(\u001b[0m\u001b[0mp_bb\u001b[0m\u001b[0;34m.\u001b[0m\u001b[0msearch\u001b[0m\u001b[0;34m(\u001b[0m\u001b[0mmem\u001b[0m\u001b[0;34m)\u001b[0m\u001b[0;34m[\u001b[0m\u001b[0;36m0\u001b[0m\u001b[0;34m]\u001b[0m\u001b[0;34m)\u001b[0m\u001b[0;34m\u001b[0m\u001b[0;34m\u001b[0m\u001b[0m\n\u001b[0m\u001b[1;32m     56\u001b[0m             stk_mem.fitness_vector = literal_eval(\n\u001b[1;32m     57\u001b[0m                 re.search('\\t(\\[([^\\,]+\\,)+[^\\]]+\\])', mem).group(1))\n",
      "\u001b[0;32m/rdsgpfs/general/user/sb2518/home/WORK/main_projects/synthetic_accessibility_project/stages/stage3_ea_analysis/create_image/analyse_population.py\u001b[0m in \u001b[0;36m<module>\u001b[0;34m\u001b[0m\n",
      "\u001b[0;32m/rdsgpfs/general/user/sb2518/home/WORK/main_projects/stk/src/stk/molecular/molecules/molecule.py\u001b[0m in \u001b[0;36m__call__\u001b[0;34m(cls, *args, **kwargs)\u001b[0m\n\u001b[1;32m     21\u001b[0m \u001b[0;32mclass\u001b[0m \u001b[0m_Cached\u001b[0m\u001b[0;34m(\u001b[0m\u001b[0mtype\u001b[0m\u001b[0;34m)\u001b[0m\u001b[0;34m:\u001b[0m\u001b[0;34m\u001b[0m\u001b[0;34m\u001b[0m\u001b[0m\n\u001b[1;32m     22\u001b[0m     \u001b[0;32mdef\u001b[0m \u001b[0m__call__\u001b[0m\u001b[0;34m(\u001b[0m\u001b[0mcls\u001b[0m\u001b[0;34m,\u001b[0m \u001b[0;34m*\u001b[0m\u001b[0margs\u001b[0m\u001b[0;34m,\u001b[0m \u001b[0;34m**\u001b[0m\u001b[0mkwargs\u001b[0m\u001b[0;34m)\u001b[0m\u001b[0;34m:\u001b[0m\u001b[0;34m\u001b[0m\u001b[0;34m\u001b[0m\u001b[0m\n\u001b[0;32m---> 23\u001b[0;31m         \u001b[0;32mreturn\u001b[0m \u001b[0mcls\u001b[0m\u001b[0;34m.\u001b[0m\u001b[0m_construct\u001b[0m\u001b[0;34m(\u001b[0m\u001b[0;34m*\u001b[0m\u001b[0margs\u001b[0m\u001b[0;34m,\u001b[0m \u001b[0;34m**\u001b[0m\u001b[0mkwargs\u001b[0m\u001b[0;34m)\u001b[0m\u001b[0;34m\u001b[0m\u001b[0;34m\u001b[0m\u001b[0m\n\u001b[0m\u001b[1;32m     24\u001b[0m \u001b[0;34m\u001b[0m\u001b[0m\n\u001b[1;32m     25\u001b[0m \u001b[0;34m\u001b[0m\u001b[0m\n",
      "\u001b[0;32m/rdsgpfs/general/user/sb2518/home/WORK/main_projects/stk/src/stk/molecular/molecules/building_block.py\u001b[0m in \u001b[0;36m_construct\u001b[0;34m(cls, smiles, functional_groups, random_seed, use_cache)\u001b[0m\n\u001b[1;32m    137\u001b[0m         \u001b[0mparams\u001b[0m\u001b[0;34m.\u001b[0m\u001b[0mrandomSeed\u001b[0m \u001b[0;34m=\u001b[0m \u001b[0mrandom_seed\u001b[0m\u001b[0;34m\u001b[0m\u001b[0;34m\u001b[0m\u001b[0m\n\u001b[1;32m    138\u001b[0m         \u001b[0;32mfor\u001b[0m \u001b[0mi\u001b[0m \u001b[0;32min\u001b[0m \u001b[0mrange\u001b[0m\u001b[0;34m(\u001b[0m\u001b[0;36m100\u001b[0m\u001b[0;34m)\u001b[0m\u001b[0;34m:\u001b[0m\u001b[0;34m\u001b[0m\u001b[0;34m\u001b[0m\u001b[0m\n\u001b[0;32m--> 139\u001b[0;31m             \u001b[0mfailed\u001b[0m \u001b[0;34m=\u001b[0m \u001b[0mrdkit\u001b[0m\u001b[0;34m.\u001b[0m\u001b[0mEmbedMolecule\u001b[0m\u001b[0;34m(\u001b[0m\u001b[0mmol\u001b[0m\u001b[0;34m,\u001b[0m \u001b[0mparams\u001b[0m\u001b[0;34m)\u001b[0m \u001b[0;34m==\u001b[0m \u001b[0;34m-\u001b[0m\u001b[0;36m1\u001b[0m\u001b[0;34m\u001b[0m\u001b[0;34m\u001b[0m\u001b[0m\n\u001b[0m\u001b[1;32m    140\u001b[0m             \u001b[0;32mif\u001b[0m \u001b[0mfailed\u001b[0m\u001b[0;34m:\u001b[0m\u001b[0;34m\u001b[0m\u001b[0;34m\u001b[0m\u001b[0m\n\u001b[1;32m    141\u001b[0m                 \u001b[0mparams\u001b[0m\u001b[0;34m.\u001b[0m\u001b[0mrandomSeed\u001b[0m \u001b[0;34m+=\u001b[0m \u001b[0;36m1\u001b[0m\u001b[0;34m\u001b[0m\u001b[0;34m\u001b[0m\u001b[0m\n",
      "\u001b[0;31mKeyboardInterrupt\u001b[0m: "
     ]
    }
   ],
   "source": [
    "run_data = [get_stk_pop(str(pop)) for pop in ea_run_paths]"
   ]
  },
  {
   "cell_type": "code",
   "execution_count": null,
   "metadata": {},
   "outputs": [],
   "source": []
  }
 ],
 "metadata": {
  "kernelspec": {
   "display_name": "Python [conda env:py37]",
   "language": "python",
   "name": "conda-env-py37-py"
  },
  "language_info": {
   "codemirror_mode": {
    "name": "ipython",
    "version": 3
   },
   "file_extension": ".py",
   "mimetype": "text/x-python",
   "name": "python",
   "nbconvert_exporter": "python",
   "pygments_lexer": "ipython3",
   "version": "3.7.5"
  }
 },
 "nbformat": 4,
 "nbformat_minor": 2
}
