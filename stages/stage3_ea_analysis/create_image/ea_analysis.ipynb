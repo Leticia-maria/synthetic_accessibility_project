{
 "cells": [
  {
   "cell_type": "code",
   "execution_count": 1,
   "metadata": {},
   "outputs": [
    {
     "name": "stderr",
     "output_type": "stream",
     "text": [
      "RDKit WARNING: [18:05:16] Enabling RDKit 2019.09.1 jupyter extensions\n"
     ]
    }
   ],
   "source": [
    "import stk\n",
    "from rdkit.Chem import AllChem as rdkit\n",
    "import sys\n",
    "import os\n",
    "from rdkit.Chem import RDConfig\n",
    "from rdkit.Chem.Draw import IPythonConsole\n",
    "sys.path.append(RDConfig.RDContribDir)"
   ]
  },
  {
   "cell_type": "code",
   "execution_count": 2,
   "metadata": {},
   "outputs": [],
   "source": [
    "from pathlib import Path"
   ]
  },
  {
   "cell_type": "code",
   "execution_count": 25,
   "metadata": {},
   "outputs": [],
   "source": [
    "sys.path.append(\n",
    "    '/rds/general/user/sb2518/home/WORK/main_projects/synthetic_accessibility_project'\n",
    "    '/stages/stage2_evolutionary_algorithm/create_image/utilities')\n",
    "sys.path.append('/rds/general/user/sb2518/home/WORK/main_projects/'\n",
    "                'synthetic_accessibility_project/stages'\n",
    "                '/stage1_synthetic_accessibility_model_training/create_image')"
   ]
  },
  {
   "cell_type": "code",
   "execution_count": 26,
   "metadata": {},
   "outputs": [],
   "source": [
    "from sascore.sascorer import calculateScore\n",
    "from scscore.scscore import SCScore\n",
    "from model_training import SAScore\n",
    "scscore = SCScore()\n"
   ]
  },
  {
   "cell_type": "code",
   "execution_count": 32,
   "metadata": {},
   "outputs": [
    {
     "name": "stderr",
     "output_type": "stream",
     "text": [
      "RDKit WARNING: [18:57:34] Conflicting single bond directions around double bond at index 3.\n",
      "RDKit WARNING: [18:57:34]   BondStereo set to STEREONONE and single bond directions set to NONE.\n",
      "RDKit WARNING: [18:57:34] Conflicting single bond directions around double bond at index 1.\n",
      "RDKit WARNING: [18:57:34]   BondStereo set to STEREONONE and single bond directions set to NONE.\n",
      "RDKit WARNING: [18:57:35] Conflicting single bond directions around double bond at index 2.\n",
      "RDKit WARNING: [18:57:35]   BondStereo set to STEREONONE and single bond directions set to NONE.\n",
      "RDKit WARNING: [18:57:35] Conflicting single bond directions around double bond at index 1.\n",
      "RDKit WARNING: [18:57:35]   BondStereo set to STEREONONE and single bond directions set to NONE.\n",
      "RDKit WARNING: [18:57:38] Conflicting single bond directions around double bond at index 2.\n",
      "RDKit WARNING: [18:57:38]   BondStereo set to STEREONONE and single bond directions set to NONE.\n",
      "RDKit WARNING: [18:57:40] Conflicting single bond directions around double bond at index 1.\n",
      "RDKit WARNING: [18:57:40]   BondStereo set to STEREONONE and single bond directions set to NONE.\n",
      "RDKit WARNING: [18:57:41] Conflicting single bond directions around double bond at index 2.\n",
      "RDKit WARNING: [18:57:41]   BondStereo set to STEREONONE and single bond directions set to NONE.\n",
      "RDKit WARNING: [18:57:43] Conflicting single bond directions around double bond at index 1.\n",
      "RDKit WARNING: [18:57:43]   BondStereo set to STEREONONE and single bond directions set to NONE.\n",
      "RDKit WARNING: [18:57:43] Conflicting single bond directions around double bond at index 1.\n",
      "RDKit WARNING: [18:57:43]   BondStereo set to STEREONONE and single bond directions set to NONE.\n"
     ]
    }
   ],
   "source": [
    "model = SAScore()\n",
    "model.load_data('/rds/general/user/sb2518/home/WORK/main_projects/synthetic_accessibility_project/stages/stage1_synthetic_accessibility_model_training'\n",
    "                  '/create_image/databases/combined_data.csv')"
   ]
  },
  {
   "cell_type": "code",
   "execution_count": 33,
   "metadata": {},
   "outputs": [],
   "source": [
    "model.random_forest()"
   ]
  },
  {
   "cell_type": "code",
   "execution_count": 38,
   "metadata": {},
   "outputs": [],
   "source": [
    "import numpy as np\n",
    "model.train(X=np.zeros(1), y=np.zeros(1))"
   ]
  },
  {
   "cell_type": "code",
   "execution_count": 14,
   "metadata": {},
   "outputs": [],
   "source": [
    "database = Path('/rds/general/user/sb2518/home/WORK/main_projects/synthetic_accessibility_project/'\n",
    "                'stages/stage2_evolutionary_algorithm/create_image/databases/filtered_precursors')\n",
    "amines = list(database.glob('amine2/*.mol'))\n",
    "aldehydes = list(database.glob('aldehyde3/*.mol'))\n"
   ]
  },
  {
   "cell_type": "code",
   "execution_count": 39,
   "metadata": {},
   "outputs": [],
   "source": [
    "import itertools\n",
    "from model_training import get_fingerprint"
   ]
  },
  {
   "cell_type": "code",
   "execution_count": 132,
   "metadata": {},
   "outputs": [],
   "source": [
    "mol = rdkit.MolFromMolFile(str(amines[0]))"
   ]
  },
  {
   "cell_type": "code",
   "execution_count": 134,
   "metadata": {},
   "outputs": [
    {
     "data": {
      "text/plain": [
       "<rdkit.rdBase._vecti at 0x2b9492517990>"
      ]
     },
     "execution_count": 134,
     "metadata": {},
     "output_type": "execute_result"
    }
   ],
   "source": [
    "rdkit.EmbedMultipleConfs(mol)"
   ]
  },
  {
   "cell_type": "code",
   "execution_count": 140,
   "metadata": {},
   "outputs": [
    {
     "data": {
      "text/plain": [
       "['ClearComputedProps',\n",
       " 'ClearProp',\n",
       " 'GetAtomPosition',\n",
       " 'GetBoolProp',\n",
       " 'GetDoubleProp',\n",
       " 'GetId',\n",
       " 'GetIntProp',\n",
       " 'GetNumAtoms',\n",
       " 'GetOwningMol',\n",
       " 'GetPositions',\n",
       " 'GetProp',\n",
       " 'GetPropNames',\n",
       " 'GetPropsAsDict',\n",
       " 'GetUnsignedProp',\n",
       " 'HasOwningMol',\n",
       " 'HasProp',\n",
       " 'Is3D',\n",
       " 'Set3D',\n",
       " 'SetAtomPosition',\n",
       " 'SetBoolProp',\n",
       " 'SetDoubleProp',\n",
       " 'SetId',\n",
       " 'SetIntProp',\n",
       " 'SetProp',\n",
       " 'SetUnsignedProp',\n",
       " '__class__',\n",
       " '__delattr__',\n",
       " '__dict__',\n",
       " '__dir__',\n",
       " '__doc__',\n",
       " '__eq__',\n",
       " '__format__',\n",
       " '__ge__',\n",
       " '__getattribute__',\n",
       " '__gt__',\n",
       " '__hash__',\n",
       " '__init__',\n",
       " '__init_subclass__',\n",
       " '__instance_size__',\n",
       " '__le__',\n",
       " '__lt__',\n",
       " '__module__',\n",
       " '__ne__',\n",
       " '__new__',\n",
       " '__reduce__',\n",
       " '__reduce_ex__',\n",
       " '__repr__',\n",
       " '__setattr__',\n",
       " '__sizeof__',\n",
       " '__str__',\n",
       " '__subclasshook__',\n",
       " '__weakref__']"
      ]
     },
     "execution_count": 140,
     "metadata": {},
     "output_type": "execute_result"
    }
   ],
   "source": [
    "dir(mol.GetConformer(1))"
   ]
  },
  {
   "cell_type": "code",
   "execution_count": 149,
   "metadata": {},
   "outputs": [],
   "source": [
    "mol.GetConformer(7).SetId(0)"
   ]
  },
  {
   "cell_type": "code",
   "execution_count": 150,
   "metadata": {},
   "outputs": [
    {
     "data": {
      "text/plain": [
       "(<rdkit.Chem.rdchem.Conformer at 0x2b94924ee5d0>,\n",
       " <rdkit.Chem.rdchem.Conformer at 0x2b949251ed50>,\n",
       " <rdkit.Chem.rdchem.Conformer at 0x2b949251ef30>,\n",
       " <rdkit.Chem.rdchem.Conformer at 0x2b949251eed0>,\n",
       " <rdkit.Chem.rdchem.Conformer at 0x2b949251edb0>,\n",
       " <rdkit.Chem.rdchem.Conformer at 0x2b949251ecf0>,\n",
       " <rdkit.Chem.rdchem.Conformer at 0x2b949251ec90>,\n",
       " <rdkit.Chem.rdchem.Conformer at 0x2b949251eb10>,\n",
       " <rdkit.Chem.rdchem.Conformer at 0x2b949251ebd0>,\n",
       " <rdkit.Chem.rdchem.Conformer at 0x2b949251ea50>)"
      ]
     },
     "execution_count": 150,
     "metadata": {},
     "output_type": "execute_result"
    }
   ],
   "source": [
    "mol.GetConformers()"
   ]
  },
  {
   "cell_type": "code",
   "execution_count": null,
   "metadata": {},
   "outputs": [],
   "source": [
    "from rdkit.Chem.PyMol import MolViewer\n",
    "v = MolViewer()"
   ]
  },
  {
   "cell_type": "code",
   "execution_count": 46,
   "metadata": {},
   "outputs": [],
   "source": [
    "sa_scores = []\n",
    "sc_scores = []\n",
    "ml_model_scores = []\n",
    "for combination in itertools.product(amines, aldehydes):\n",
    "    for mol in combination:\n",
    "        sa_score = []\n",
    "        sc_score = []\n",
    "        ml_score = []\n",
    "        rdkit_mol = rdkit.MolFromMolFile(str(mol))\n",
    "        rdkit_mol.UpdatePropertyCache()\n",
    "        rdkit.GetSymmSSSR(rdkit_mol)\n",
    "        rdkit_mol.GetRingInfo()\n",
    "        sa_score.append(calculateScore(rdkit_mol))\n",
    "        sc_score.append(scscore.score(rdkit_mol))\n",
    "        fingerprint = get_fingerprint(rdkit_mol)\n",
    "        ml_score.append(model.model.predict_proba(np.array(fingerprint).reshape(1, -1)))\n",
    "    sa_scores.append(sum(sa_score))\n",
    "    sc_scores.append(sum(sc_score))\n",
    "    ml_model_scores.append(sum(ml_score))"
   ]
  },
  {
   "cell_type": "code",
   "execution_count": 52,
   "metadata": {},
   "outputs": [],
   "source": [
    "import pandas as pd"
   ]
  },
  {
   "cell_type": "code",
   "execution_count": 98,
   "metadata": {},
   "outputs": [],
   "source": [
    "df = pd.DataFrame(zip(sa_scores, sc_scores, ml_scores_altered))"
   ]
  },
  {
   "cell_type": "code",
   "execution_count": 268,
   "metadata": {},
   "outputs": [],
   "source": [
    "ml_scores_altered = [score[0][1] for score in ml_model_scores]"
   ]
  },
  {
   "cell_type": "code",
   "execution_count": 269,
   "metadata": {},
   "outputs": [
    {
     "data": {
      "text/html": [
       "<div>\n",
       "<style scoped>\n",
       "    .dataframe tbody tr th:only-of-type {\n",
       "        vertical-align: middle;\n",
       "    }\n",
       "\n",
       "    .dataframe tbody tr th {\n",
       "        vertical-align: top;\n",
       "    }\n",
       "\n",
       "    .dataframe thead th {\n",
       "        text-align: right;\n",
       "    }\n",
       "</style>\n",
       "<table border=\"1\" class=\"dataframe\">\n",
       "  <thead>\n",
       "    <tr style=\"text-align: right;\">\n",
       "      <th></th>\n",
       "      <th>0</th>\n",
       "      <th>1</th>\n",
       "      <th>2</th>\n",
       "    </tr>\n",
       "  </thead>\n",
       "  <tbody>\n",
       "    <tr>\n",
       "      <th>0</th>\n",
       "      <td>3.411683</td>\n",
       "      <td>1.771309</td>\n",
       "      <td>0.159013</td>\n",
       "    </tr>\n",
       "    <tr>\n",
       "      <th>1</th>\n",
       "      <td>3.336393</td>\n",
       "      <td>2.214876</td>\n",
       "      <td>0.253123</td>\n",
       "    </tr>\n",
       "    <tr>\n",
       "      <th>2</th>\n",
       "      <td>3.910463</td>\n",
       "      <td>2.636551</td>\n",
       "      <td>0.000000</td>\n",
       "    </tr>\n",
       "    <tr>\n",
       "      <th>3</th>\n",
       "      <td>3.271723</td>\n",
       "      <td>2.102218</td>\n",
       "      <td>0.000000</td>\n",
       "    </tr>\n",
       "    <tr>\n",
       "      <th>4</th>\n",
       "      <td>5.238709</td>\n",
       "      <td>1.779251</td>\n",
       "      <td>0.357188</td>\n",
       "    </tr>\n",
       "    <tr>\n",
       "      <th>...</th>\n",
       "      <td>...</td>\n",
       "      <td>...</td>\n",
       "      <td>...</td>\n",
       "    </tr>\n",
       "    <tr>\n",
       "      <th>50782</th>\n",
       "      <td>2.606321</td>\n",
       "      <td>2.406128</td>\n",
       "      <td>0.000000</td>\n",
       "    </tr>\n",
       "    <tr>\n",
       "      <th>50783</th>\n",
       "      <td>3.660917</td>\n",
       "      <td>2.456233</td>\n",
       "      <td>1.000000</td>\n",
       "    </tr>\n",
       "    <tr>\n",
       "      <th>50784</th>\n",
       "      <td>2.000995</td>\n",
       "      <td>2.012053</td>\n",
       "      <td>0.100000</td>\n",
       "    </tr>\n",
       "    <tr>\n",
       "      <th>50785</th>\n",
       "      <td>1.987816</td>\n",
       "      <td>2.790262</td>\n",
       "      <td>0.000000</td>\n",
       "    </tr>\n",
       "    <tr>\n",
       "      <th>50786</th>\n",
       "      <td>2.999524</td>\n",
       "      <td>3.775275</td>\n",
       "      <td>0.316217</td>\n",
       "    </tr>\n",
       "  </tbody>\n",
       "</table>\n",
       "<p>50787 rows × 3 columns</p>\n",
       "</div>"
      ],
      "text/plain": [
       "              0         1         2\n",
       "0      3.411683  1.771309  0.159013\n",
       "1      3.336393  2.214876  0.253123\n",
       "2      3.910463  2.636551  0.000000\n",
       "3      3.271723  2.102218  0.000000\n",
       "4      5.238709  1.779251  0.357188\n",
       "...         ...       ...       ...\n",
       "50782  2.606321  2.406128  0.000000\n",
       "50783  3.660917  2.456233  1.000000\n",
       "50784  2.000995  2.012053  0.100000\n",
       "50785  1.987816  2.790262  0.000000\n",
       "50786  2.999524  3.775275  0.316217\n",
       "\n",
       "[50787 rows x 3 columns]"
      ]
     },
     "execution_count": 269,
     "metadata": {},
     "output_type": "execute_result"
    }
   ],
   "source": [
    "df"
   ]
  },
  {
   "cell_type": "code",
   "execution_count": 91,
   "metadata": {},
   "outputs": [
    {
     "data": {
      "text/plain": [
       "12703"
      ]
     },
     "execution_count": 91,
     "metadata": {},
     "output_type": "execute_result"
    }
   ],
   "source": [
    "len(model.labels)"
   ]
  },
  {
   "cell_type": "code",
   "execution_count": 270,
   "metadata": {},
   "outputs": [],
   "source": [
    "normalized_df=(df-df.min())/(df.max()-df.min())"
   ]
  },
  {
   "cell_type": "code",
   "execution_count": 100,
   "metadata": {},
   "outputs": [
    {
     "data": {
      "text/html": [
       "<div>\n",
       "<style scoped>\n",
       "    .dataframe tbody tr th:only-of-type {\n",
       "        vertical-align: middle;\n",
       "    }\n",
       "\n",
       "    .dataframe tbody tr th {\n",
       "        vertical-align: top;\n",
       "    }\n",
       "\n",
       "    .dataframe thead th {\n",
       "        text-align: right;\n",
       "    }\n",
       "</style>\n",
       "<table border=\"1\" class=\"dataframe\">\n",
       "  <thead>\n",
       "    <tr style=\"text-align: right;\">\n",
       "      <th></th>\n",
       "      <th>0</th>\n",
       "      <th>1</th>\n",
       "      <th>2</th>\n",
       "    </tr>\n",
       "  </thead>\n",
       "  <tbody>\n",
       "    <tr>\n",
       "      <th>0</th>\n",
       "      <td>0.341012</td>\n",
       "      <td>0.171897</td>\n",
       "      <td>0.159013</td>\n",
       "    </tr>\n",
       "    <tr>\n",
       "      <th>1</th>\n",
       "      <td>0.324594</td>\n",
       "      <td>0.355193</td>\n",
       "      <td>0.253123</td>\n",
       "    </tr>\n",
       "    <tr>\n",
       "      <th>2</th>\n",
       "      <td>0.449777</td>\n",
       "      <td>0.529443</td>\n",
       "      <td>0.000000</td>\n",
       "    </tr>\n",
       "    <tr>\n",
       "      <th>3</th>\n",
       "      <td>0.310492</td>\n",
       "      <td>0.308639</td>\n",
       "      <td>0.000000</td>\n",
       "    </tr>\n",
       "    <tr>\n",
       "      <th>4</th>\n",
       "      <td>0.739416</td>\n",
       "      <td>0.175179</td>\n",
       "      <td>0.357188</td>\n",
       "    </tr>\n",
       "    <tr>\n",
       "      <th>...</th>\n",
       "      <td>...</td>\n",
       "      <td>...</td>\n",
       "      <td>...</td>\n",
       "    </tr>\n",
       "    <tr>\n",
       "      <th>50782</th>\n",
       "      <td>0.165394</td>\n",
       "      <td>0.434224</td>\n",
       "      <td>0.000000</td>\n",
       "    </tr>\n",
       "    <tr>\n",
       "      <th>50783</th>\n",
       "      <td>0.395360</td>\n",
       "      <td>0.454929</td>\n",
       "      <td>1.000000</td>\n",
       "    </tr>\n",
       "    <tr>\n",
       "      <th>50784</th>\n",
       "      <td>0.033395</td>\n",
       "      <td>0.271380</td>\n",
       "      <td>0.100000</td>\n",
       "    </tr>\n",
       "    <tr>\n",
       "      <th>50785</th>\n",
       "      <td>0.030522</td>\n",
       "      <td>0.592961</td>\n",
       "      <td>0.000000</td>\n",
       "    </tr>\n",
       "    <tr>\n",
       "      <th>50786</th>\n",
       "      <td>0.251136</td>\n",
       "      <td>1.000000</td>\n",
       "      <td>0.316217</td>\n",
       "    </tr>\n",
       "  </tbody>\n",
       "</table>\n",
       "<p>50787 rows × 3 columns</p>\n",
       "</div>"
      ],
      "text/plain": [
       "              0         1         2\n",
       "0      0.341012  0.171897  0.159013\n",
       "1      0.324594  0.355193  0.253123\n",
       "2      0.449777  0.529443  0.000000\n",
       "3      0.310492  0.308639  0.000000\n",
       "4      0.739416  0.175179  0.357188\n",
       "...         ...       ...       ...\n",
       "50782  0.165394  0.434224  0.000000\n",
       "50783  0.395360  0.454929  1.000000\n",
       "50784  0.033395  0.271380  0.100000\n",
       "50785  0.030522  0.592961  0.000000\n",
       "50786  0.251136  1.000000  0.316217\n",
       "\n",
       "[50787 rows x 3 columns]"
      ]
     },
     "execution_count": 100,
     "metadata": {},
     "output_type": "execute_result"
    }
   ],
   "source": [
    "normalized_df"
   ]
  },
  {
   "cell_type": "code",
   "execution_count": 106,
   "metadata": {},
   "outputs": [
    {
     "data": {
      "text/html": [
       "<div>\n",
       "<style scoped>\n",
       "    .dataframe tbody tr th:only-of-type {\n",
       "        vertical-align: middle;\n",
       "    }\n",
       "\n",
       "    .dataframe tbody tr th {\n",
       "        vertical-align: top;\n",
       "    }\n",
       "\n",
       "    .dataframe thead th {\n",
       "        text-align: right;\n",
       "    }\n",
       "</style>\n",
       "<table border=\"1\" class=\"dataframe\">\n",
       "  <thead>\n",
       "    <tr style=\"text-align: right;\">\n",
       "      <th></th>\n",
       "      <th>0</th>\n",
       "      <th>1</th>\n",
       "      <th>2</th>\n",
       "    </tr>\n",
       "  </thead>\n",
       "  <tbody>\n",
       "    <tr>\n",
       "      <th>0</th>\n",
       "      <td>1.000000</td>\n",
       "      <td>-0.162583</td>\n",
       "      <td>0.394628</td>\n",
       "    </tr>\n",
       "    <tr>\n",
       "      <th>1</th>\n",
       "      <td>-0.162583</td>\n",
       "      <td>1.000000</td>\n",
       "      <td>-0.062875</td>\n",
       "    </tr>\n",
       "    <tr>\n",
       "      <th>2</th>\n",
       "      <td>0.394628</td>\n",
       "      <td>-0.062875</td>\n",
       "      <td>1.000000</td>\n",
       "    </tr>\n",
       "  </tbody>\n",
       "</table>\n",
       "</div>"
      ],
      "text/plain": [
       "          0         1         2\n",
       "0  1.000000 -0.162583  0.394628\n",
       "1 -0.162583  1.000000 -0.062875\n",
       "2  0.394628 -0.062875  1.000000"
      ]
     },
     "execution_count": 106,
     "metadata": {},
     "output_type": "execute_result"
    }
   ],
   "source": [
    "normalized_df.corr(method='pearson')"
   ]
  },
  {
   "cell_type": "code",
   "execution_count": 271,
   "metadata": {},
   "outputs": [
    {
     "data": {
      "image/png": "[encoded data removed]",
      "text/plain": [
       "<Figure size 432x288 with 1 Axes>"
      ]
     },
     "metadata": {},
     "output_type": "display_data"
    }
   ],
   "source": [
    "sns.set_style('white')\n",
    "# ax = normalized_df[0].hist(bins=10)\n",
    "# ax2 = normalized_df[1].hist(bins=10, alpha=0.7, color='orange')\n",
    "ax3 = normalized_df[2].hist(bins=10, alpha=0.7, color='green')\n",
    "ax3.legend(['MLModel'])\n",
    "ax3.set_xlabel('Synthetic accesibility value / arbitary units')\n",
    "ax3.set_ylabel('Frequency')\n",
    "sns.despine()\n",
    "ax3.figure.savefig('total_ml.svg')"
   ]
  },
  {
   "cell_type": "code",
   "execution_count": 263,
   "metadata": {},
   "outputs": [
    {
     "data": {
      "text/plain": [
       "10"
      ]
     },
     "execution_count": 263,
     "metadata": {},
     "output_type": "execute_result"
    }
   ],
   "source": [
    "normalized_df[2].idxmax()"
   ]
  },
  {
   "cell_type": "code",
   "execution_count": 242,
   "metadata": {},
   "outputs": [],
   "source": [
    "combs = list(itertools.product(amines, aldehydes))"
   ]
  },
  {
   "cell_type": "code",
   "execution_count": 264,
   "metadata": {},
   "outputs": [],
   "source": [
    "good_mols = [rdkit.MolFromMolFile(str(comb)) for comb in combs[10]]"
   ]
  },
  {
   "cell_type": "code",
   "execution_count": 267,
   "metadata": {},
   "outputs": [
    {
     "data": {
      "image/png": "[encoded data removed]",
      "text/plain": [
       "<rdkit.Chem.rdchem.Mol at 0x2b94936d1bc0>"
      ]
     },
     "execution_count": 267,
     "metadata": {},
     "output_type": "execute_result"
    }
   ],
   "source": [
    "rdkit.MolFromSmiles(rdkit.MolToSmiles(good_mols[0]))"
   ]
  },
  {
   "cell_type": "code",
   "execution_count": 199,
   "metadata": {},
   "outputs": [
    {
     "data": {
      "text/plain": [
       "9.516528335675902"
      ]
     },
     "execution_count": 199,
     "metadata": {},
     "output_type": "execute_result"
    }
   ],
   "source": [
    "calculateScore(good_mols[0]) + calculateScore(good_mols[1])"
   ]
  },
  {
   "cell_type": "code",
   "execution_count": 234,
   "metadata": {},
   "outputs": [
    {
     "data": {
      "text/plain": [
       "513"
      ]
     },
     "execution_count": 234,
     "metadata": {},
     "output_type": "execute_result"
    }
   ],
   "source": [
    "normalized_df[0].value_counts()"
   ]
  },
  {
   "cell_type": "code",
   "execution_count": null,
   "metadata": {},
   "outputs": [],
   "source": [
    "import seaborn as sns"
   ]
  },
  {
   "cell_type": "code",
   "execution_count": null,
   "metadata": {},
   "outputs": [],
   "source": []
  },
  {
   "cell_type": "code",
   "execution_count": 111,
   "metadata": {},
   "outputs": [
    {
     "ename": "TypeError",
     "evalue": "'AxesSubplot' object is not subscriptable",
     "output_type": "error",
     "traceback": [
      "\u001b[0;31m---------------------------------------------------------------------------\u001b[0m",
      "\u001b[0;31mTypeError\u001b[0m                                 Traceback (most recent call last)",
      "\u001b[0;32m<ipython-input-111-b9c478fc82b3>\u001b[0m in \u001b[0;36m<module>\u001b[0;34m\u001b[0m\n\u001b[0;32m----> 1\u001b[0;31m \u001b[0max\u001b[0m\u001b[0;34m[\u001b[0m\u001b[0;36m0\u001b[0m\u001b[0;34m]\u001b[0m\u001b[0;34m\u001b[0m\u001b[0;34m\u001b[0m\u001b[0m\n\u001b[0m",
      "\u001b[0;31mTypeError\u001b[0m: 'AxesSubplot' object is not subscriptable"
     ]
    }
   ],
   "source": []
  },
  {
   "cell_type": "code",
   "execution_count": null,
   "metadata": {},
   "outputs": [],
   "source": []
  }
 ],
 "metadata": {
  "kernelspec": {
   "display_name": "Python [conda env:py37]",
   "language": "python",
   "name": "conda-env-py37-py"
  },
  "language_info": {
   "codemirror_mode": {
    "name": "ipython",
    "version": 3
   },
   "file_extension": ".py",
   "mimetype": "text/x-python",
   "name": "python",
   "nbconvert_exporter": "python",
   "pygments_lexer": "ipython3",
   "version": "3.7.5"
  }
 },
 "nbformat": 4,
 "nbformat_minor": 2
}
