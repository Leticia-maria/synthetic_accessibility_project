{
 "cells": [
  {
   "cell_type": "code",
   "execution_count": 16,
   "metadata": {},
   "outputs": [],
   "source": [
    "import stk\n",
    "from old_code_test.stk import stk as old_stk\n",
    "from rdkit.Chem import AllChem as rdkit\n",
    "import tempfile\n",
    "from screen_cages import get_properties\n",
    "import json\n",
    "from old_code_test.cage_prediction.database.make_database import make_entry"
   ]
  },
  {
   "cell_type": "code",
   "execution_count": 69,
   "metadata": {},
   "outputs": [],
   "source": [
    "# Load population from old stk \n",
    "pop = old_stk.Population.load('/Users/stevenbennett/PhD/main_projects/synthetic_accessibility_project/stages/stage2_screening_workflow/create_image/cage_optimisation/old_code_test/cages/amine2aldehyde3.json', member_init=old_stk.Molecule.from_dict)\n",
    "fourplussix_gen = (c for c in pop if 'FourPlusSix' in str(c.topology))"
   ]
  },
  {
   "cell_type": "code",
   "execution_count": 9,
   "metadata": {},
   "outputs": [],
   "source": [
    "def match_cages(old_cage):\n",
    "    bbs = []\n",
    "    if not 'FourPlusSix' in str(old_cage.topology):\n",
    "        print('Different topology error')\n",
    "        return \n",
    "    for bb in old_cage.building_blocks:\n",
    "        with tempfile.NamedTemporaryFile(mode='w') as temp_f:\n",
    "            func_group = bb.func_groups[0].info.name\n",
    "            temp_f.name += '.mol'\n",
    "            rdk_mol = bb.mol\n",
    "            rdkit.MolToMolFile(rdk_mol, temp_f.name)\n",
    "            bbs.append(stk.BuildingBlock.init_from_file(temp_f.name, [func_group]))\n",
    "    new_cage = stk.ConstructedMolecule(bbs, stk.cage.FourPlusSix())\n",
    "    with tempfile.NamedTemporaryFile(mode='w') as temp_f:\n",
    "        temp_f.name += '.mol'\n",
    "        old_cage.write(temp_f.name)\n",
    "        new_cage.update_from_file(temp_f.name)\n",
    "    return (new_cage, old_cage)"
   ]
  },
  {
   "cell_type": "code",
   "execution_count": 29,
   "metadata": {},
   "outputs": [],
   "source": [
    "new_cage_rdk = new_cage.to_rdkit_mol()"
   ]
  },
  {
   "cell_type": "code",
   "execution_count": 40,
   "metadata": {},
   "outputs": [],
   "source": [
    "new_cage, old_cage = match_cages(next(fourplussix_gen))"
   ]
  },
  {
   "cell_type": "code",
   "execution_count": 41,
   "metadata": {},
   "outputs": [
    {
     "data": {
      "text/plain": [
       "{'collapsed': False,\n",
       " 'window_diff': 0.3589867384048861,\n",
       " 'max diameter': 33.886213392283906,\n",
       " 'cavity size': 16.052338298518254}"
      ]
     },
     "execution_count": 41,
     "metadata": {},
     "output_type": "execute_result"
    }
   ],
   "source": [
    "get_properties(new_cage)"
   ]
  },
  {
   "cell_type": "code",
   "execution_count": 42,
   "metadata": {},
   "outputs": [],
   "source": [
    "old_res = make_entry(old_cage)\n",
    "old_res_d = {\n",
    "    \"collapsed\": old_res[4],\n",
    "    \"window_diff\": old_res[8],\n",
    "    \"max diameter\": old_res[6],\n",
    "    \"cavity size\": old_res[5],\n",
    "}"
   ]
  },
  {
   "cell_type": "code",
   "execution_count": 43,
   "metadata": {},
   "outputs": [
    {
     "data": {
      "text/plain": [
       "{'collapsed': False,\n",
       " 'window_diff': 0.3589867384048861,\n",
       " 'max diameter': 34.09150311152272,\n",
       " 'cavity size': 16.069731370552887}"
      ]
     },
     "execution_count": 43,
     "metadata": {},
     "output_type": "execute_result"
    }
   ],
   "source": [
    "old_res_d"
   ]
  },
  {
   "cell_type": "code",
   "execution_count": 44,
   "metadata": {},
   "outputs": [],
   "source": [
    "suitable_diffs = {\n",
    "    \"collapsed\": 0,\n",
    "    \"window_diff\": 0.5,\n",
    "    \"max diameter\": 2.0,\n",
    "    \"cavity size\": 2.0,\n",
    "}"
   ]
  },
  {
   "cell_type": "code",
   "execution_count": 67,
   "metadata": {},
   "outputs": [],
   "source": [
    "def is_close_funcs(old_cage, new_cage):\n",
    "    old_res = make_entry(old_cage)\n",
    "    old_res_d = {\n",
    "        \"collapsed\": old_res[4],\n",
    "        \"window_diff\": old_res[8],\n",
    "        \"max diameter\": old_res[6],\n",
    "        \"cavity size\": old_res[5],\n",
    "    }\n",
    "    new_res = get_properties(new_cage)\n",
    "    if new_res is None or old_res is None:\n",
    "        return\n",
    "    elif None in new_res.values() or None in old_res_d.values():\n",
    "        return\n",
    "    for param in old_res_d:\n",
    "        if abs(old_res_d[param]-new_res[param]) > suitable_diffs[param]:\n",
    "            print(f'Difference too high for cage {old_cage}.')\n",
    "            print(f'Parameter is {param}')\n",
    "            return False\n",
    "    return True"
   ]
  },
  {
   "cell_type": "code",
   "execution_count": 70,
   "metadata": {},
   "outputs": [
    {
     "name": "stdout",
     "output_type": "stream",
     "text": [
      "True\n",
      "True\n",
      "True\n",
      "True\n",
      "None\n",
      "True\n",
      "None\n",
      "None\n",
      "None\n",
      "None\n",
      "True\n",
      "True\n",
      "True\n",
      "None\n",
      "True\n",
      "True\n",
      "None\n",
      "None\n",
      "None\n",
      "True\n",
      "None\n",
      "None\n",
      "None\n",
      "True\n",
      "None\n",
      "True\n",
      "True\n",
      "True\n",
      "True\n",
      "True\n",
      "True\n",
      "True\n",
      "None\n",
      "None\n",
      "None\n",
      "True\n",
      "None\n",
      "None\n",
      "True\n",
      "True\n",
      "None\n",
      "True\n",
      "None\n",
      "None\n",
      "True\n",
      "None\n",
      "None\n",
      "True\n",
      "True\n",
      "None\n"
     ]
    }
   ],
   "source": [
    "for i in range(50):\n",
    "    new_cage, old_cage = match_cages(next(fourplussix_gen))\n",
    "    print(is_close_funcs(old_cage, new_cage))"
   ]
  },
  {
   "cell_type": "code",
   "execution_count": null,
   "metadata": {},
   "outputs": [],
   "source": []
  }
 ],
 "metadata": {
  "kernelspec": {
   "display_name": "stk",
   "language": "python",
   "name": "stk"
  },
  "language_info": {
   "codemirror_mode": {
    "name": "ipython",
    "version": 3
   },
   "file_extension": ".py",
   "mimetype": "text/x-python",
   "name": "python",
   "nbconvert_exporter": "python",
   "pygments_lexer": "ipython3",
   "version": "3.8.2"
  }
 },
 "nbformat": 4,
 "nbformat_minor": 4
}
