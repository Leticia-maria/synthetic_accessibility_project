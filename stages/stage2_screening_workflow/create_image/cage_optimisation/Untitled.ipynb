{
 "cells": [
  {
   "cell_type": "code",
   "execution_count": 198,
   "metadata": {},
   "outputs": [],
   "source": [
    "import pandas as pd\n",
    "from sqlalchemy import create_engine\n",
    "import stk\n",
    "from rdkit.Chem import AllChem as rdkit\n",
    "from tqdm.notebook import tqdm\n",
    "import sqlite3\n",
    "import seaborn as sns\n",
    "from pathlib import Path\n",
    "from matplotlib import pyplot as plt"
   ]
  },
  {
   "cell_type": "code",
   "execution_count": 10,
   "metadata": {},
   "outputs": [],
   "source": [
    "eng = create_engine(\"sqlite:////Volumes/Steven_HDD/Optimised_Cages/RFModelRun/Cage_Properties_RFModel.db\", )\n",
    "con = eng.connect()\n"
   ]
  },
  {
   "cell_type": "code",
   "execution_count": 145,
   "metadata": {},
   "outputs": [],
   "source": [
    "eng_sa = create_engine(\"sqlite:////Volumes/Steven_HDD/Optimised_Cages/SAScoreRun/Cage_Properties_SAScore.db\", )\n",
    "con_sa = eng_sa.connect()\n",
    "eng_sc = create_engine(\"sqlite:////Volumes/Steven_HDD/Optimised_Cages/SCScoreRun/Cage_Properties_SCScore.db\", )\n",
    "con_sc = eng_sc.connect()\n",
    "\n"
   ]
  },
  {
   "cell_type": "code",
   "execution_count": 202,
   "metadata": {},
   "outputs": [
    {
     "data": {
      "application/vnd.jupyter.widget-view+json": {
       "model_id": "8f26a2e7495c49b5b6a3633f47f95c0a",
       "version_major": 2,
       "version_minor": 0
      },
      "text/plain": [
       "HBox(children=(FloatProgress(value=1.0, bar_style='info', max=1.0), HTML(value='')))"
      ]
     },
     "metadata": {},
     "output_type": "display_data"
    },
    {
     "name": "stdout",
     "output_type": "stream",
     "text": [
      "\n"
     ]
    },
    {
     "data": {
      "application/vnd.jupyter.widget-view+json": {
       "model_id": "93fbde6c4a4d45f5a4386a0875ce92ec",
       "version_major": 2,
       "version_minor": 0
      },
      "text/plain": [
       "HBox(children=(FloatProgress(value=1.0, bar_style='info', max=1.0), HTML(value='')))"
      ]
     },
     "metadata": {},
     "output_type": "display_data"
    },
    {
     "name": "stdout",
     "output_type": "stream",
     "text": [
      "\n"
     ]
    },
    {
     "data": {
      "application/vnd.jupyter.widget-view+json": {
       "model_id": "7b1f5aba7f574d5a9be93bd4ee3ffc9c",
       "version_major": 2,
       "version_minor": 0
      },
      "text/plain": [
       "HBox(children=(FloatProgress(value=1.0, bar_style='info', max=1.0), HTML(value='')))"
      ]
     },
     "metadata": {},
     "output_type": "display_data"
    },
    {
     "name": "stdout",
     "output_type": "stream",
     "text": [
      "\n"
     ]
    }
   ],
   "source": [
    "pops = {\n",
    "    \"sascore\": {\n",
    "        str(x): [x, p]\n",
    "        for x, p in tqdm(map(\n",
    "            lambda x: (stk.ConstructedMolecule.load(str(x)), x),\n",
    "            Path(\n",
    "                \"/Volumes/Steven_HDD/Optimised_Cages/SAScoreRun/optimisation_run_sascore/\"\n",
    "            ).glob(\"*/*.json\")),\n",
    "        )\n",
    "    },\n",
    "    \"rfmodel\": {\n",
    "        str(x): [x, p]\n",
    "        for x, p in tqdm(map(\n",
    "            lambda x: (stk.ConstructedMolecule.load(str(x)), x),\n",
    "            Path(\n",
    "                \"/Volumes/Steven_HDD/Optimised_Cages/RFModelRun/optimisation_run_rfmodel/\"\n",
    "            ).glob(\"*/*.json\")),\n",
    "        )\n",
    "    },\n",
    "    \"scscore\": {\n",
    "        str(x): [x, p]\n",
    "        for x, p in tqdm(map(\n",
    "            lambda x: (stk.ConstructedMolecule.load(str(x)), x),\n",
    "            Path(\n",
    "                \"/Volumes/Steven_HDD/Optimised_Cages/SCScoreRun/optimisation_run_scscore/\"\n",
    "            ).glob(\"*/*.json\")),\n",
    "        )\n",
    "    },\n",
    "}"
   ]
  },
  {
   "cell_type": "code",
   "execution_count": 11,
   "metadata": {},
   "outputs": [],
   "source": [
    "df = pd.read_sql('cages', con=con)"
   ]
  },
  {
   "cell_type": "code",
   "execution_count": 146,
   "metadata": {},
   "outputs": [],
   "source": [
    "df_sa = pd.read_sql('cages', con=con_sa)\n",
    "df_sc = pd.read_sql('cages', con=con_sc)"
   ]
  },
  {
   "cell_type": "code",
   "execution_count": 154,
   "metadata": {},
   "outputs": [],
   "source": [
    "df_sa_success = df_sa.dropna().sort_values(by='cavity_size', ascending=False)\n",
    "df_sc_success = df_sc.dropna().sort_values(by='cavity_size', ascending=False)"
   ]
  },
  {
   "cell_type": "code",
   "execution_count": 249,
   "metadata": {},
   "outputs": [],
   "source": [
    "name_key = df_success[(df_success['cavity_size'] > 4) & (df_success['cavity_size'] < 5)].sample(1)['name'].iloc[0]"
   ]
  },
  {
   "cell_type": "code",
   "execution_count": 316,
   "metadata": {},
   "outputs": [],
   "source": [
    "name_key = df_success[df_success['cavity_size'] < 1.5].sample(1)['name'].iloc[0]"
   ]
  },
  {
   "cell_type": "code",
   "execution_count": 317,
   "metadata": {},
   "outputs": [
    {
     "data": {
      "text/plain": [
       "\"ConstructedMolecule(building_blocks=[BuildingBlock('CC(C)(C)c1cc(C#Cc2cc(C#Cc3cc(C=O)c(O)c(C(C)(C)C)c3)cc(C#Cc3cc(C=O)c(O)c(C(C)(C)C)c3)c2)cc(C=O)c1O', ['aldehyde']), BuildingBlock('CC(C)C(N)C(=O)NC(Cc1ccccc1)C(=O)NC(CCCCN)C(=O)O', ['primary_amine'])], topology_graph=cage.FourPlusSix(vertex_alignments={0: 0, 1: 0, 2: 0, 3: 0, 4: 0, 5: 0, 6: 0, 7: 0, 8: 0, 9: 0}))\""
      ]
     },
     "execution_count": 317,
     "metadata": {},
     "output_type": "execute_result"
    }
   ],
   "source": [
    "name_key"
   ]
  },
  {
   "cell_type": "code",
   "execution_count": 324,
   "metadata": {},
   "outputs": [
    {
     "data": {
      "text/plain": [
       "\"ConstructedMolecule(building_blocks=[BuildingBlock('O=Cc1ccc(-c2nc(-c3ccc(C=O)cc3)nc(-c3ccc(C=O)cc3)n2)cc1', ['aldehyde']), BuildingBlock('NCC(=O)NC(=O)CN', ['primary_amine'])], topology_graph=cage.FourPlusSix(vertex_alignments={0: 0, 1: 0, 2: 0, 3: 0, 4: 0, 5: 0, 6: 0, 7: 0, 8: 0, 9: 0}))\""
      ]
     },
     "execution_count": 324,
     "metadata": {},
     "output_type": "execute_result"
    }
   ],
   "source": [
    "df_success.iloc[0]['name']"
   ]
  },
  {
   "cell_type": "code",
   "execution_count": 429,
   "metadata": {},
   "outputs": [],
   "source": [
    "for k, p in pops.items():\n",
    "    if name_key in p:\n",
    "        json_path = list(p[name_key].values())[0]\n",
    "json_path = \"/Users/stevenbennett/sshfs/stevenbennett@ch-sb2518.ch.ic.ac.uk\" + str(\n",
    "    json_path\n",
    ").replace(\"/Volumes/Steven_HDD\", \"/HDD\").replace(\".json\", \".mol\")"
   ]
  },
  {
   "cell_type": "code",
   "execution_count": 430,
   "metadata": {},
   "outputs": [
    {
     "name": "stdout",
     "output_type": "stream",
     "text": [
      "/Users/stevenbennett/sshfs/stevenbennett@ch-sb2518.ch.ic.ac.uk/HDD/Optimised_Cages/SCScoreRun/optimisation_run_scscore/chunk_16/opt_72161388741583586567360270699363418820.mol\n"
     ]
    }
   ],
   "source": [
    "print(json_path)"
   ]
  },
  {
   "cell_type": "code",
   "execution_count": 415,
   "metadata": {},
   "outputs": [],
   "source": [
    "smiles = [df_sc_success.sort_values(by='cavity_size', ascending=False).iloc[2]['name'].split(\"'\")[i] for i in [1,5]]"
   ]
  },
  {
   "cell_type": "code",
   "execution_count": 416,
   "metadata": {},
   "outputs": [
    {
     "data": {
      "text/plain": [
       "'O=Cc1ccc(-c2nc(-c3ccc(C=O)cc3)nc(-c3ccc(C=O)cc3)n2)cc1.N#CC1(N)CCC(N)CC1'"
      ]
     },
     "execution_count": 416,
     "metadata": {},
     "output_type": "execute_result"
    }
   ],
   "source": [
    "smiles[0]+'.'+smiles[1]"
   ]
  },
  {
   "cell_type": "code",
   "execution_count": 428,
   "metadata": {},
   "outputs": [],
   "source": [
    "name_key = df_sc_success.sort_values(by='cavity_size', ascending=False).iloc[2]['name']"
   ]
  },
  {
   "cell_type": "code",
   "execution_count": 421,
   "metadata": {},
   "outputs": [
    {
     "data": {
      "text/plain": [
       "name            ConstructedMolecule(building_blocks=[BuildingB...\n",
       "collapsed                                                   False\n",
       "cavity_size                                               12.0865\n",
       "max_diameter                                              35.8171\n",
       "windows         [12.13667870314232, 11.848036783595054, 10.916...\n",
       "window_diff                                              0.770536\n",
       "window_std                                               0.550026\n",
       "Name: 3978, dtype: object"
      ]
     },
     "execution_count": 421,
     "metadata": {},
     "output_type": "execute_result"
    }
   ],
   "source": [
    "df_sc_success.sort_values(by='cavity_size', ascending=False).iloc[2]"
   ]
  },
  {
   "cell_type": "code",
   "execution_count": 194,
   "metadata": {},
   "outputs": [
    {
     "name": "stderr",
     "output_type": "stream",
     "text": [
      "<ipython-input-194-eeba575afe92>:1: RuntimeWarning: More than 20 figures have been opened. Figures created through the pyplot interface (`matplotlib.pyplot.figure`) are retained until explicitly closed and may consume too much memory. (To control this warning, see the rcParam `figure.max_open_warning`).\n",
      "  fig, ax = plt.subplots()\n"
     ]
    }
   ],
   "source": [
    "fig, ax = plt.subplots()\n",
    "sns.distplot(df_success['cavity_size'], ax=ax, hist=False, rug=True, color='green', hist_kws={'alpha':0.5}, label='RF Model')\n",
    "sns.distplot(df_sa_success['cavity_size'], ax=ax, hist=False, rug=True, color='red', hist_kws={'alpha':0.5}, label='SAScore')\n",
    "sns.distplot(df_sc_success['cavity_size'], ax=ax, hist=False, rug=True, color='blue', hist_kws={'alpha':0.5}, label='SCScore')\n",
    "ax.set_ylabel('Density')\n",
    "ax.set_xlabel('Cavity Size / Å')\n",
    "ax.set_xlim(0)\n",
    "ax.legend()\n",
    "sns.despine()"
   ]
  },
  {
   "cell_type": "code",
   "execution_count": 263,
   "metadata": {},
   "outputs": [],
   "source": [
    "collapsed_percent = [(len(df_success)/len(df))*100, (len(df_sa_success)/len(df_sa))*100, (len(df_sc_success)/len(df_sc))*100]"
   ]
  },
  {
   "cell_type": "code",
   "execution_count": 276,
   "metadata": {},
   "outputs": [
    {
     "name": "stderr",
     "output_type": "stream",
     "text": [
      "<ipython-input-276-0c0da5f347e2>:1: RuntimeWarning: More than 20 figures have been opened. Figures created through the pyplot interface (`matplotlib.pyplot.figure`) are retained until explicitly closed and may consume too much memory. (To control this warning, see the rcParam `figure.max_open_warning`).\n",
      "  fig, ax = plt.subplots()\n"
     ]
    }
   ],
   "source": [
    "fig, ax = plt.subplots()\n",
    "sns.barplot(x=['RFModel', 'SAScore', 'SCScore'], y=collapsed_percent, ax=ax)\n",
    "ax.set_ylabel('Percent of cages uncollapsed')\n",
    "ax.set_xlabel('Synthetic difficulty score')\n",
    "sns.despine()\n",
    "\n"
   ]
  },
  {
   "cell_type": "code",
   "execution_count": 277,
   "metadata": {},
   "outputs": [
    {
     "data": {
      "image/png": "[encoded data removed]",
      "text/plain": [
       "<Figure size 748.8x514.8 with 1 Axes>"
      ]
     },
     "execution_count": 277,
     "metadata": {},
     "output_type": "execute_result"
    }
   ],
   "source": [
    "ax.figure"
   ]
  },
  {
   "cell_type": "code",
   "execution_count": null,
   "metadata": {},
   "outputs": [],
   "source": [
    "cavity_size_ordered_names = df[df['collapsed'] == False].sort_values(by=['cavity_size'], ascending=False)['name'].to_list()"
   ]
  },
  {
   "cell_type": "code",
   "execution_count": null,
   "metadata": {},
   "outputs": [],
   "source": [
    "from glob import iglob\n",
    "path_gen = iglob('/Users/stevenbennett/PhD/main_projects/synthetic_accessibility_project/stages/optimisation_run_0/chunk_*/*.json')\n",
    "opt_pop = {stk.ConstructedMolecule.load(p): p for p in path_gen}"
   ]
  },
  {
   "cell_type": "code",
   "execution_count": null,
   "metadata": {},
   "outputs": [],
   "source": [
    "opt_pop_d = {str(c): c for c in opt_pop.keys()}"
   ]
  },
  {
   "cell_type": "code",
   "execution_count": null,
   "metadata": {},
   "outputs": [],
   "source": [
    "cavity_index = 0\n",
    "print(opt_pop[opt_pop_d[cavity_size_ordered_names[cavity_index]]])\n",
    "list(opt_pop_d[cavity_size_ordered_names[cavity_index]].get_building_blocks())"
   ]
  },
  {
   "cell_type": "code",
   "execution_count": 437,
   "metadata": {},
   "outputs": [],
   "source": [
    "eng = create_engine(\"sqlite:///cage_prediction.db\", )\n",
    "con = eng.connect()"
   ]
  },
  {
   "cell_type": "code",
   "execution_count": 438,
   "metadata": {},
   "outputs": [],
   "source": [
    "df = pd.read_sql('cages', con=con)"
   ]
  },
  {
   "cell_type": "code",
   "execution_count": 448,
   "metadata": {},
   "outputs": [
    {
     "data": {
      "text/plain": [
       "4697"
      ]
     },
     "execution_count": 448,
     "metadata": {},
     "output_type": "execute_result"
    }
   ],
   "source": [
    "len(df[df['collapsed']==True])"
   ]
  },
  {
   "cell_type": "code",
   "execution_count": 449,
   "metadata": {},
   "outputs": [
    {
     "data": {
      "text/plain": [
       "245"
      ]
     },
     "execution_count": 449,
     "metadata": {},
     "output_type": "execute_result"
    }
   ],
   "source": [
    "len(df[df['collapsed'] == False])"
   ]
  },
  {
   "cell_type": "code",
   "execution_count": 450,
   "metadata": {},
   "outputs": [
    {
     "data": {
      "text/plain": [
       "5156"
      ]
     },
     "execution_count": 450,
     "metadata": {},
     "output_type": "execute_result"
    }
   ],
   "source": [
    "len(df)"
   ]
  },
  {
   "cell_type": "code",
   "execution_count": 443,
   "metadata": {},
   "outputs": [],
   "source": [
    "import sys"
   ]
  },
  {
   "cell_type": "code",
   "execution_count": null,
   "metadata": {},
   "outputs": [],
   "source": [
    "sys.path.append('/Users/stevenbennett/PhD/main_projects/cage_prediction_ml/')"
   ]
  },
  {
   "cell_type": "code",
   "execution_count": null,
   "metadata": {},
   "outputs": [],
   "source": [
    "from cage_prediction import predict_cage_collapse\n",
    "import joblib\n",
    "model = joblib.load('/Users/stevenbennett/PhD/main_projects/cage_prediction_ml/utilities/trained_models/amine2aldehyde3.pkl')"
   ]
  },
  {
   "cell_type": "code",
   "execution_count": null,
   "metadata": {},
   "outputs": [],
   "source": [
    "sort_fgs = lambda bb: 1 if bb.func_groups[0].fg_type.name == \"aldehyde\" else 0\n",
    "all_d = {\n",
    "    query(cage): 1.0-float(\n",
    "        predict_cage_collapse(\n",
    "            [\n",
    "                bb.to_rdkit_mol()\n",
    "                for bb in sorted(\n",
    "                    cage.get_building_blocks(), key=sort_fgs, reverse=False\n",
    "                )\n",
    "            ],\n",
    "            model,\n",
    "        )[\"collapse_probability\"]\n",
    "    )\n",
    "    for cage in all_stk_cages\n",
    "}"
   ]
  },
  {
   "cell_type": "code",
   "execution_count": null,
   "metadata": {},
   "outputs": [],
   "source": [
    "all_d_remove_h = {\n",
    "    query(cage): float(\n",
    "        predict_cage_collapse(\n",
    "            [\n",
    "                rdkit.RemoveHs(bb.to_rdkit_mol())\n",
    "                for bb in sorted(\n",
    "                    cage.get_building_blocks(), key=sort_fgs, reverse=False\n",
    "                )\n",
    "            ],\n",
    "            model,\n",
    "        )[\"collapse_probability\"]\n",
    "    )\n",
    "    for cage in all_stk_cages\n",
    "}"
   ]
  },
  {
   "cell_type": "code",
   "execution_count": null,
   "metadata": {},
   "outputs": [],
   "source": [
    "d_convert = {query(opt_pop_d[n]):opt_pop_d[n] for n in df['name']}"
   ]
  },
  {
   "cell_type": "code",
   "execution_count": null,
   "metadata": {},
   "outputs": [],
   "source": [
    "predict_cage_collapse([rdkit.MolFromSmiles('NCCN'), rdkit.MolFromSmiles('O=CC1=CC(C=O)=CC(C=O)=C1')], model)"
   ]
  },
  {
   "cell_type": "code",
   "execution_count": null,
   "metadata": {},
   "outputs": [],
   "source": [
    "for i in (d := {query(opt_pop_d[name]): all_d_remove_h[query(opt_pop_d[name])] for name in df[df['collapsed'] == False]['name']}):\n",
    "    if i in collapsed_results_converted:\n",
    "        print(all_d_remove_h[i])\n",
    "        print(collapsed_results_converted[i])\n",
    "        assert(float(all_d_remove_h[i]) == float(collapsed_results_converted[i]))"
   ]
  },
  {
   "cell_type": "code",
   "execution_count": null,
   "metadata": {},
   "outputs": [],
   "source": [
    "{query(opt_pop_d[name]): all_d[query(opt_pop_d[name])] for name in df[df['collapsed'] == False]['name']}"
   ]
  },
  {
   "cell_type": "code",
   "execution_count": null,
   "metadata": {},
   "outputs": [],
   "source": [
    "sorted(collapsed_d.items(), key=lambda x: x[0], reverse=True)"
   ]
  },
  {
   "cell_type": "code",
   "execution_count": null,
   "metadata": {},
   "outputs": [],
   "source": [
    "# Checking JSON results\n",
    "import json\n",
    "collapse_results = []\n",
    "for p in iglob(\"/Users/stevenbennett/PhD/main_projects/cage_prediction_ml/results_filtered_amines2aldehydes3/*.json\"):\n",
    "    with open(p) as f:\n",
    "        collapse_results.append(json.load(f))"
   ]
  },
  {
   "cell_type": "code",
   "execution_count": null,
   "metadata": {},
   "outputs": [],
   "source": [
    "def query(c):\n",
    "    q = \"\"\n",
    "    for idx, bb in enumerate(sorted(c.get_building_blocks(), key=sort_fgs)):\n",
    "        mol = bb.to_rdkit_mol()\n",
    "        mol = rdkit.RemoveHs(mol)\n",
    "        rdkit.SanitizeMol(mol)\n",
    "        rdkit.Kekulize(mol)\n",
    "        q += rdkit.MolToSmiles(mol, canonical=True,)\n",
    "        if idx == 0:\n",
    "            q += \" \"\n",
    "    return q"
   ]
  },
  {
   "cell_type": "code",
   "execution_count": null,
   "metadata": {},
   "outputs": [],
   "source": [
    "query(uncollapsed_stk_cages[5])"
   ]
  },
  {
   "cell_type": "code",
   "execution_count": null,
   "metadata": {},
   "outputs": [],
   "source": [
    "collapsed_results_converted = {\n",
    "    f\"{r['smiles_1']} {r['smiles_2']}\": r[\"collapse_probability\"]\n",
    "    for i in collapsed_results_flat\n",
    "    for r in i\n",
    "}"
   ]
  },
  {
   "cell_type": "code",
   "execution_count": null,
   "metadata": {},
   "outputs": [],
   "source": [
    "collapsed_results_converted = {\n",
    "    f\"{rdkit.MolToInchiKey(rdkit.MolFromSmiles(r['smiles_1']))} {rdkit.MolToInchiKey(rdkit.MolFromSmiles(r['smiles_2']))}\": r[\n",
    "        \"collapse_probability\"\n",
    "    ]\n",
    "    for i in tqdm(collapsed_results_flat)\n",
    "    for r in i\n",
    "}"
   ]
  },
  {
   "cell_type": "code",
   "execution_count": null,
   "metadata": {},
   "outputs": [],
   "source": [
    "query(uncollapsed_stk_cages[5]) in collapsed_results_converted"
   ]
  },
  {
   "cell_type": "code",
   "execution_count": null,
   "metadata": {},
   "outputs": [],
   "source": [
    "collapsed_results_converted[query(uncollapsed_stk_cages[118])]"
   ]
  },
  {
   "cell_type": "code",
   "execution_count": null,
   "metadata": {},
   "outputs": [],
   "source": [
    "collapsed_d"
   ]
  },
  {
   "cell_type": "code",
   "execution_count": null,
   "metadata": {},
   "outputs": [],
   "source": []
  }
 ],
 "metadata": {
  "kernelspec": {
   "display_name": "stk",
   "language": "python",
   "name": "stk"
  },
  "language_info": {
   "codemirror_mode": {
    "name": "ipython",
    "version": 3
   },
   "file_extension": ".py",
   "mimetype": "text/x-python",
   "name": "python",
   "nbconvert_exporter": "python",
   "pygments_lexer": "ipython3",
   "version": "3.8.2"
  }
 },
 "nbformat": 4,
 "nbformat_minor": 4
}
