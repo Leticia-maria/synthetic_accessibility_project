{
 "cells": [
  {
   "cell_type": "code",
   "execution_count": 4,
   "metadata": {},
   "outputs": [],
   "source": [
    "from sqlalchemy import create_engine\n",
    "import pandas as pd\n",
    "import json\n",
    "from tqdm.notebook import tqdm\n",
    "import csv\n",
    "from rdkit.Chem import AllChem as rdkit\n",
    "import fnmatch\n",
    "from collections import defaultdict\n",
    "from ast import literal_eval\n",
    "from pathlib import Path\n",
    "import os\n",
    "import seaborn as sns\n",
    "import numpy as np\n",
    "from  multiprocessing import Pool\n",
    "from matplotlib import pyplot as plt\n",
    "import itertools as it\n",
    "from typing import List\n",
    "import stk\n",
    "from molvs import Standardizer, standardize_smiles"
   ]
  },
  {
   "cell_type": "code",
   "execution_count": 2,
   "metadata": {},
   "outputs": [],
   "source": [
    "# Dropbox path (only works locally)\n",
    "paper_path = (\n",
    "    Path.home()\n",
    "    / \"Dropbox\"\n",
    "    / \"Apps\"\n",
    "    / \"Overleaf\"\n",
    "    / \"Synthetic Accessibility Paper - ACS Template\"\n",
    ")\n",
    "figure_path = paper_path / 'Figures'"
   ]
  },
  {
   "cell_type": "code",
   "execution_count": null,
   "metadata": {},
   "outputs": [],
   "source": [
    "def get_path():\n",
    "    contains = [\"SAScore\", \"SCScore\", \"RFModel\"]\n",
    "    fgs = [\"Amine\", \"Aldehyde\"]\n",
    "    for dirpath, dirname, filename in os.walk(\".\"):\n",
    "        if (\n",
    "            len(dirpath.split(\"/\")) == 5\n",
    "            and any(c in dirpath for c in contains)\n",
    "            and any(fg in dirpath for fg in fgs)\n",
    "        ):\n",
    "            yield dirpath"
   ]
  },
  {
   "cell_type": "code",
   "execution_count": null,
   "metadata": {},
   "outputs": [],
   "source": [
    "# Obtaining the easiest one percent to synthesise.\n",
    "for path in get_path():\n",
    "    path = Path(path)\n",
    "    print(path)\n",
    "    model_name = path.parents[1].stem.lower()\n",
    "    dict_ascending = {\n",
    "        \"Lowest\": True,\n",
    "        \"Highest\": False,\n",
    "    }\n",
    "    dict_func_groups = {\n",
    "        \"Amine\": \"primary amine\",\n",
    "        \"Aldehyde\": \"aldehyde\",\n",
    "    }\n",
    "    func_group = dict_func_groups[path.stem]\n",
    "    # Highest and lowest selection.\n",
    "    if \"Highest\" in str(path) or \"Lowest\" in str(path):\n",
    "        ascending = dict_ascending[path.parents[0].stem]\n",
    "        with open(str(path.joinpath(\"Scores.csv\")), \"w\") as f:\n",
    "            csv_writer = csv.writer(f)\n",
    "            csv_writer.writerow(df_unique_reaxys.columns)\n",
    "            for i in range(10):\n",
    "                column = (\n",
    "                    df_unique_reaxys[df_unique_reaxys[\"func_group\"] == func_group]\n",
    "                    .sort_values(model_name, ascending=ascending)\n",
    "                    .iloc[i]\n",
    "                )\n",
    "                smiles = column[\"smiles\"]\n",
    "                mol = rdkit.MolFromSmiles(smiles)\n",
    "                rdkit.EmbedMolecule(mol)\n",
    "                rdkit.MolToMolFile(mol, str(path.joinpath(f\"{i}.mol\")))\n",
    "                csv_writer.writerow(column.to_list())\n",
    "    # Median value selection.\n",
    "    elif \"Medium\" in str(path):\n",
    "        with open(str(path.joinpath(\"Scores.csv\")), \"w\") as f:\n",
    "            csv_writer = csv.writer(f)\n",
    "            csv_writer.writerow(df_unique_reaxys.columns)\n",
    "            df_funcgroup = (\n",
    "                df_unique_reaxys[df_unique_reaxys[\"func_group\"] == func_group]\n",
    "            )\n",
    "            df_median = df_funcgroup[df_funcgroup[model_name] == df_funcgroup[model_name].median()].sort_values(model_name)\n",
    "            df_above_median = df_funcgroup[df_funcgroup[model_name] > df_funcgroup[model_name].median()].sort_values(model_name)[0:4]\n",
    "            df_below_median = df_funcgroup[df_funcgroup[model_name] < df_funcgroup[model_name].median()].sort_values(model_name, ascending=False)[0:4]\n",
    "            df_combined = pd.concat([df_above_median, df_below_median, df_median])\n",
    "            for i in range(len(df_combined)):\n",
    "                column = df_combined.iloc[i]\n",
    "                smiles = column[\"smiles\"]\n",
    "                mol = rdkit.MolFromSmiles(smiles)\n",
    "                rdkit.EmbedMolecule(mol)\n",
    "                rdkit.MolToMolFile(mol, str(path.joinpath(f\"{i}.mol\")))\n",
    "                csv_writer.writerow(column.to_list())"
   ]
  },
  {
   "cell_type": "code",
   "execution_count": 5,
   "metadata": {},
   "outputs": [],
   "source": [
    "# Loading Reaxys data\n",
    "con = create_engine(\n",
    "    \"sqlite:///Data/Testing_Data/Reaxys_DB_Scored_AddHs.db\"\n",
    ")\n",
    "df_reaxys = pd.read_sql(sql=\"synthetic_accesibility\", con=con)\n",
    "# Perform standardization on all molecules in Reaxys.\n",
    "df_reaxys['standardized_smiles'] = [standardize_smiles(smi) for smi in df_reaxys['smiles']]"
   ]
  },
  {
   "cell_type": "code",
   "execution_count": null,
   "metadata": {},
   "outputs": [],
   "source": [
    "con = create_engine(\n",
    "    \"sqlite:///Data/Testing_Data/Molder_DB_SA_AddHs.db\"\n",
    ")\n",
    "df_training = pd.read_sql(sql='synthetic_accesibility', con=con)"
   ]
  },
  {
   "cell_type": "code",
   "execution_count": null,
   "metadata": {},
   "outputs": [],
   "source": [
    "# Plotting score distributions for molecules in Reaxys.\n",
    "fig, ax = plt.subplots()\n",
    "sns.distplot(ax=ax, a=df_reaxys[\"sascore\"], label=\"SAScore\", kde=True, hist=False)\n",
    "sns.distplot(ax=ax, a=df_reaxys[\"scscore\"], label=\"SCScore\", kde=True, hist=False)\n",
    "sns.distplot(ax=ax, a=df_reaxys[\"rfmodel\"], label=\"RFModel\", kde=True, hist=False)\n",
    "sns.despine()\n",
    "ax.set_ylabel(\"Probability Density\")\n",
    "ax.set_xlabel(\"Synthetic Difficulty for Molecules in Reaxys Database / no units\")"
   ]
  },
  {
   "cell_type": "code",
   "execution_count": null,
   "metadata": {},
   "outputs": [],
   "source": [
    "fig, ax = plt.subplots()\n",
    "sns.distplot(ax=ax, a=df_training[\"sascore\"], label=\"SAScore\", kde=True, hist=False)\n",
    "sns.distplot(ax=ax, a=df_training[\"scscore\"], label=\"SCScore\", kde=True, hist=False)\n",
    "sns.distplot(ax=ax, a=df_training[\"rfmodel\"], label=\"RFModel\", kde=True, hist=False)\n",
    "sns.despine()\n",
    "ax.set_ylabel(\"Probability Density\")\n",
    "ax.set_xlabel(\"Synthetic Difficulty for Molecules in Training Set / no units\")"
   ]
  },
  {
   "cell_type": "code",
   "execution_count": null,
   "metadata": {},
   "outputs": [],
   "source": [
    "# Database from the old EA paper.\n",
    "reaxys_full = Path(\n",
    "    \"/Users/stevenbennett/Desktop/ga_paper/clean\"\n",
    ")\n",
    "reaxys_full_amines = list(reaxys_full.glob(\"amines2f/*.mol\"))\n",
    "reaxys_full_aldehydes = list(reaxys_full.glob(\"aldehydes3f/*.mol\"))"
   ]
  },
  {
   "cell_type": "code",
   "execution_count": null,
   "metadata": {},
   "outputs": [],
   "source": [
    "# Plots the graph for SAScore vs SCScore with different functional groups.\n",
    "palette = it.cycle(sns.color_palette('colorblind'))\n",
    "fig, ax = plt.subplots()\n",
    "sns.scatterplot(x=df_reaxys[df_reaxys['func_group'] == 'primary amine']['scscore'], y=df_reaxys[df_reaxys['func_group'] == 'primary amine']['sascore'], ax=ax, s=10, edgecolor='black', linewidth=0.4, color=next(palette), label='Di-topic amines')\n",
    "sns.scatterplot(x=df_reaxys[df_reaxys['func_group'] == 'aldehyde']['scscore'], y=df_reaxys[df_reaxys['func_group'] == 'aldehyde']['sascore'], ax=ax, s=10, edgecolor='black', linewidth=0.4, color=next(palette), label='Tri-topic aldehydes')\n",
    "ax.set_ylabel('SAScore')\n",
    "ax.set_xlabel('SCScore')\n",
    "sns.despine()\n",
    "plt.figure(dpi=1200)\n",
    "# fig.savefig(figure_path / 'Reaxys_DB_SA_SCScores_FuncGroups.pdf')\n"
   ]
  },
  {
   "cell_type": "code",
   "execution_count": null,
   "metadata": {},
   "outputs": [],
   "source": [
    "# Plots the graph for SAScore vs SCScore with seperation by ML prediction.\n",
    "palette = sns.color_palette('colorblind')\n",
    "fig, ax = plt.subplots()\n",
    "sns.scatterplot(x=df_reaxys[df_reaxys['rfmodel'] < 0.5]['scscore'], color=palette[2], y=df_reaxys[df_reaxys['rfmodel'] < 0.5]['sascore'], ax=ax, s=8, edgecolor='black', linewidth=0.7, label='Synthesisable')\n",
    "sns.scatterplot(x=df_reaxys[df_reaxys['rfmodel'] > 0.5]['scscore'], color=palette[3], y=df_reaxys[df_reaxys['rfmodel'] > 0.5]['sascore'], ax=ax, s=8, edgecolor='black', linewidth=0.7, label='Unsynthesisable')\n",
    "ax.set_ylabel('SAScore')\n",
    "ax.set_xlabel('SCScore')\n",
    "sns.despine()\n",
    "plt.figure(dpi=1200)\n",
    "fig.savefig(figure_path / 'Reaxys_DB_SA_SCScores_SynthesisableUnsythesisable.pdf')"
   ]
  },
  {
   "cell_type": "code",
   "execution_count": null,
   "metadata": {},
   "outputs": [],
   "source": [
    "# Loads cages with lowest synthetic accesibility scores.\n",
    "optimised_cages_path = (\n",
    "    Path.home()\n",
    "    / \"PhD/main_projects/synthetic_accessibility_project/stages/optimisation_run_0\"\n",
    ")\n",
    "optimised_cages = [\n",
    "    stk.ConstructedMolecule.load(str(p)) for p in tqdm(optimised_cages_path.glob(\"*/*.json\"))\n",
    "]"
   ]
  },
  {
   "cell_type": "code",
   "execution_count": null,
   "metadata": {},
   "outputs": [],
   "source": [
    "opt_cages_dict = pd.DataFrame({\n",
    "    'BB1': [rdkit.MolToInchi(bb.to_rdkit_mol()) for cage in tqdm(optimised_cages) for bb in it.islice(cage.get_building_blocks(), 0, 1, 1)],\n",
    "    'BB2': [rdkit.MolToInchi(bb.to_rdkit_mol()) for cage in tqdm(optimised_cages) for bb in it.islice(cage.get_building_blocks(), 1, 2, 1)],\n",
    "    'SMILES': [rdkit.MolToInchi(cage.to_rdkit_mol()) for cage in tqdm(optimised_cages)]\n",
    "})"
   ]
  },
  {
   "cell_type": "code",
   "execution_count": null,
   "metadata": {},
   "outputs": [],
   "source": [
    "combinations = it.product(\n",
    "    (r[1] for r in df_reaxys[df_reaxys[\"func_group\"] == \"primary amine\"].iterrows()),\n",
    "    (r[1] for r in df_reaxys[df_reaxys[\"func_group\"] == \"aldehyde\"].iterrows()),\n",
    ")\n",
    "dict_combinations = defaultdict(list)\n",
    "\n",
    "for combination in tqdm(combinations):\n",
    "    dict_combinations[\"BB\"].append(\n",
    "        rdkit.MolToInchi(rdkit.MolFromSmiles(combination[0][\"smiles\"]))\n",
    "        + \" \"\n",
    "        + rdkit.MolToInchi(rdkit.MolFromSmiles(combination[1][\"smiles\"]))\n",
    "    )\n",
    "    dict_combinations[\"SAScore\"].append(sum(r[\"sascore\"] for r in combination))\n",
    "    dict_combinations[\"SCScore\"].append(sum(r[\"scscore\"] for r in combination))\n",
    "    dict_combinations[\"RFModel\"].append(sum(r[\"rfmodel\"] for r in combination))\n",
    "df_combinations = pd.DataFrame(dict_combinations)"
   ]
  },
  {
   "cell_type": "code",
   "execution_count": null,
   "metadata": {},
   "outputs": [],
   "source": [
    "df_sascore_onepercent = df_combinations[df_combinations['SAScore'] < df_combinations.quantile(.01)['SAScore']]\n",
    "df_scscore_onepercent = df_combinations[df_combinations['SCScore'] < df_combinations.quantile(.01)['SCScore']]\n",
    "df_rfmodel_onepercent = df_combinations[df_combinations['RFModel'] < df_combinations.quantile(.01)['RFModel']]"
   ]
  },
  {
   "cell_type": "code",
   "execution_count": null,
   "metadata": {},
   "outputs": [],
   "source": []
  },
  {
   "cell_type": "code",
   "execution_count": null,
   "metadata": {},
   "outputs": [],
   "source": [
    "list(it.islice(\n",
    "        df_reaxys[df_reaxys[\"func_group\"] == \"primary amine\"].iterrows(), 0, 1, 1\n",
    "    ))"
   ]
  },
  {
   "cell_type": "code",
   "execution_count": null,
   "metadata": {},
   "outputs": [],
   "source": [
    "df_opt_cages['BB InChI'] = [r[1]['BB2'] + ' ' + r[1]['BB1'] for r in df_opt_cages.iterrows()]"
   ]
  },
  {
   "cell_type": "code",
   "execution_count": null,
   "metadata": {},
   "outputs": [],
   "source": [
    "df_scscore_onepercent[df_scscore_onepercent['BB SMILES'].isin(df_opt_cages['BB SMILES'])]"
   ]
  },
  {
   "cell_type": "code",
   "execution_count": null,
   "metadata": {},
   "outputs": [],
   "source": [
    "df_reaxys.iloc[0]['smiles']"
   ]
  },
  {
   "cell_type": "code",
   "execution_count": null,
   "metadata": {},
   "outputs": [],
   "source": [
    "df_opt_cages.iloc[0]['BB1'] "
   ]
  },
  {
   "cell_type": "code",
   "execution_count": null,
   "metadata": {},
   "outputs": [],
   "source": [
    "df_combinations"
   ]
  },
  {
   "cell_type": "code",
   "execution_count": null,
   "metadata": {},
   "outputs": [],
   "source": [
    "df_reaxys['InChI'] = [rdkit.MolToInchi(rdkit.MolFromSmiles(r[1]['smiles'])) for r in df_reaxys.iterrows()]"
   ]
  },
  {
   "cell_type": "code",
   "execution_count": null,
   "metadata": {},
   "outputs": [],
   "source": [
    "df_combinations['BB1'] = [r[1]['BB'].split(' ')[0] for r in tqdm(df_combinations.iterrows())]\n",
    "df_combinations['BB2'] = [r[1]['BB'].split(' ')[1] for r in tqdm(df_combinations.iterrows())]"
   ]
  },
  {
   "cell_type": "code",
   "execution_count": null,
   "metadata": {},
   "outputs": [],
   "source": [
    "df_opt_cages[df_opt_cages['BB2'].isin(df_reaxys['InChI'])]"
   ]
  },
  {
   "cell_type": "code",
   "execution_count": null,
   "metadata": {},
   "outputs": [],
   "source": [
    "len(df_opt_cages[df_opt_cages['BB InChI'].isin(df_scscore_onepercent['BB'])])"
   ]
  },
  {
   "cell_type": "code",
   "execution_count": null,
   "metadata": {},
   "outputs": [],
   "source": [
    "from pybel import *"
   ]
  },
  {
   "cell_type": "code",
   "execution_count": null,
   "metadata": {},
   "outputs": [],
   "source": [
    "readstring('smiles', 'CCCC')"
   ]
  },
  {
   "cell_type": "code",
   "execution_count": null,
   "metadata": {},
   "outputs": [],
   "source": [
    "from openbabel import pybel"
   ]
  },
  {
   "cell_type": "code",
   "execution_count": null,
   "metadata": {},
   "outputs": [],
   "source": [
    "df_reaxys"
   ]
  },
  {
   "cell_type": "code",
   "execution_count": null,
   "metadata": {},
   "outputs": [],
   "source": [
    "df_reaxys['InChI OBabel'] = [pybel.readstring('smi', r[1]['smiles']).write('inchi') for r in df_reaxys.iterrows()]"
   ]
  },
  {
   "cell_type": "code",
   "execution_count": null,
   "metadata": {},
   "outputs": [],
   "source": [
    "for r in df_reaxys.iterrows():\n",
    "    if r[1]['InChI'] != r[1]['InChI OBabel']:\n",
    "        print(r[1]['InChI'])\n",
    "        print(r[1]['InChI OBabel'])"
   ]
  },
  {
   "cell_type": "code",
   "execution_count": null,
   "metadata": {},
   "outputs": [],
   "source": []
  }
 ],
 "metadata": {
  "kernelspec": {
   "display_name": "stk",
   "language": "python",
   "name": "stk"
  },
  "language_info": {
   "codemirror_mode": {
    "name": "ipython",
    "version": 3
   },
   "file_extension": ".py",
   "mimetype": "text/x-python",
   "name": "python",
   "nbconvert_exporter": "python",
   "pygments_lexer": "ipython3",
   "version": "3.8.2"
  }
 },
 "nbformat": 4,
 "nbformat_minor": 4
}
