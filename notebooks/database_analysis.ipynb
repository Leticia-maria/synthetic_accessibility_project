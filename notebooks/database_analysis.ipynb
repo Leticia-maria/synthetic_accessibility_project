{
 "cells": [
  {
   "cell_type": "markdown",
   "metadata": {},
   "source": [
    "# Database Analysis Code\n",
    "\n",
    "Contains code to analyse the training set dataset used for the MPScore. This includes: identifying the functional groups present in the training database; an analysis of the consistency between chemists and the correlation between the SAScore, SCScore and chemist data."
   ]
  },
  {
   "cell_type": "code",
   "execution_count": 55,
   "metadata": {},
   "outputs": [],
   "source": [
    "from sqlalchemy import create_engine\n",
    "import pandas as pd\n",
    "from pathlib import Path\n",
    "from tqdm.notebook import tqdm\n",
    "import json\n",
    "from collections import defaultdict\n",
    "from rdkit.Chem import AllChem as rdkit\n",
    "import csv\n",
    "from rdkit.Chem.MolStandardize import standardize_smiles\n",
    "import seaborn as sns\n",
    "from rdkit import Chem\n",
    "from matplotlib import pyplot as plt\n",
    "import itertools as it\n",
    "pd.set_option(\"display.max_rows\", 10)"
   ]
  },
  {
   "cell_type": "code",
   "execution_count": 105,
   "metadata": {},
   "outputs": [
    {
     "data": {
      "application/vnd.jupyter.widget-view+json": {
       "model_id": "bf7f8fbef552428894035405a7438659",
       "version_major": 2,
       "version_minor": 0
      },
      "text/plain": [
       "  0%|          | 0/14859 [00:00<?, ?it/s]"
      ]
     },
     "metadata": {},
     "output_type": "display_data"
    },
    {
     "name": "stderr",
     "output_type": "stream",
     "text": [
      "RDKit WARNING: [12:05:02] Cannot assign bond directions!\n",
      "RDKit WARNING: [12:05:02] Cannot assign bond directions!\n",
      "RDKit WARNING: [12:05:02] Cannot assign bond directions!\n",
      "RDKit WARNING: [12:05:02] Cannot assign bond directions!\n",
      "RDKit WARNING: [12:05:02] Cannot assign bond directions!\n",
      "RDKit WARNING: [12:05:02] Cannot assign bond directions!\n",
      "RDKit WARNING: [12:05:04] Cannot assign bond directions!\n",
      "RDKit WARNING: [12:05:04] Cannot assign bond directions!\n",
      "RDKit WARNING: [12:05:04] Cannot assign bond directions!\n",
      "RDKit WARNING: [12:05:04] Cannot assign bond directions!\n",
      "RDKit WARNING: [12:05:04] Cannot assign bond directions!\n",
      "RDKit WARNING: [12:05:04] Cannot assign bond directions!\n",
      "RDKit WARNING: [12:05:04] Cannot assign bond directions!\n",
      "RDKit WARNING: [12:05:04] Cannot assign bond directions!\n",
      "RDKit WARNING: [12:05:04] Cannot assign bond directions!\n",
      "RDKit WARNING: [12:05:04] Cannot assign bond directions!\n",
      "RDKit WARNING: [12:05:05] Cannot assign bond directions!\n",
      "RDKit WARNING: [12:05:05] Cannot assign bond directions!\n",
      "RDKit WARNING: [12:05:05] Cannot assign bond directions!\n",
      "RDKit WARNING: [12:05:05] Cannot assign bond directions!\n",
      "RDKit WARNING: [12:05:05] Cannot assign bond directions!\n",
      "RDKit WARNING: [12:05:05] Cannot assign bond directions!\n",
      "RDKit WARNING: [12:05:05] Cannot assign bond directions!\n",
      "RDKit WARNING: [12:05:05] Cannot assign bond directions!\n",
      "RDKit WARNING: [12:05:07] Cannot assign bond directions!\n",
      "RDKit WARNING: [12:05:07] Cannot assign bond directions!\n",
      "RDKit WARNING: [12:05:07] Cannot assign bond directions!\n",
      "RDKit WARNING: [12:05:07] Cannot assign bond directions!\n",
      "RDKit WARNING: [12:05:07] Cannot assign bond directions!\n",
      "RDKit WARNING: [12:05:07] Cannot assign bond directions!\n",
      "RDKit WARNING: [12:05:08] Cannot assign bond directions!\n",
      "RDKit WARNING: [12:05:08] Cannot assign bond directions!\n",
      "RDKit WARNING: [12:05:08] Cannot assign bond directions!\n",
      "RDKit WARNING: [12:05:08] Cannot assign bond directions!\n",
      "RDKit WARNING: [12:05:08] Cannot assign bond directions!\n",
      "RDKit WARNING: [12:05:08] Cannot assign bond directions!\n",
      "RDKit WARNING: [12:05:08] Cannot assign bond directions!\n",
      "RDKit WARNING: [12:05:08] Cannot assign bond directions!\n",
      "RDKit WARNING: [12:05:08] Cannot assign bond directions!\n",
      "RDKit WARNING: [12:05:08] Cannot assign bond directions!\n",
      "RDKit WARNING: [12:05:08] Cannot assign bond directions!\n",
      "RDKit WARNING: [12:05:08] Cannot assign bond directions!\n",
      "RDKit WARNING: [12:05:08] Cannot assign bond directions!\n",
      "RDKit WARNING: [12:05:09] Cannot assign bond directions!\n",
      "RDKit WARNING: [12:05:09] Cannot assign bond directions!\n",
      "RDKit WARNING: [12:05:09] Cannot assign bond directions!\n",
      "RDKit WARNING: [12:05:09] Cannot assign bond directions!\n"
     ]
    },
    {
     "name": "stdout",
     "output_type": "stream",
     "text": [
      "             0     1\n",
      "0   alcohol2_2    19\n",
      "1   alcohol2_3     2\n",
      "2   alcohol2_4     2\n",
      "3    alcohol_2  1030\n",
      "4    alcohol_3   137\n",
      "..         ...   ...\n",
      "46    methyl_2    59\n",
      "47    methyl_3    30\n",
      "48    methyl_4     6\n",
      "49    methyl_5     2\n",
      "50     thiol_2    24\n",
      "\n",
      "[51 rows x 2 columns]\n"
     ]
    },
    {
     "name": "stderr",
     "output_type": "stream",
     "text": [
      "RDKit WARNING: [12:05:09] Cannot assign bond directions!\n"
     ]
    }
   ],
   "source": [
    "# Analysing the functional groups in the training dataset\n",
    "def find_functional_groups():\n",
    "    training_db = \"../data/training_mols.json\"\n",
    "    with open(training_db, \"r\") as f:\n",
    "        training_db = json.load(f)\n",
    "    fg_smarts = {\n",
    "        'amine': ('[N]([H])[H]'),\n",
    "        'aldehyde': ('[C](=[O])[H]'),\n",
    "        'carboxylic_acid': ('[C](=[O])-[O][H]'),\n",
    "        'fluorine': ('[F]'),\n",
    "        'chlorine': ('[Cl]'),\n",
    "        'bromine': ('[Br]'),\n",
    "        'iodine': ('[I]'),\n",
    "        'astatine': ('[As]'),\n",
    "        'alcohol': ('[C]([H])([H])-[O][H]'),\n",
    "        'alcohol2': ('[O][H]'),\n",
    "        'alkene': ('[C]=[C]([H])[H]'),\n",
    "        'alkyne': ('[C]#[C][H]'),\n",
    "        'thiol': ('[S][H]'),\n",
    "        'amide': ('[C](=[O])[N]([H])[H]'),\n",
    "        'boronic_acid': ('[B]([O][H])[O][H]'),\n",
    "        'xenon': ('[Xe]'),\n",
    "        'methyl': ('[C]([H])([H])[H]'),\n",
    "        'ethyl': ('[C]([H])([H])[C]([H])([H])[H]'),\n",
    "        'propyl': ('[C]([H])([H])[C]([H])([H])[C]([H])([H])[H]'),\n",
    "    }\n",
    "    fg_counter = defaultdict(int)\n",
    "    removed = []\n",
    "    for inchi in tqdm(training_db):\n",
    "        mol = Chem.AddHs(Chem.MolFromInchi(inchi))\n",
    "        for fg in fg_smarts:\n",
    "            fg_smart = fg_smarts[fg]\n",
    "            counter = 0\n",
    "            substruct = Chem.MolFromSmarts(fg_smart)\n",
    "            matches = mol.GetSubstructMatches(substruct)\n",
    "            counter += len(matches)\n",
    "            # Ignore molecules if functional groups are less than two.\n",
    "            if counter >= 2:\n",
    "                fg_counter[f'{fg}_{counter}'] += 1\n",
    "                removed.append(inchi)\n",
    "                break\n",
    "    sorted_db_funcs = sorted(fg_counter.items(), key=lambda x: x[0])\n",
    "    db_funcs = pd.DataFrame(sorted_db_funcs)\n",
    "    return db_funcs\n",
    "db_fgs = find_functional_groups()\n",
    "print(db_fgs)"
   ]
  },
  {
   "cell_type": "code",
   "execution_count": 106,
   "metadata": {},
   "outputs": [
    {
     "name": "stderr",
     "output_type": "stream",
     "text": [
      "RDKit WARNING: [12:05:31] WARNING: Omitted undefined stereo\n",
      "RDKit WARNING: [12:05:31] WARNING: Omitted undefined stereo\n",
      "RDKit WARNING: [12:05:31] WARNING: Omitted undefined stereo\n",
      "RDKit WARNING: [12:05:31] WARNING: Omitted undefined stereo\n",
      "RDKit WARNING: [12:05:31] WARNING: Omitted undefined stereo\n",
      "RDKit WARNING: [12:05:31] WARNING: Omitted undefined stereo\n",
      "RDKit WARNING: [12:05:31] WARNING: Omitted undefined stereo\n",
      "RDKit WARNING: [12:05:31] WARNING: Omitted undefined stereo\n",
      "RDKit WARNING: [12:05:31] WARNING: Omitted undefined stereo\n",
      "RDKit WARNING: [12:05:31] WARNING: Omitted undefined stereo\n",
      "RDKit WARNING: [12:05:31] WARNING: Omitted undefined stereo\n",
      "RDKit WARNING: [12:05:31] WARNING: Omitted undefined stereo\n",
      "RDKit WARNING: [12:05:31] WARNING: Omitted undefined stereo\n",
      "RDKit WARNING: [12:05:31] Conflicting single bond directions around double bond at index 1.\n",
      "RDKit WARNING: [12:05:31]   BondStereo set to STEREONONE and single bond directions set to NONE.\n",
      "RDKit WARNING: [12:05:31] WARNING: Omitted undefined stereo\n",
      "RDKit WARNING: [12:05:32] Conflicting single bond directions around double bond at index 1.\n",
      "RDKit WARNING: [12:05:32]   BondStereo set to STEREONONE and single bond directions set to NONE.\n",
      "RDKit WARNING: [12:05:32] WARNING: Omitted undefined stereo\n",
      "RDKit WARNING: [12:05:32] WARNING: Omitted undefined stereo\n",
      "RDKit WARNING: [12:05:32] WARNING: Omitted undefined stereo\n",
      "RDKit WARNING: [12:05:32] WARNING: Omitted undefined stereo\n",
      "RDKit WARNING: [12:05:32] WARNING: Omitted undefined stereo\n",
      "RDKit WARNING: [12:05:32] WARNING: Omitted undefined stereo\n",
      "RDKit WARNING: [12:05:32] WARNING: Omitted undefined stereo\n",
      "RDKit WARNING: [12:05:32] WARNING: Omitted undefined stereo\n",
      "RDKit WARNING: [12:05:32] WARNING: Omitted undefined stereo\n",
      "RDKit WARNING: [12:05:32] WARNING: Omitted undefined stereo\n",
      "RDKit WARNING: [12:05:32] WARNING: Omitted undefined stereo\n",
      "RDKit WARNING: [12:05:32] WARNING: Omitted undefined stereo\n",
      "RDKit WARNING: [12:05:32] WARNING: Omitted undefined stereo\n",
      "RDKit WARNING: [12:05:32] WARNING: Omitted undefined stereo\n",
      "RDKit WARNING: [12:05:32] WARNING: Omitted undefined stereo\n",
      "RDKit WARNING: [12:05:36] Cannot assign bond directions!\n",
      "RDKit WARNING: [12:05:36] Cannot assign bond directions!\n",
      "RDKit WARNING: [12:05:37] Cannot assign bond directions!\n",
      "RDKit WARNING: [12:05:37] Cannot assign bond directions!\n",
      "RDKit WARNING: [12:05:37] Cannot assign bond directions!\n",
      "RDKit WARNING: [12:05:37] Cannot assign bond directions!\n",
      "RDKit WARNING: [12:05:38] Cannot assign bond directions!\n",
      "RDKit WARNING: [12:05:39] Cannot assign bond directions!\n",
      "RDKit WARNING: [12:05:41] Cannot assign bond directions!\n",
      "RDKit WARNING: [12:05:41] Cannot assign bond directions!\n",
      "RDKit WARNING: [12:05:41] Cannot assign bond directions!\n",
      "RDKit WARNING: [12:05:43] Cannot assign bond directions!\n",
      "RDKit WARNING: [12:05:43] Cannot assign bond directions!\n",
      "RDKit WARNING: [12:05:43] Cannot assign bond directions!\n",
      "RDKit WARNING: [12:05:44] Cannot assign bond directions!\n",
      "RDKit WARNING: [12:05:44] Cannot assign bond directions!\n",
      "RDKit WARNING: [12:05:45] Cannot assign bond directions!\n",
      "RDKit WARNING: [12:05:45] Cannot assign bond directions!\n",
      "RDKit WARNING: [12:05:46] Cannot assign bond directions!\n",
      "RDKit WARNING: [12:05:47] Cannot assign bond directions!\n",
      "RDKit WARNING: [12:05:47] Cannot assign bond directions!\n",
      "RDKit WARNING: [12:05:47] Cannot assign bond directions!\n",
      "RDKit WARNING: [12:05:47] Cannot assign bond directions!\n",
      "RDKit WARNING: [12:05:47] Cannot assign bond directions!\n",
      "RDKit WARNING: [12:05:47] Cannot assign bond directions!\n",
      "RDKit WARNING: [12:05:47] Cannot assign bond directions!\n",
      "RDKit WARNING: [12:05:48] Cannot assign bond directions!\n",
      "RDKit WARNING: [12:05:48] Cannot assign bond directions!\n",
      "RDKit WARNING: [12:05:49] Cannot assign bond directions!\n",
      "RDKit WARNING: [12:05:49] Cannot assign bond directions!\n",
      "RDKit WARNING: [12:05:49] Cannot assign bond directions!\n",
      "RDKit WARNING: [12:05:50] Cannot assign bond directions!\n",
      "RDKit WARNING: [12:05:50] Cannot assign bond directions!\n",
      "RDKit WARNING: [12:05:50] Cannot assign bond directions!\n",
      "RDKit WARNING: [12:05:51] Cannot assign bond directions!\n"
     ]
    },
    {
     "name": "stdout",
     "output_type": "stream",
     "text": [
      "There were 42 molecules labelled by all three chemists\n",
      "11 molecules were labelled the same by all three chemists and 31 were labelled differently.\n",
      "There were 1179 molecules labelled the same out of those scored by two chemists.\n",
      "There were 446 molecules labelled differently out of those scored by two chemists.\n",
      "RLG labelled 1109 easy-to-synthesise and 8891 difficult-to-synthesise\n",
      "FS labelled 667 easy-to-synthesise and 1191 difficult-to-synthesise\n",
      "MB labelled 232 easy-to-synthesise and 463 difficult-to-synthesise\n"
     ]
    }
   ],
   "source": [
    "# Analysing chemist data\n",
    "def load_chemist_data():\n",
    "    p1 = main_dir.joinpath(\"data/chemist_data/opinions_becky.json\")\n",
    "    p2 = main_dir.joinpath(\"data/chemist_data/opinions_mebriggs.json\")\n",
    "    p3 = main_dir.joinpath(\"data/chemist_data/filip.csv\")\n",
    "    # Finding disagreements in training data\n",
    "    with open(str(p1)) as f:\n",
    "        rg = json.load(f)\n",
    "    with open(str(p2)) as f:\n",
    "        mb = json.load(f)\n",
    "    with open(str(p3)) as f:\n",
    "        reader = csv.reader(f, delimiter='\\t')\n",
    "        fs = {rdkit.MolToInchi(rdkit.MolFromSmiles(smi)): sco for sco, smi in reader}\n",
    "    def parse_training(training_dict):\n",
    "        d = defaultdict(list)\n",
    "        for inchi in training_dict:\n",
    "            # Convert and standardise SMILES string.\n",
    "            d['smiles'].append(standardize_smiles(rdkit.MolToSmiles(rdkit.MolFromInchi(inchi))))\n",
    "            d['chemist_score'].append(int(training_dict[inchi]))\n",
    "        return pd.DataFrame(d)\n",
    "    fs = parse_training(fs)\n",
    "    rg = parse_training(rg)\n",
    "    mb = parse_training(mb)\n",
    "    # Molecules scored by all three chemists\n",
    "    all_three = rg.rename(columns={'chemist_score': 'RLG'}).merge(fs.rename(columns={'chemist_score': 'FS'}), on='smiles').merge(mb.rename(columns={'chemist_score': 'MB'}), on='smiles')\n",
    "    # Molecules scored by two chemists\n",
    "    two = pd.concat([rg.merge(fs, on='smiles'), fs.merge(mb, on='smiles'), rg.merge(mb, on='smiles')])\n",
    "    mols = [] \n",
    "    rows = []\n",
    "    count = 0\n",
    "    for i, r in all_three.iterrows():\n",
    "        if (int(r.RLG) != int(r.FS)) or (int(r.FS) != int(r.MB)):\n",
    "            count+=1\n",
    "            rows.append(r)\n",
    "            mols.append(r.smiles)\n",
    "    print(f\"There were {len(all_three)} molecules labelled by all three chemists\")\n",
    "    print(f\"{count} molecules were labelled the same by all three chemists and {len(all_three)-count} were labelled differently.\")\n",
    "    count = 0\n",
    "    column_names = ['RLG', 'FS', 'MB']\n",
    "    df1 = rg.merge(fs, on='smiles')\n",
    "    df1[~df1['smiles'].isin(all_three['smiles'])]\n",
    "    df2 = rg.merge(mb, on='smiles')\n",
    "    df2[~df2['smiles'].isin(all_three['smiles'])]\n",
    "    df3 = fs.merge(mb, on='smiles')\n",
    "    df3[~df3['smiles'].isin(all_three['smiles'])]\n",
    "    for r in pd.concat([df1, df2, df3]).itertuples():\n",
    "        if (int(r.chemist_score_x) == int(r.chemist_score_y)):\n",
    "            count+=1\n",
    "    print(f'There were {count} molecules labelled the same out of those scored by two chemists.')\n",
    "    print(f'There were {len(pd.concat([df1, df2, df3])) - count} molecules labelled differently out of those scored by two chemists.')\n",
    "    print(f'RLG labelled {sum(rg.chemist_score)} easy-to-synthesise and {len(rg)-sum(rg.chemist_score)} difficult-to-synthesise')\n",
    "    print(f'FS labelled {sum(fs.chemist_score)} easy-to-synthesise and {len(fs)-sum(fs.chemist_score)} difficult-to-synthesise')\n",
    "    print(f'MB labelled {sum(mb.chemist_score)} easy-to-synthesise and {len(mb)-sum(mb.chemist_score)} difficult-to-synthesise')\n",
    "    return \n",
    "data = load_chemist_data()"
   ]
  },
  {
   "cell_type": "code",
   "execution_count": 185,
   "metadata": {},
   "outputs": [
    {
     "name": "stdout",
     "output_type": "stream",
     "text": [
      "The correlation between the SAScore and SCScore is: 0.12156426384760034\n"
     ]
    },
    {
     "data": {
      "text/plain": [
       "<seaborn.axisgrid.JointGrid at 0x7fba1479cfd0>"
      ]
     },
     "execution_count": 185,
     "metadata": {},
     "output_type": "execute_result"
    },
    {
     "data": {
      "image/png": "[encoded data removed]",
      "text/plain": [
       "<Figure size 237.6x237.6 with 3 Axes>"
      ]
     },
     "metadata": {},
     "output_type": "display_data"
    }
   ],
   "source": [
    "def plot_figure4():\n",
    "    df_training = pd.read_csv(main_dir.joinpath('data/chemist_data/training_data_with_sascores.csv'), names=['smiles', 'sas', 'scs', 'chemist_score', 'sas_norm', 'scs_norm'])\n",
    "    # Scaling scores between 0 and 1\n",
    "    df_training['sas_norm'] = [(val-10)/(1-10) for val in df_training['sas'].to_list()]\n",
    "    df_training['scs_norm'] = [(val-5)/(1-5) for val in df_training['scs'].to_list()]\n",
    "    # Plotting SA-SCScore correlations.\n",
    "    print(f\"The correlation between the SAScore and SCScore is: {df_training['scs'].corr(df_training['sas'])}\")\n",
    "    sns.set_style('white')\n",
    "    palette = sns.color_palette() \n",
    "    # Green = palette[2] = Easy-to-synthesise\n",
    "    # Red = palette[3] = Difficult-to-synthesise \n",
    "    colors = [palette[3]] + [palette[2]]\n",
    "    g = sns.jointplot(\n",
    "        data=df_training,\n",
    "        x='sas_norm',\n",
    "        y='scs_norm',\n",
    "        hue='chemist_score',\n",
    "        palette=colors,\n",
    "        space=0.3,\n",
    "        xlim=[0,1.1],\n",
    "        ylim=[0,1.1],\n",
    "        s=5,\n",
    "        linewidth=0.2,\n",
    "        height= 3.3\n",
    "    )\n",
    "    g.set_axis_labels(xlabel='SAScore', ylabel='SCScore', fontsize='medium')\n",
    "    g.ax_joint.legend_.remove()\n",
    "    g.ax_joint.tick_params('both', labelsize='medium')\n",
    "    return g\n",
    "plot_figure4()"
   ]
  },
  {
   "cell_type": "markdown",
   "metadata": {},
   "source": [
    "# POC Precursor Screening\n",
    "\n",
    "In this section, we filter for easy-to-synthesise molecules using our developed MPScore, the SAScore and SCScore.\n",
    "We show the distriubtions of synthetic difficulty scores for each precursor combination in our precursor database."
   ]
  },
  {
   "cell_type": "code",
   "execution_count": 189,
   "metadata": {},
   "outputs": [
    {
     "name": "stderr",
     "output_type": "stream",
     "text": [
      "/Users/stevenbennett/anaconda3/envs/saprojectclean/lib/python3.9/site-packages/sklearn/base.py:310: UserWarning: Trying to unpickle estimator DecisionTreeClassifier from version 0.22.1 when using version 0.24.1. This might lead to breaking code or invalid results. Use at your own risk.\n",
      "  warnings.warn(\n",
      "/Users/stevenbennett/anaconda3/envs/saprojectclean/lib/python3.9/site-packages/sklearn/base.py:310: UserWarning: Trying to unpickle estimator RandomForestClassifier from version 0.22.1 when using version 0.24.1. This might lead to breaking code or invalid results. Use at your own risk.\n",
      "  warnings.warn(\n"
     ]
    },
    {
     "data": {
      "application/vnd.jupyter.widget-view+json": {
       "model_id": "d37a2a9ca94d44b5be40267de63de49e",
       "version_major": 2,
       "version_minor": 0
      },
      "text/plain": [
       "  0%|          | 0/7288 [00:00<?, ?it/s]"
      ]
     },
     "metadata": {},
     "output_type": "display_data"
    },
    {
     "data": {
      "application/vnd.jupyter.widget-view+json": {
       "model_id": "28a02dcde5bf44bd838244fd024f51bc",
       "version_major": 2,
       "version_minor": 0
      },
      "text/plain": [
       "0it [00:00, ?it/s]"
      ]
     },
     "metadata": {},
     "output_type": "display_data"
    },
    {
     "data": {
      "image/png": "[encoded data removed]",
      "text/plain": [
       "<Figure size 231.631x223.2 with 1 Axes>"
      ]
     },
     "metadata": {},
     "output_type": "display_data"
    }
   ],
   "source": [
    "def plot_figure6():\n",
    "    # Loading Reaxys data\n",
    "    import sys\n",
    "    sys.path.append(str(main_dir))\n",
    "    from scripts.mpscore import MPScore\n",
    "    con = create_engine(\n",
    "        f\"sqlite:///{str(main_dir.joinpath('data/Reaxys_DB_Scored_AddHs.db'))}\"\n",
    "    )\n",
    "    df_reaxys = pd.read_sql(sql=\"synthetic_accesibility\", con=con)\n",
    "    # Perform standardization on all molecules in Reaxys.\n",
    "    model = MPScore()\n",
    "    model.restore()\n",
    "    df_reaxys['standardized_smiles'] = [standardize_smiles(smi) for smi in df_reaxys['smiles']]\n",
    "    df_reaxys['rfmodel_fulldataset'] = [model.predict_proba(rdkit.AddHs(rdkit.MolFromSmiles(x))) for x in tqdm(df_reaxys['standardized_smiles'])]\n",
    "    bb_gen = it.product(\n",
    "        (r[1] for r in df_reaxys[df_reaxys[\"func_group\"] == \"primary amine\"].iterrows()),\n",
    "        (r[1] for r in df_reaxys[df_reaxys[\"func_group\"] == \"aldehyde\"].iterrows()),\n",
    "    )\n",
    "    combinations = defaultdict(list)\n",
    "    smiles_cache = {}\n",
    "    for bbs in tqdm(bb_gen):\n",
    "        _bb = smiles_cache.get(bbs[0]['smiles'], None)\n",
    "        amine_smiles =  _bb if _bb else standardize_smiles(bbs[0]['smiles'])\n",
    "        _bb = amine_smiles\n",
    "        smiles_cache[bbs[0]['smiles']] = _bb\n",
    "        _bb = smiles_cache.get(bbs[1]['smiles'], None)\n",
    "        aldehyde_smiles =  _bb if _bb else standardize_smiles(bbs[1]['smiles'])\n",
    "        _bb = aldehyde_smiles\n",
    "        smiles_cache[bbs[1]['smiles']] = _bb\n",
    "        combinations[\"bb\"].append(\n",
    "            aldehyde_smiles + ',' + amine_smiles\n",
    "        )\n",
    "        combinations[\"sascore_combination\"].append(sum(r[\"sascore\"] for r in bbs)/2)\n",
    "        combinations[\"scscore_combination\"].append(sum(r[\"scscore\"] for r in bbs)/2)\n",
    "        combinations[\"rfmodel_fulldataset_combination\"].append(sum(r[\"rfmodel_fulldataset\"] for r in bbs)/2)\n",
    "    df_combinations = pd.DataFrame(combinations)\n",
    "    sns.set_style('white')\n",
    "    palette = sns.color_palette()\n",
    "    fig, ax = plt.subplots(1, figsize=(6.43420506434205/2, 3.1))\n",
    "    sns.kdeplot(data=df_combinations, x='sascore_combination', ax=ax, color=palette[0])\n",
    "    sns.kdeplot(data=df_combinations, x='scscore_combination', ax=ax, color=palette[1])\n",
    "    sns.kdeplot(data=df_combinations, x='rfmodel_fulldataset_combination', ax=ax, color=palette[3])\n",
    "    sns.despine()\n",
    "    ax.set_xlabel('Synthetic Difficulty', fontsize='medium')\n",
    "    ax.set_ylabel('Density', fontsize='medium')\n",
    "    ax.axvline(df_combinations['sascore_combination'].quantile(0.01), 0, 0.7, color=palette[0], linestyle =\"--\")\n",
    "    ax.text(df_combinations['sascore_combination'].quantile(0.01)+0.033, 3.7, f\"{round(df_combinations['sascore_combination'].quantile(0.01), 2)}\", color=palette[0], fontsize=8)\n",
    "    ax.text(df_combinations['sascore_combination'].quantile(0.01)+0.03, 4, \"SAScore\", color=palette[0], fontsize=8)\n",
    "\n",
    "    # ax.arrow(df_combinations['sascore_combination'].quantile(0.01), 4.45, -df_combinations['sascore_combination'].quantile(0.01), 0, color=palette[0], shape='full', head_width=0.25, head_length=0.03, length_includes_head=True)\n",
    "    ax.axvline(df_combinations['scscore_combination'].quantile(0.01), 0, 0.7, color=palette[1], linestyle =\"--\")\n",
    "    ax.text(df_combinations['scscore_combination'].quantile(0.01)-0.05, 3.7, f\"{round(df_combinations['scscore_combination'].quantile(0.01), 2)}\", color=palette[1], fontsize=8)\n",
    "    ax.text(df_combinations['scscore_combination'].quantile(0.01)-0.07, 4, \"SCScore\", color=palette[1], fontsize=8)\n",
    "\n",
    "    # ax.arrow(1, 4.75, -df_combinations['scscore_combination'].quantile(0.01), 0, color=palette[1], shape='full', head_width=0.25, head_length=0.03, length_includes_head=True)\n",
    "    ax.axvline(df_combinations['rfmodel_fulldataset_combination'].quantile(0.01), 0, 0.7, color=palette[3], linestyle =\"--\")\n",
    "    ax.text(df_combinations['rfmodel_fulldataset_combination'].quantile(0.01)-0.05, 3.7, f\"{round(df_combinations['rfmodel_fulldataset_combination'].quantile(0.01), 2)}\", color=palette[3], fontsize=8)\n",
    "    ax.text(df_combinations['rfmodel_fulldataset_combination'].quantile(0.01)-0.11, 4, \"MPScore\", color=palette[3], fontsize=8)\n",
    "    ax.tick_params(labelsize='medium')\n",
    "    # ax.arrow(df_combinations['rfmodel_fulldataset_combination'].quantile(0.01), 4.15, -df_combinations['rfmodel_fulldataset_combination'].quantile(0.01), 0, color=palette[3], shape='full', head_width=0.25, head_length=0.03, length_includes_head=True)\n",
    "    ax.set_xlim(0, 1.0)\n",
    "    return fig, ax\n",
    "df_combinations = plot_figure6()"
   ]
  },
  {
   "cell_type": "code",
   "execution_count": 195,
   "metadata": {},
   "outputs": [
    {
     "name": "stderr",
     "output_type": "stream",
     "text": [
      "/Users/stevenbennett/anaconda3/envs/saprojectclean/lib/python3.9/site-packages/sklearn/base.py:310: UserWarning: Trying to unpickle estimator DecisionTreeClassifier from version 0.22.1 when using version 0.24.1. This might lead to breaking code or invalid results. Use at your own risk.\n",
      "  warnings.warn(\n",
      "/Users/stevenbennett/anaconda3/envs/saprojectclean/lib/python3.9/site-packages/sklearn/base.py:310: UserWarning: Trying to unpickle estimator RandomForestClassifier from version 0.22.1 when using version 0.24.1. This might lead to breaking code or invalid results. Use at your own risk.\n",
      "  warnings.warn(\n"
     ]
    },
    {
     "data": {
      "application/vnd.jupyter.widget-view+json": {
       "model_id": "bc18a94b8f4548e0a0d6f6ea3e68060b",
       "version_major": 2,
       "version_minor": 0
      },
      "text/plain": [
       "  0%|          | 0/7288 [00:00<?, ?it/s]"
      ]
     },
     "metadata": {},
     "output_type": "display_data"
    },
    {
     "data": {
      "application/vnd.jupyter.widget-view+json": {
       "model_id": "e78fb30f82b040e795c059853dcf3ee3",
       "version_major": 2,
       "version_minor": 0
      },
      "text/plain": [
       "0it [00:00, ?it/s]"
      ]
     },
     "metadata": {},
     "output_type": "display_data"
    }
   ],
   "source": [
    "def get_precursor_combinations():\n",
    "    # Loading Reaxys data\n",
    "    import sys\n",
    "    sys.path.append(str(main_dir))\n",
    "    from scripts.mpscore import MPScore\n",
    "    con = create_engine(\n",
    "        f\"sqlite:///{str(main_dir.joinpath('data/Reaxys_DB_Scored_AddHs.db'))}\"\n",
    "    )\n",
    "    df_reaxys = pd.read_sql(sql=\"synthetic_accesibility\", con=con)\n",
    "    # Perform standardization on all molecules in Reaxys.\n",
    "    model = MPScore()\n",
    "    model.restore('/Users/stevenbennett/PhD/Main_Projects/Synthetic_Accessibility_Project/Clean/models/RFModel_FullDatasetTrained.joblib')\n",
    "    df_reaxys['standardized_smiles'] = [standardize_smiles(smi) for smi in df_reaxys['smiles']]\n",
    "    df_reaxys['rfmodel_fulldataset'] = [model.predict_proba(rdkit.AddHs(rdkit.MolFromSmiles(x))) for x in tqdm(df_reaxys['standardized_smiles'])]\n",
    "    bb_gen = it.product(\n",
    "        (r[1] for r in df_reaxys[df_reaxys[\"func_group\"] == \"primary amine\"].iterrows()),\n",
    "        (r[1] for r in df_reaxys[df_reaxys[\"func_group\"] == \"aldehyde\"].iterrows()),\n",
    "    )\n",
    "    combinations = defaultdict(list)\n",
    "    smiles_cache = {}\n",
    "    for bbs in tqdm(bb_gen):\n",
    "        _bb = smiles_cache.get(bbs[0]['smiles'], None)\n",
    "        amine_smiles =  _bb if _bb else standardize_smiles(bbs[0]['smiles'])\n",
    "        _bb = amine_smiles\n",
    "        smiles_cache[bbs[0]['smiles']] = _bb\n",
    "        _bb = smiles_cache.get(bbs[1]['smiles'], None)\n",
    "        aldehyde_smiles =  _bb if _bb else standardize_smiles(bbs[1]['smiles'])\n",
    "        _bb = aldehyde_smiles\n",
    "        smiles_cache[bbs[1]['smiles']] = _bb\n",
    "        combinations[\"bb\"].append(\n",
    "            aldehyde_smiles + ',' + amine_smiles\n",
    "        )\n",
    "        combinations[\"sascore_combination\"].append(sum(r[\"sascore\"] for r in bbs)/2)\n",
    "        combinations[\"scscore_combination\"].append(sum(r[\"scscore\"] for r in bbs)/2)\n",
    "        combinations[\"rfmodel_fulldataset_combination\"].append(sum(r[\"rfmodel_fulldataset\"] for r in bbs)/2)\n",
    "        combinations[\"rfmodel_combination\"].append(sum(r[\"rfmodel\"] for r in bbs)/2)\n",
    "    return pd.DataFrame(combinations)\n",
    "df_combinations = get_precursor_combinations()"
   ]
  },
  {
   "cell_type": "code",
   "execution_count": 163,
   "metadata": {},
   "outputs": [],
   "source": [
    "def plot_figure_7():\n",
    "    # Loading optimised cages\n",
    "    from pymongo import MongoClient\n",
    "    client = MongoClient()\n",
    "    db = client.collapse_prediction\n",
    "    c1 = db[\"pywindow_calculations_29-07-2020\"]\n",
    "    df = pd.DataFrame(list(c1.find()))\n",
    "    cursor = client['sa_project_optimisations']['random_precursors_collapse_result'].find({})\n",
    "    df_random_selection = pd.DataFrame(list(cursor))\n",
    "    df_random_selection = df_random_selection.rename(columns={'_id':'bb'})\n",
    "    # Selecting first percentile of synthetic accessibility scores for the MPScore.\n",
    "    ecm_selected_full = df_combinations[df_combinations['rfmodel_fulldataset_combination'] < df_combinations['rfmodel_fulldataset_combination'].quantile(0.01)].drop_duplicates('bb')\n",
    "    sa_selected = df_combinations[df_combinations['sascore_combination'] < df_combinations['sascore_combination'].quantile(0.01)].drop_duplicates('bb')\n",
    "    sc_selected = df_combinations[df_combinations['scscore_combination'] < df_combinations['scscore_combination'].quantile(0.01)].drop_duplicates('bb')\n",
    "    ecm_cages = ecm_selected_full[ecm_selected_full['bb'].isin(df['_id'])]\n",
    "    ecm_cages = pd.merge(ecm_cages, df, left_on='bb', right_on='_id')\n",
    "    sa_cages = sa_selected[sa_selected['bb'].isin(df['_id'])]\n",
    "    sa_cages = pd.merge(sa_cages, df, left_on='bb', right_on='_id')\n",
    "    sc_cages = sc_selected[sc_selected['bb'].isin(df['_id'])]\n",
    "    sc_cages = pd.merge(sc_cages, df, left_on='bb', right_on='_id')\n",
    "    sp_sc_cages = sc_cages[(sc_cages['collapsed'] == False) & (sc_cages['cavity_size'] > 1.0)]\n",
    "    sp_ecm_cages = ecm_cages[(ecm_cages['collapsed'] == False) & (ecm_cages['cavity_size'] > 1.0)]\n",
    "    sp_sa_cages = sa_cages[(sa_cages['collapsed'] == False) & (sa_cages['cavity_size'] > 1.0)]\n",
    "    sp_random = df_random_selection[(df_random_selection['collapsed'] == False) &  (df_random_selection['cavity_size'] > 1.0)]\n",
    "    print(f\"Mean of SCScore selected cages: {sp_sc_cages['cavity_size'].mean()}\")\n",
    "    print(f\"Mean of SAScore selected cages: {sp_sa_cages['cavity_size'].mean()}\")\n",
    "    print(f\"Mean of MPScore selected cages: {sp_ecm_cages['cavity_size'].mean()}\")\n",
    "    print(f\"Mean of randomly selected cages: {sp_random['cavity_size'].mean()}\")\n",
    "    print(\n",
    "        f\"Number of shape persistent from SCScore: {len(sp_sc_cages)}\\n\"\n",
    "        f\"Number of shape persistent from SAScore: {len(sp_sa_cages)}\\n\"\n",
    "        f\"Number of shape persistent from MPScore: {len(sp_ecm_cages)}\\n\"\n",
    "        f\"Number of shape persistent from control sample: {len(sp_random)}\\n\"\n",
    "    )\n",
    "    palette = sns.color_palette()\n",
    "    colors = {\n",
    "        'sascore': palette[0],\n",
    "        'scscore': palette[1],\n",
    "        'ecm': palette[3]\n",
    "    }\n",
    "    sns.set_style('whitegrid')\n",
    "    fig, ax = plt.subplots(figsize=(6.43420506434205/2, 3.3))\n",
    "    ecm_cavity_sizes = sp_ecm_cages['cavity_size']\n",
    "    sns.histplot(x=ecm_cavity_sizes, ax=ax, kde=False, color=colors['ecm'], element='step', edgecolor=colors['ecm'], linewidth=1, alpha=0.4, label='MPScore')\n",
    "    sa_cavity_sizes =sp_sa_cages['cavity_size']\n",
    "    sns.histplot(x=sa_cavity_sizes, ax=ax , kde=False, color=colors['sascore'], element='step', edgecolor=colors['sascore'], linewidth=1, alpha=0.4, label='SAScore')\n",
    "    random_cavity_sizes = df_random_selection[(df_random_selection['collapsed'] == False) &  (df_random_selection['cavity_size'] > 1.0)]['cavity_size']\n",
    "    sns.histplot(x=random_cavity_sizes, ax=ax, kde=False, color='green', element='step', edgecolor='green', linewidth=1, alpha=0.4, label='Control Sample')\n",
    "    sc_cavity_sizes = sp_sc_cages['cavity_size']\n",
    "    sns.histplot(x=sc_cavity_sizes, ax=ax, kde=False, color=colors['scscore'], element='step', edgecolor=colors['scscore'], linewidth=1, alpha=0.4, label='SCScore')\n",
    "    ax.set_xlim(0, 25)\n",
    "    ax.set_xlabel('Cavity Diameter / Å', fontsize='medium')\n",
    "    ax.set_ylabel('Number of Cages', fontsize='medium')\n",
    "    sns.despine()\n",
    "    ax.tick_params(labelsize='medium')\n",
    "    ax.legend()\n",
    "    return fig\n"
   ]
  },
  {
   "cell_type": "code",
   "execution_count": 141,
   "metadata": {},
   "outputs": [],
   "source": [
    "from pymongo import MongoClient\n",
    "client = MongoClient()\n",
    "db = client.collapse_prediction\n",
    "c1 = db[\"pywindow_calculations_29-07-2020\"]\n",
    "df = pd.DataFrame(list(c1.find()))\n",
    "cursor = client['sa_project_optimisations']['random_precursors_collapse_result'].find({})\n",
    "df_random_selection = pd.DataFrame(list(cursor))\n",
    "df_random_selection = df_random_selection.rename(columns={'_id':'bb'})\n",
    "# Selecting first percentile of synthetic accessibility scores for the MPScore.\n",
    "ecm_selected_full = df_combinations[df_combinations['rfmodel_fulldataset_combination'] < df_combinations['rfmodel_fulldataset_combination'].quantile(0.01)].drop_duplicates('bb')\n",
    "sa_selected = df_combinations[df_combinations['sascore_combination'] < df_combinations['sascore_combination'].quantile(0.01)].drop_duplicates('bb')\n",
    "sc_selected = df_combinations[df_combinations['scscore_combination'] < df_combinations['scscore_combination'].quantile(0.01)].drop_duplicates('bb')\n",
    "ecm_cages = ecm_selectedd_full[ecm_selected_full['bb'].isin(df['_id'])]\n",
    "ecm_cages = pd.merge(ecm_cages, df, left_on='bb', right_on='_id')\n",
    "sa_cages = sa_selected[sa_selected['bb'].isin(df['_id'])]\n",
    "sa_cages = pd.merge(sa_cages, df, left_on='bb', right_on='_id')\n",
    "sc_cages = sc_selected[sc_selected['bb'].isin(df['_id'])]\n",
    "sc_cages = pd.merge(sc_cages, df, left_on='bb', right_on='_id')\n",
    "sp_sc_cages = sc_cages[(sc_cages['collapsed'] == False) & (sc_cages['cavity_size'] > 1.0)]\n",
    "sp_ecm_cages = ecm_cages[(ecm_cages['collapsed'] == False) & (ecm_cages['cavity_size'] > 1.0)]\n",
    "sp_sa_cages = sa_cages[(sa_cages['collapsed'] == False) & (sa_cages['cavity_size'] > 1.0)]\n",
    "sp_random = df_random_selection[(df_random_selection['collapsed'] == False) &  (df_random_selection['cavity_size'] > 1.0)]"
   ]
  },
  {
   "cell_type": "code",
   "execution_count": 164,
   "metadata": {},
   "outputs": [
    {
     "name": "stdout",
     "output_type": "stream",
     "text": [
      "Mean of SCScore selected cages: 4.088887552912944\n",
      "Mean of SAScore selected cages: 5.913686051257162\n",
      "Mean of MPScore selected cages: 8.551653565041384\n",
      "Mean of randomly selected cages: 8.532172426858326\n",
      "Number of shape persistent from SCScore: 278\n",
      "Number of shape persistent from SAScore: 770\n",
      "Number of shape persistent from MPScore: 1632\n",
      "Number of shape persistent from control sample: 347\n",
      "\n"
     ]
    },
    {
     "data": {
      "image/png": "[encoded data removed]",
      "text/plain": [
       "<Figure size 231.631x237.6 with 1 Axes>"
      ]
     },
     "execution_count": 164,
     "metadata": {},
     "output_type": "execute_result"
    },
    {
     "data": {
      "image/png": "[encoded data removed]",
      "text/plain": [
       "<Figure size 231.631x237.6 with 1 Axes>"
      ]
     },
     "metadata": {},
     "output_type": "display_data"
    }
   ],
   "source": [
    "plot_figure_7()"
   ]
  },
  {
   "cell_type": "code",
   "execution_count": 165,
   "metadata": {},
   "outputs": [
    {
     "ename": "KeyError",
     "evalue": "'rfmodel_fulldataset'",
     "output_type": "error",
     "traceback": [
      "\u001b[0;31m---------------------------------------------------------------------------\u001b[0m",
      "\u001b[0;31mKeyError\u001b[0m                                  Traceback (most recent call last)",
      "\u001b[0;32m~/anaconda3/envs/saprojectclean/lib/python3.9/site-packages/pandas/core/indexes/base.py\u001b[0m in \u001b[0;36mget_loc\u001b[0;34m(self, key, method, tolerance)\u001b[0m\n\u001b[1;32m   3079\u001b[0m             \u001b[0;32mtry\u001b[0m\u001b[0;34m:\u001b[0m\u001b[0;34m\u001b[0m\u001b[0;34m\u001b[0m\u001b[0m\n\u001b[0;32m-> 3080\u001b[0;31m                 \u001b[0;32mreturn\u001b[0m \u001b[0mself\u001b[0m\u001b[0;34m.\u001b[0m\u001b[0m_engine\u001b[0m\u001b[0;34m.\u001b[0m\u001b[0mget_loc\u001b[0m\u001b[0;34m(\u001b[0m\u001b[0mcasted_key\u001b[0m\u001b[0;34m)\u001b[0m\u001b[0;34m\u001b[0m\u001b[0;34m\u001b[0m\u001b[0m\n\u001b[0m\u001b[1;32m   3081\u001b[0m             \u001b[0;32mexcept\u001b[0m \u001b[0mKeyError\u001b[0m \u001b[0;32mas\u001b[0m \u001b[0merr\u001b[0m\u001b[0;34m:\u001b[0m\u001b[0;34m\u001b[0m\u001b[0;34m\u001b[0m\u001b[0m\n",
      "\u001b[0;32mpandas/_libs/index.pyx\u001b[0m in \u001b[0;36mpandas._libs.index.IndexEngine.get_loc\u001b[0;34m()\u001b[0m\n",
      "\u001b[0;32mpandas/_libs/index.pyx\u001b[0m in \u001b[0;36mpandas._libs.index.IndexEngine.get_loc\u001b[0;34m()\u001b[0m\n",
      "\u001b[0;32mpandas/_libs/hashtable_class_helper.pxi\u001b[0m in \u001b[0;36mpandas._libs.hashtable.PyObjectHashTable.get_item\u001b[0;34m()\u001b[0m\n",
      "\u001b[0;32mpandas/_libs/hashtable_class_helper.pxi\u001b[0m in \u001b[0;36mpandas._libs.hashtable.PyObjectHashTable.get_item\u001b[0;34m()\u001b[0m\n",
      "\u001b[0;31mKeyError\u001b[0m: 'rfmodel_fulldataset'",
      "\nThe above exception was the direct cause of the following exception:\n",
      "\u001b[0;31mKeyError\u001b[0m                                  Traceback (most recent call last)",
      "\u001b[0;32m<ipython-input-165-e0d873367bbf>\u001b[0m in \u001b[0;36m<module>\u001b[0;34m\u001b[0m\n\u001b[0;32m----> 1\u001b[0;31m \u001b[0mdf_combinations\u001b[0m\u001b[0;34m[\u001b[0m\u001b[0mdf_combinations\u001b[0m\u001b[0;34m[\u001b[0m\u001b[0;34m'rfmodel_fulldataset'\u001b[0m\u001b[0;34m]\u001b[0m \u001b[0;34m<\u001b[0m \u001b[0mdf_combinations\u001b[0m\u001b[0;34m[\u001b[0m\u001b[0;34m'rfmodel_fulldataset'\u001b[0m\u001b[0;34m]\u001b[0m\u001b[0;34m.\u001b[0m\u001b[0mquantile\u001b[0m\u001b[0;34m(\u001b[0m\u001b[0;36m0.01\u001b[0m\u001b[0;34m)\u001b[0m\u001b[0;34m]\u001b[0m\u001b[0;34m.\u001b[0m\u001b[0mdrop_duplicates\u001b[0m\u001b[0;34m(\u001b[0m\u001b[0;34m'bb'\u001b[0m\u001b[0;34m)\u001b[0m\u001b[0;34m\u001b[0m\u001b[0;34m\u001b[0m\u001b[0m\n\u001b[0m",
      "\u001b[0;32m~/anaconda3/envs/saprojectclean/lib/python3.9/site-packages/pandas/core/frame.py\u001b[0m in \u001b[0;36m__getitem__\u001b[0;34m(self, key)\u001b[0m\n\u001b[1;32m   3022\u001b[0m             \u001b[0;32mif\u001b[0m \u001b[0mself\u001b[0m\u001b[0;34m.\u001b[0m\u001b[0mcolumns\u001b[0m\u001b[0;34m.\u001b[0m\u001b[0mnlevels\u001b[0m \u001b[0;34m>\u001b[0m \u001b[0;36m1\u001b[0m\u001b[0;34m:\u001b[0m\u001b[0;34m\u001b[0m\u001b[0;34m\u001b[0m\u001b[0m\n\u001b[1;32m   3023\u001b[0m                 \u001b[0;32mreturn\u001b[0m \u001b[0mself\u001b[0m\u001b[0;34m.\u001b[0m\u001b[0m_getitem_multilevel\u001b[0m\u001b[0;34m(\u001b[0m\u001b[0mkey\u001b[0m\u001b[0;34m)\u001b[0m\u001b[0;34m\u001b[0m\u001b[0;34m\u001b[0m\u001b[0m\n\u001b[0;32m-> 3024\u001b[0;31m             \u001b[0mindexer\u001b[0m \u001b[0;34m=\u001b[0m \u001b[0mself\u001b[0m\u001b[0;34m.\u001b[0m\u001b[0mcolumns\u001b[0m\u001b[0;34m.\u001b[0m\u001b[0mget_loc\u001b[0m\u001b[0;34m(\u001b[0m\u001b[0mkey\u001b[0m\u001b[0;34m)\u001b[0m\u001b[0;34m\u001b[0m\u001b[0;34m\u001b[0m\u001b[0m\n\u001b[0m\u001b[1;32m   3025\u001b[0m             \u001b[0;32mif\u001b[0m \u001b[0mis_integer\u001b[0m\u001b[0;34m(\u001b[0m\u001b[0mindexer\u001b[0m\u001b[0;34m)\u001b[0m\u001b[0;34m:\u001b[0m\u001b[0;34m\u001b[0m\u001b[0;34m\u001b[0m\u001b[0m\n\u001b[1;32m   3026\u001b[0m                 \u001b[0mindexer\u001b[0m \u001b[0;34m=\u001b[0m \u001b[0;34m[\u001b[0m\u001b[0mindexer\u001b[0m\u001b[0;34m]\u001b[0m\u001b[0;34m\u001b[0m\u001b[0;34m\u001b[0m\u001b[0m\n",
      "\u001b[0;32m~/anaconda3/envs/saprojectclean/lib/python3.9/site-packages/pandas/core/indexes/base.py\u001b[0m in \u001b[0;36mget_loc\u001b[0;34m(self, key, method, tolerance)\u001b[0m\n\u001b[1;32m   3080\u001b[0m                 \u001b[0;32mreturn\u001b[0m \u001b[0mself\u001b[0m\u001b[0;34m.\u001b[0m\u001b[0m_engine\u001b[0m\u001b[0;34m.\u001b[0m\u001b[0mget_loc\u001b[0m\u001b[0;34m(\u001b[0m\u001b[0mcasted_key\u001b[0m\u001b[0;34m)\u001b[0m\u001b[0;34m\u001b[0m\u001b[0;34m\u001b[0m\u001b[0m\n\u001b[1;32m   3081\u001b[0m             \u001b[0;32mexcept\u001b[0m \u001b[0mKeyError\u001b[0m \u001b[0;32mas\u001b[0m \u001b[0merr\u001b[0m\u001b[0;34m:\u001b[0m\u001b[0;34m\u001b[0m\u001b[0;34m\u001b[0m\u001b[0m\n\u001b[0;32m-> 3082\u001b[0;31m                 \u001b[0;32mraise\u001b[0m \u001b[0mKeyError\u001b[0m\u001b[0;34m(\u001b[0m\u001b[0mkey\u001b[0m\u001b[0;34m)\u001b[0m \u001b[0;32mfrom\u001b[0m \u001b[0merr\u001b[0m\u001b[0;34m\u001b[0m\u001b[0;34m\u001b[0m\u001b[0m\n\u001b[0m\u001b[1;32m   3083\u001b[0m \u001b[0;34m\u001b[0m\u001b[0m\n\u001b[1;32m   3084\u001b[0m         \u001b[0;32mif\u001b[0m \u001b[0mtolerance\u001b[0m \u001b[0;32mis\u001b[0m \u001b[0;32mnot\u001b[0m \u001b[0;32mNone\u001b[0m\u001b[0;34m:\u001b[0m\u001b[0;34m\u001b[0m\u001b[0;34m\u001b[0m\u001b[0m\n",
      "\u001b[0;31mKeyError\u001b[0m: 'rfmodel_fulldataset'"
     ]
    }
   ],
   "source": [
    "df_combinations[df_combinations['rfmodel_fulldataset'] < df_combinations['rfmodel_fulldataset'].quantile(0.01)].drop_duplicates('bb')"
   ]
  },
  {
   "cell_type": "code",
   "execution_count": 194,
   "metadata": {},
   "outputs": [
    {
     "data": {
      "text/plain": [
       "0.17783487854629404"
      ]
     },
     "execution_count": 194,
     "metadata": {},
     "output_type": "execute_result"
    }
   ],
   "source": [
    "df_combinations['sascore_combination'].quantile(0.01)"
   ]
  },
  {
   "cell_type": "code",
   "execution_count": null,
   "metadata": {},
   "outputs": [],
   "source": []
  }
 ],
 "metadata": {
  "kernelspec": {
   "display_name": "SA_Project_Clean",
   "language": "python",
   "name": "saprojectclean"
  },
  "language_info": {
   "codemirror_mode": {
    "name": "ipython",
    "version": 3
   },
   "file_extension": ".py",
   "mimetype": "text/x-python",
   "name": "python",
   "nbconvert_exporter": "python",
   "pygments_lexer": "ipython3",
   "version": "3.9.1"
  }
 },
 "nbformat": 4,
 "nbformat_minor": 4
}
